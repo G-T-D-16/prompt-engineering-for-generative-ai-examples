{
 "cells": [
  {
   "cell_type": "code",
   "metadata": {
    "ExecuteTime": {
     "end_time": "2024-10-12T08:19:01.340500Z",
     "start_time": "2024-10-12T08:19:01.030721Z"
    }
   },
   "source": [
    "from langchain_core.prompts import PromptTemplate, load_prompt\n",
    "\n",
    "prompt = PromptTemplate(\n",
    "    template=\"Translate this sentence from English to Spanish.\\nSentence: {sentence}\\nTranslation:\",\n",
    "    input_variables=[\"sentence\"],\n",
    ")"
   ],
   "outputs": [
    {
     "name": "stderr",
     "output_type": "stream",
     "text": [
      "/Users/gordontveito-duncan/Documents/GitHub/prompt-engineering-for-generative-ai-examples/venv/lib/python3.9/site-packages/urllib3/__init__.py:35: NotOpenSSLWarning: urllib3 v2 only supports OpenSSL 1.1.1+, currently the 'ssl' module is compiled with 'LibreSSL 2.8.3'. See: https://github.com/urllib3/urllib3/issues/3020\n",
      "  warnings.warn(\n"
     ]
    }
   ],
   "execution_count": 1
  },
  {
   "cell_type": "code",
   "metadata": {
    "ExecuteTime": {
     "end_time": "2024-10-12T08:19:03.773382Z",
     "start_time": "2024-10-12T08:19:03.767115Z"
    }
   },
   "source": [
    "prompt.save(\"translation_prompt.json\")"
   ],
   "outputs": [],
   "execution_count": 2
  },
  {
   "cell_type": "code",
   "metadata": {
    "ExecuteTime": {
     "end_time": "2024-10-12T08:19:11.034259Z",
     "start_time": "2024-10-12T08:19:11.027583Z"
    }
   },
   "source": [
    "# Loading the prompt template:\n",
    "load_prompt(\"translation_prompt.json\")"
   ],
   "outputs": [
    {
     "data": {
      "text/plain": [
       "PromptTemplate(input_variables=['sentence'], template='Translate this sentence from English to Spanish.\\nSentence: {sentence}\\nTranslation:')"
      ]
     },
     "execution_count": 3,
     "metadata": {},
     "output_type": "execute_result"
    }
   ],
   "execution_count": 3
  },
  {
   "metadata": {},
   "cell_type": "code",
   "outputs": [],
   "execution_count": null,
   "source": ""
  }
 ],
 "metadata": {
  "kernelspec": {
   "display_name": "base",
   "language": "python",
   "name": "python3"
  },
  "language_info": {
   "codemirror_mode": {
    "name": "ipython",
    "version": 3
   },
   "file_extension": ".py",
   "mimetype": "text/x-python",
   "name": "python",
   "nbconvert_exporter": "python",
   "pygments_lexer": "ipython3",
   "version": "3.9.13"
  },
  "orig_nbformat": 4
 },
 "nbformat": 4,
 "nbformat_minor": 2
}
