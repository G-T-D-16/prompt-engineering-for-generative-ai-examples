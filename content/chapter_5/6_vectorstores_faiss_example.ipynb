{
 "cells": [
  {
   "cell_type": "code",
   "metadata": {
    "ExecuteTime": {
     "end_time": "2024-10-25T09:04:09.598273Z",
     "start_time": "2024-10-25T09:04:08.420157Z"
    }
   },
   "source": [
    "from langchain_community.document_loaders import PyPDFLoader\n",
    "from langchain_openai import OpenAIEmbeddings\n",
    "from langchain_community.embeddings import HuggingFaceEmbeddings\n",
    "from langchain_core.documents import Document\n",
    "from langchain.text_splitter import CharacterTextSplitter\n",
    "from langchain_community.vectorstores.faiss import FAISS\n",
    "import os\n",
    "import getpass"
   ],
   "outputs": [
    {
     "name": "stderr",
     "output_type": "stream",
     "text": [
      "/Users/gordontveito-duncan/Documents/GitHub/prompt-engineering-for-generative-ai-examples/venv/lib/python3.9/site-packages/urllib3/__init__.py:35: NotOpenSSLWarning: urllib3 v2 only supports OpenSSL 1.1.1+, currently the 'ssl' module is compiled with 'LibreSSL 2.8.3'. See: https://github.com/urllib3/urllib3/issues/3020\n",
      "  warnings.warn(\n"
     ]
    }
   ],
   "execution_count": 1
  },
  {
   "cell_type": "code",
   "metadata": {
    "ExecuteTime": {
     "end_time": "2024-10-25T09:04:17.738316Z",
     "start_time": "2024-10-25T09:04:09.599341Z"
    }
   },
   "source": [
    "os.environ[\"OPENAI_API_KEY\"] = getpass.getpass(\"Enter in your OpenAI API Key pretty please:\")\n",
    "\n",
    "# Loader = PyPDFLoader(\"data/principles_of_marketing_book.pdf\") # If the file was local\n",
    "loader = PyPDFLoader(\n",
    "    \"https://storage.googleapis.com/strapi_cms_assets/principles_of_marketing_book.pdf\"\n",
    ")\n",
    "raw_documents = loader.load_and_split()\n",
    "print(raw_documents[0])"
   ],
   "outputs": [
    {
     "name": "stdout",
     "output_type": "stream",
     "text": [
      "page_content='Principles of Mark eting' metadata={'source': 'https://storage.googleapis.com/strapi_cms_assets/principles_of_marketing_book.pdf', 'page': 0}\n"
     ]
    }
   ],
   "execution_count": 2
  },
  {
   "cell_type": "code",
   "metadata": {
    "ExecuteTime": {
     "end_time": "2024-10-25T09:04:17.742039Z",
     "start_time": "2024-10-25T09:04:17.738934Z"
    }
   },
   "source": [
    "len(raw_documents)"
   ],
   "outputs": [
    {
     "data": {
      "text/plain": [
       "501"
      ]
     },
     "execution_count": 3,
     "metadata": {},
     "output_type": "execute_result"
    }
   ],
   "execution_count": 3
  },
  {
   "cell_type": "code",
   "metadata": {
    "ExecuteTime": {
     "end_time": "2024-10-25T09:04:17.744249Z",
     "start_time": "2024-10-25T09:04:17.742655Z"
    }
   },
   "source": [
    "# Let's just use the first 100 documents for this example:\n",
    "raw_documents = raw_documents[:100]"
   ],
   "outputs": [],
   "execution_count": 4
  },
  {
   "cell_type": "code",
   "metadata": {
    "ExecuteTime": {
     "end_time": "2024-10-25T09:04:20.878602Z",
     "start_time": "2024-10-25T09:04:17.745549Z"
    }
   },
   "source": [
    "# Load the marketing principles .pdf, split it into chunks, embed each chunk and load it into the vector store.\n",
    "text_splitter = CharacterTextSplitter(chunk_size=1000, chunk_overlap=0)\n",
    "documents = text_splitter.split_documents(raw_documents)\n",
    "# You can use OpenSource embeddings instead of OpenAIEmbeddings --> embeddings = HuggingFaceEmbeddings()\n",
    "embeddings = OpenAIEmbeddings()\n",
    "db = FAISS.from_documents(documents, embeddings)"
   ],
   "outputs": [],
   "execution_count": 5
  },
  {
   "cell_type": "code",
   "metadata": {
    "ExecuteTime": {
     "end_time": "2024-10-25T09:04:20.881848Z",
     "start_time": "2024-10-25T09:04:20.879451Z"
    }
   },
   "source": [
    "db"
   ],
   "outputs": [
    {
     "data": {
      "text/plain": [
       "<langchain_community.vectorstores.faiss.FAISS at 0x139d60250>"
      ]
     },
     "execution_count": 6,
     "metadata": {},
     "output_type": "execute_result"
    }
   ],
   "execution_count": 6
  },
  {
   "cell_type": "code",
   "metadata": {
    "ExecuteTime": {
     "end_time": "2024-10-25T09:04:21.179782Z",
     "start_time": "2024-10-25T09:04:20.882422Z"
    }
   },
   "source": [
    "query = \"What is the license used within the principles of marketing book?\"\n",
    "docs = db.similarity_search(query)\n",
    "print(docs[0].page_content)"
   ],
   "outputs": [
    {
     "name": "stdout",
     "output_type": "stream",
     "text": [
      "Principles of Marketing by University of Minnesota is licensed under a Creative Commons Attribution-NonCommer cial-Shar eAlike 4.0\n",
      "International License , except wher e otherwise noted.\n"
     ]
    }
   ],
   "execution_count": 7
  },
  {
   "attachments": {},
   "cell_type": "markdown",
   "metadata": {},
   "source": [
    "# Building a simple QA retrieval system using FAISS\n"
   ]
  },
  {
   "attachments": {},
   "cell_type": "markdown",
   "metadata": {},
   "source": [
    "By combining similarity search across a vector database with a chat model, you can easily create a very simple question answering (QA) system. Expanding on the GPT best practices to avoid hallucinations by asking the chat model to only answer using reference text from the database, you can create a simple system that can answer questions about a specific topic.\n"
   ]
  },
  {
   "cell_type": "code",
   "metadata": {
    "ExecuteTime": {
     "end_time": "2024-10-25T09:04:23.844466Z",
     "start_time": "2024-10-25T09:04:21.180719Z"
    }
   },
   "source": [
    "from langchain_openai.chat_models import ChatOpenAI\n",
    "from langchain_core.prompts.chat import SystemMessagePromptTemplate, ChatPromptTemplate\n",
    "\n",
    "query = \"License used within the principles of marketing book\"\n",
    "docs = db.similarity_search(query)\n",
    "\n",
    "# Combine all of the docs into a single string:\n",
    "combined_docs = \" \".join([doc.page_content for doc in docs])\n",
    "\n",
    "# Check the length of the combined docs:\n",
    "print(len(combined_docs))\n",
    "\n",
    "# Create the chat model:\n",
    "chat = ChatOpenAI()\n",
    "\n",
    "template = \"\"\"Given the following text, answer the following question.\n",
    "        Question: {question}\n",
    "        \n",
    "        You must follow the following principles:\n",
    "        - You must only answer using the reference text provided.\n",
    "        - If you don't the answer without the reference text, you must return \"I don't know\".\n",
    "        - It is vital that you return the answer with the reference text and not without.\n",
    "\n",
    "        Reference Text: {combined_docs}\"\"\"\n",
    "\n",
    "# Make the template:\n",
    "system_message = SystemMessagePromptTemplate.from_template(template)\n",
    "chat_prompt = ChatPromptTemplate.from_messages([system_message])\n",
    "\n",
    "# Create the messages:\n",
    "query = \"What is the license used within the principles of marketing book?\"\n",
    "messages = chat_prompt.format_prompt(\n",
    "    question=query, combined_docs=combined_docs\n",
    ").to_messages()\n",
    "\n",
    "# Call the chat model:\n",
    "response = chat(messages)\n",
    "print(response.content)\n",
    "\n",
    "# Alternatively if we try something that the LLM doesn't have access too within the .pdf marketing book:\n",
    "query = \"What is data science?\"\n",
    "messages = chat_prompt.format_prompt(\n",
    "    question=query, combined_docs=combined_docs\n",
    ").to_messages()\n",
    "\n",
    "# Call the chat model:\n",
    "response = chat.invoke(messages)\n",
    "print(response.content)"
   ],
   "outputs": [
    {
     "name": "stdout",
     "output_type": "stream",
     "text": [
      "1253\n"
     ]
    },
    {
     "name": "stderr",
     "output_type": "stream",
     "text": [
      "/var/folders/0k/3rxx7x4x7_7f028m32kgbqzh0000gn/T/ipykernel_16289/4238604084.py:37: LangChainDeprecationWarning: The method `BaseChatModel.__call__` was deprecated in langchain-core 0.1.7 and will be removed in 1.0. Use :meth:`~invoke` instead.\n",
      "  response = chat(messages)\n"
     ]
    },
    {
     "name": "stdout",
     "output_type": "stream",
     "text": [
      "The license used within the Principles of Marketing book is a Creative Commons Attribution-NonCommercial-ShareAlike 4.0 International License.\n",
      "Data science is not mentioned in the provided reference text. Therefore, I don't know.\n"
     ]
    }
   ],
   "execution_count": 8
  },
  {
   "attachments": {},
   "cell_type": "markdown",
   "metadata": {},
   "source": [
    "---\n"
   ]
  },
  {
   "attachments": {},
   "cell_type": "markdown",
   "metadata": {},
   "source": [
    "It's possible write the above code in a simpler way with _a chain_. For now think of a chain as a _multiple steps that are executed to accomplish a task_. Additionally you will use the vector database as your back end for searching results, commonly referred to as a _retriever._\n"
   ]
  },
  {
   "cell_type": "code",
   "metadata": {
    "ExecuteTime": {
     "end_time": "2024-10-25T09:04:23.858942Z",
     "start_time": "2024-10-25T09:04:23.850436Z"
    }
   },
   "source": [
    "db.as_retriever()"
   ],
   "outputs": [
    {
     "data": {
      "text/plain": [
       "VectorStoreRetriever(tags=['FAISS', 'OpenAIEmbeddings'], vectorstore=<langchain_community.vectorstores.faiss.FAISS object at 0x139d60250>, search_kwargs={})"
      ]
     },
     "execution_count": 9,
     "metadata": {},
     "output_type": "execute_result"
    }
   ],
   "execution_count": 9
  },
  {
   "cell_type": "code",
   "metadata": {
    "ExecuteTime": {
     "end_time": "2024-10-25T09:04:26.891601Z",
     "start_time": "2024-10-25T09:04:23.860354Z"
    }
   },
   "source": [
    "from langchain.chains import RetrievalQA\n",
    "\n",
    "qa = RetrievalQA.from_chain_type(\n",
    "    llm=chat,\n",
    "    chain_type=\"map_reduce\",\n",
    "    retriever=db.as_retriever(),\n",
    "    return_source_documents=True,\n",
    ")\n",
    "#qa.invoke({\"query\": \"What is book's title?\"})\n",
    "\n",
    "qa.invoke({\"query\": \"What is book's title?\"})"
   ],
   "outputs": [
    {
     "name": "stderr",
     "output_type": "stream",
     "text": [
      "/Users/gordontveito-duncan/Documents/GitHub/prompt-engineering-for-generative-ai-examples/venv/lib/python3.9/site-packages/langchain_openai/chat_models/base.py:369: UserWarning: Unexpected type for token usage: <class 'NoneType'>\n",
      "  warnings.warn(f\"Unexpected type for token usage: {type(new_usage)}\")\n"
     ]
    },
    {
     "data": {
      "text/plain": [
       "{'query': \"What is book's title?\",\n",
       " 'result': \"The book's title is not provided in the excerpt provided.\",\n",
       " 'source_documents': [Document(metadata={'source': 'https://storage.googleapis.com/strapi_cms_assets/principles_of_marketing_book.pdf', 'page': 1}, page_content='Principles of Mark eting\\n[Author remo ved atrequest oforiginal publisher]\\nUNIVERSITY OF MINNESO TALIBRARIES PUBLISHING EDITION, 2015. THIS EDITION AD APTED\\nFROM AWORK ORIGINALL YPRODUCED IN 2010 BY APUBLISHER WHO HAS REQUESTED THA TIT\\nNO TRECEIVE ATTRIBUTION.\\nMINNEAPOLIS, MN'),\n",
       "  Document(metadata={'source': 'https://storage.googleapis.com/strapi_cms_assets/principles_of_marketing_book.pdf', 'page': 8}, page_content='Publisher Information\\nPrinciples of Marketing is adapted\\nfrom a work produced and distributed\\nunder a Creative Commons license\\n(CC BY -NC-SA) in 2010 by a\\npublisher who has requested that they\\nand the original author not receive\\nattribution. This adapted edition is\\nproduced by the University of Minnesota Libraries Publishing through the eLearning Support Initiative.\\nThis adaptation has reformatted the original text, and replaced some images and figures to make the resulting\\nwhole more shareable. This adaptation has not significantly altered or updated the original 2010 text. This work\\nis made available under the terms of a Creative Commons Attribution-NonCommercial-ShareAlike license .\\nFor questions about this textbook please contact textbookuse@umn.edu\\nix'),\n",
       "  Document(metadata={'source': 'https://storage.googleapis.com/strapi_cms_assets/principles_of_marketing_book.pdf', 'page': 0}, page_content='Principles of Mark eting'),\n",
       "  Document(metadata={'source': 'https://storage.googleapis.com/strapi_cms_assets/principles_of_marketing_book.pdf', 'page': 9}, page_content='Chapter 1: What is Mark eting?\\n1.1 Defining Marketing\\n1.2 Who Does Marketing?\\n1.3 Why Study Marketing?\\n1.4 Themes and Or ganization of This Book\\n1.5 Discussion Questions and Activities\\n1')]}"
      ]
     },
     "execution_count": 10,
     "metadata": {},
     "output_type": "execute_result"
    }
   ],
   "execution_count": 10
  },
  {
   "attachments": {},
   "cell_type": "markdown",
   "metadata": {},
   "source": [
    "You can find more information about Document QA retrieval here https://python.langchain.com/docs/modules/chains/additional/question_answering.html.\n"
   ]
  },
  {
   "attachments": {},
   "cell_type": "markdown",
   "metadata": {},
   "source": [
    "---\n",
    "\n",
    "# Similarity Search with score\n"
   ]
  },
  {
   "attachments": {},
   "cell_type": "markdown",
   "metadata": {},
   "source": [
    "FAISS-specific techniques exist, one of which is termed as `.similarity_search_with_score`. This particular method permits the retrieval of not only the corresponding documents but also the distance measure between the query and the said documents. The returned distance measure utilizes L2 distance, where a smaller score is a better match.\n"
   ]
  },
  {
   "cell_type": "code",
   "metadata": {
    "ExecuteTime": {
     "end_time": "2024-10-25T09:04:27.127873Z",
     "start_time": "2024-10-25T09:04:26.893232Z"
    }
   },
   "source": [
    "query = \"What is the license used within the principles of marketing book?\"\n",
    "docs_and_scores = db.similarity_search_with_score(query=query)"
   ],
   "outputs": [],
   "execution_count": 11
  },
  {
   "cell_type": "code",
   "metadata": {
    "ExecuteTime": {
     "end_time": "2024-10-25T09:04:27.132094Z",
     "start_time": "2024-10-25T09:04:27.128927Z"
    }
   },
   "source": [
    "docs_and_scores"
   ],
   "outputs": [
    {
     "data": {
      "text/plain": [
       "[(Document(metadata={'source': 'https://storage.googleapis.com/strapi_cms_assets/principles_of_marketing_book.pdf', 'page': 2}, page_content='Principles of Marketing by University of Minnesota is licensed under a Creative Commons Attribution-NonCommer cial-Shar eAlike 4.0\\nInternational License , except wher e otherwise noted.'),\n",
       "  0.22802575),\n",
       " (Document(metadata={'source': 'https://storage.googleapis.com/strapi_cms_assets/principles_of_marketing_book.pdf', 'page': 8}, page_content='Publisher Information\\nPrinciples of Marketing is adapted\\nfrom a work produced and distributed\\nunder a Creative Commons license\\n(CC BY -NC-SA) in 2010 by a\\npublisher who has requested that they\\nand the original author not receive\\nattribution. This adapted edition is\\nproduced by the University of Minnesota Libraries Publishing through the eLearning Support Initiative.\\nThis adaptation has reformatted the original text, and replaced some images and figures to make the resulting\\nwhole more shareable. This adaptation has not significantly altered or updated the original 2010 text. This work\\nis made available under the terms of a Creative Commons Attribution-NonCommercial-ShareAlike license .\\nFor questions about this textbook please contact textbookuse@umn.edu\\nix'),\n",
       "  0.23621719),\n",
       " (Document(metadata={'source': 'https://storage.googleapis.com/strapi_cms_assets/principles_of_marketing_book.pdf', 'page': 1}, page_content='Principles of Mark eting\\n[Author remo ved atrequest oforiginal publisher]\\nUNIVERSITY OF MINNESO TALIBRARIES PUBLISHING EDITION, 2015. THIS EDITION AD APTED\\nFROM AWORK ORIGINALL YPRODUCED IN 2010 BY APUBLISHER WHO HAS REQUESTED THA TIT\\nNO TRECEIVE ATTRIBUTION.\\nMINNEAPOLIS, MN'),\n",
       "  0.3636674),\n",
       " (Document(metadata={'source': 'https://storage.googleapis.com/strapi_cms_assets/principles_of_marketing_book.pdf', 'page': 0}, page_content='Principles of Mark eting'),\n",
       "  0.382932)]"
      ]
     },
     "execution_count": 12,
     "metadata": {},
     "output_type": "execute_result"
    }
   ],
   "execution_count": 12
  },
  {
   "attachments": {},
   "cell_type": "markdown",
   "metadata": {},
   "source": [
    "It's possible to add documents to the FAISS vector store.\n"
   ]
  },
  {
   "cell_type": "code",
   "metadata": {
    "ExecuteTime": {
     "end_time": "2024-10-25T09:04:27.135190Z",
     "start_time": "2024-10-25T09:04:27.132996Z"
    }
   },
   "source": [
    "new_documents = [\n",
    "    Document(\n",
    "        page_content=\"Data engineering begins with data collection. Often, data streams in from multiple sources, such as customer interactions, website activity, social media, IoT devices, and more.\",\n",
    "        metadata={\"title\": \"Data Engineering Book\"},\n",
    "    ),\n",
    "    Document(\n",
    "        page_content=\"Pandas is a popular open-source Python library widely used for data manipulation and analysis. It provides powerful data structures like DataFrames and Series, which allow users to handle and analyze structured data easily. \",\n",
    "        metadata={\"title\": \"Pandas Analysis Book\"},\n",
    "    ),\n",
    "]"
   ],
   "outputs": [],
   "execution_count": 13
  },
  {
   "cell_type": "code",
   "metadata": {
    "ExecuteTime": {
     "end_time": "2024-10-25T09:04:27.845010Z",
     "start_time": "2024-10-25T09:04:27.137888Z"
    }
   },
   "source": [
    "db.add_documents(documents=new_documents)"
   ],
   "outputs": [
    {
     "data": {
      "text/plain": [
       "['7a377453-7402-4fc5-a7b5-ef9a44e01aba',\n",
       " 'fc29ac39-3cf6-4f10-8b3b-ded31fee82ca']"
      ]
     },
     "execution_count": 14,
     "metadata": {},
     "output_type": "execute_result"
    }
   ],
   "execution_count": 14
  },
  {
   "cell_type": "code",
   "metadata": {
    "ExecuteTime": {
     "end_time": "2024-10-25T09:04:28.051903Z",
     "start_time": "2024-10-25T09:04:27.846119Z"
    }
   },
   "source": [
    "# Now if you search for pandas you should see the new documents in the results.\n",
    "db.similarity_search_with_score(query=\"pandas\")"
   ],
   "outputs": [
    {
     "data": {
      "text/plain": [
       "[(Document(metadata={'title': 'Pandas Analysis Book'}, page_content='Pandas is a popular open-source Python library widely used for data manipulation and analysis. It provides powerful data structures like DataFrames and Series, which allow users to handle and analyze structured data easily. '),\n",
       "  0.22049755),\n",
       " (Document(metadata={'source': 'https://storage.googleapis.com/strapi_cms_assets/principles_of_marketing_book.pdf', 'page': 91}, page_content='Figure 3.1 1\\nThe hike up to Mount Everest used to be pristine. Now it looks\\nmore like this. Who’ s responsible? Are consumers or companies\\nresponsible, or both?\\njqpubliq – Recycling Center Pile – CC BY -SA 2.0.\\nOther companies are less concerned about conservation than they are about planned obsolescence . Planned\\nobsolescence is a deliberate ef fort by companies to make their products obsolete, or unusable, after a period of\\ntime. The goal is to improve a company’ s sales by reducing the amount of time between the repeat purchases\\nconsumers make of products. When a software developer introduces a new version of product, it is usually\\ndesigned to be incompatible with older versions of it. For example, not all the formatting features are the same\\nin Microsoft W ord 2007 and 2010. Sometimes documents do not translate properly when opened in the newer\\nversion. Consequently , you will be more inclined to upgrade to the new version so you can open all W ord\\ndocuments you receive.\\nProducts that are disposable are another way in which firms have managed to reduce the amount of time between\\npurchases. Disposable lighters are an example. Do you know anyone today that owns a nondisposable lighter?\\nBelieve it or not, prior to the 1960s, scarcely anyone could have imagined using a cheap disposable lighter . There\\nare many more disposable products today than there were in years past—including everything from bottled water\\nand individually wrapped snacks to single-use eye drops and cell phones.\\nFigure 3.1283 Principles ofMark eting'),\n",
       "  0.5049572),\n",
       " (Document(metadata={'source': 'https://storage.googleapis.com/strapi_cms_assets/principles_of_marketing_book.pdf', 'page': 44}, page_content='The P olitical and L egal En vironment\\nAll or ganizations must comply with government regulations and understand the political and legal environments\\nin which they do business. Dif ferent government agencies enforce the numerous regulations that have been\\nestablished to protect both consumers and businesses. For example, the Sherman Act (1890) prohibits U.S.\\nfirms from restraining trade by creating monopolies and cartels. The regulations related to the act are enforced\\nby the Federal T rade Commission (FTC), which also regulates deceptive advertising. The U.S. Food and\\nDrug Administration (FDA) regulates the labeling of consumable products, such as food and medicine. One\\norganization that has been extremely busy is the Consumer Product Safety Commission, the group that sets\\nsafety standards for consumer products. Unsafe baby formula and toys with lead paint caused a big scare among\\nconsumers in 2008 and 2009.\\nFigure 2.7\\nThe U.S. Food and Drug Administration prohibits companies from using unacceptable levels of lead in\\ntoys and other household objects, such as utensils and furniture. Mattel voluntarily recalled Sar ge cars\\nmade in mid-2000.\\nU.S. Consumer Product Safety Commission – public domain.\\nAs we have explained, when or ganizations conduct business in multiple markets, they must understand that\\nregulations vary across countries and across states. Many states and countries have dif ferent laws that af fect\\nstrategy . For example, suppose you are opening up a new factory because you cannot keep up with the demand\\nfor your products. If you are considering opening the factory in France (perhaps because the demand in Europe\\nfor your product is strong), you need to know that it is illegal for employees in that country to work more than\\nthirty-five hours per week.2.2 Components ofthe Strategic Planning Process 36'),\n",
       "  0.51088566),\n",
       " (Document(metadata={'source': 'https://storage.googleapis.com/strapi_cms_assets/principles_of_marketing_book.pdf', 'page': 40}, page_content='capitalize on opportunities and develop their competitive advantage. For example, strengths for PepsiCo are what\\nare called “mega” brands, or brands that individually generate over $1 billion in sales1. These brands are also\\ndesigned to contribute to PepsiCo’ s environmental and social responsibilities.\\nPepsiCo’ s brand awareness, profitability , and strong presence in global markets are also strengths. Especially in\\nforeign markets, the loyalty of a firm’ s employees can be a major strength, which can provide it with a competitive\\nadvantage. Loyal and knowledgeable employees are easier to train and tend to develop better relationships with\\ncustomers. This helps or ganizations pursue more opportunities.\\nAlthough the brand awareness for PepsiCo’ s products is strong, smaller companies often struggle with weaknesses\\nsuch as low brand awareness, low financial reserves, and poor locations. When or ganizations assess their internal\\nenvironments, they must look at factors such as performance and costs as well as brand awareness and location.\\nManagers need to examine both the past and current strategies of their firms and determine what strategies\\nsucceeded and which ones failed. This helps a company plan its future actions and improves the odds they will\\nbe successful. For example, a company might look at packaging that worked very well for a product and use the\\nsame type of packaging for new products. Firms may also look at customers’ reactions to changes in products,\\nincluding packaging, to see what works and doesn’ t work. When PepsiCo changed the packaging of major brands\\nin 2008, customers had mixed responses. T ropicana switched from the familiar orange with the straw in it to a\\nnew package and customers did not like it. As a result, T ropicana changed back to their familiar orange with a\\nstraw after spending $35 million for the new package design.\\nVideo Clip\\nTropicana’ s Recent Ad\\n\" href=\"http://www .youtube.com/watch?v=LDnkqlnhGGI\" class=\"replaced-iframe\" data-\\nurl=\"http://www .youtube.com/watch?v=LDnkqlnhGGI\">(click to see video)\\nTropicana’ s recent ad left out the familiar orange with a straw .\\nIndividuals are also wise to look at the strategies they have tried in the past to see which ones failed and which\\nones succeeded. Have you ever done poorly on an exam? W as it the instructor ’s fault, the strategy you used to\\nstudy , or did you decide not to study? See which strategies work best for you and perhaps try the same type of\\nstrategies for future exams. If a strategy did not work, see what went wrong and change it. Doing so is similar to\\nwhat or ganizations do when they analyze their internal environments.\\nAssessing the External En vironment\\nAnalyzing the external environment involves tracking conditions in the macro and micro marketplace that,\\nalthough lar gely uncontrollable, af fect the way an or ganization does business. The macro environment includes\\neconomic factors, demographic trends, cultural and social trends, political and legal regulations, technological\\nchanges, and the price and availability of natural resources. Each factor in the macro environment is discussed\\nseparately in the next section. The micro environment includes competition, suppliers, marketing intermediaries\\n(retailers, wholesalers), the public, the company , and customers. W e focus on competition in our discussion of the\\nexternal environment in the chapter . Customers, including the public will be the focus of Chapter 3 “Consumer2.2 Components ofthe Strategic Planning Process 32'),\n",
       "  0.5134113)]"
      ]
     },
     "execution_count": 15,
     "metadata": {},
     "output_type": "execute_result"
    }
   ],
   "execution_count": 15
  },
  {
   "attachments": {},
   "cell_type": "markdown",
   "metadata": {},
   "source": [
    "---\n",
    "\n",
    "# Loading and Saving the Vector Store\n"
   ]
  },
  {
   "cell_type": "code",
   "metadata": {
    "ExecuteTime": {
     "end_time": "2024-10-25T09:04:28.064043Z",
     "start_time": "2024-10-25T09:04:28.055027Z"
    }
   },
   "source": [
    "db.save_local(\n",
    "    \"data/vectorstore\"\n",
    ")  # This creates a index.faiss and index.pkl file in the data/vectorstore directory."
   ],
   "outputs": [],
   "execution_count": 16
  },
  {
   "cell_type": "code",
   "metadata": {
    "ExecuteTime": {
     "end_time": "2024-10-25T09:04:28.276782Z",
     "start_time": "2024-10-25T09:04:28.065035Z"
    }
   },
   "source": [
    "new_db = FAISS.load_local(\"data/vectorstore\", embeddings, allow_dangerous_deserialization=True)\n",
    "\n",
    "docs = new_db.similarity_search_with_score(query=\"pandas\")\n",
    "\n",
    "print(docs[0])"
   ],
   "outputs": [
    {
     "name": "stdout",
     "output_type": "stream",
     "text": [
      "(Document(metadata={'title': 'Pandas Analysis Book'}, page_content='Pandas is a popular open-source Python library widely used for data manipulation and analysis. It provides powerful data structures like DataFrames and Series, which allow users to handle and analyze structured data easily. '), 0.22049755)\n"
     ]
    }
   ],
   "execution_count": 17
  },
  {
   "cell_type": "code",
   "metadata": {
    "ExecuteTime": {
     "end_time": "2024-10-25T09:04:29.470759Z",
     "start_time": "2024-10-25T09:04:28.280083Z"
    }
   },
   "source": [
    "# Merging two indexes together:\n",
    "documents = [\n",
    "    Document(\n",
    "        page_content=\"I love data engineering\",\n",
    "        metadata={\"title\": \"Data Engineering Book\"},\n",
    "    ),\n",
    "    Document(\n",
    "        page_content=\"I love pandas\",\n",
    "        metadata={\"title\": \"Pandas Analysis Book\"},\n",
    "    ),\n",
    "]\n",
    "\n",
    "\n",
    "vectorstore_one = FAISS.from_documents([documents[0]], embeddings)\n",
    "vectorstore_two = FAISS.from_documents([documents[1]], embeddings)"
   ],
   "outputs": [],
   "execution_count": 18
  },
  {
   "cell_type": "code",
   "metadata": {
    "ExecuteTime": {
     "end_time": "2024-10-25T09:04:29.480985Z",
     "start_time": "2024-10-25T09:04:29.472631Z"
    }
   },
   "source": [
    "print(vectorstore_one.docstore._dict)\n",
    "print(vectorstore_two.docstore._dict)"
   ],
   "outputs": [
    {
     "name": "stdout",
     "output_type": "stream",
     "text": [
      "{'be22d79e-2015-41a7-ba52-95278830ba65': Document(metadata={'title': 'Data Engineering Book'}, page_content='I love data engineering')}\n",
      "{'a62c062f-b1a5-4bf4-abea-568dc95ecf9d': Document(metadata={'title': 'Pandas Analysis Book'}, page_content='I love pandas')}\n"
     ]
    }
   ],
   "execution_count": 19
  },
  {
   "cell_type": "code",
   "metadata": {
    "ExecuteTime": {
     "end_time": "2024-10-25T09:04:29.487795Z",
     "start_time": "2024-10-25T09:04:29.483568Z"
    }
   },
   "source": [
    "vectorstore_one.merge_from(vectorstore_two)"
   ],
   "outputs": [],
   "execution_count": 20
  },
  {
   "cell_type": "code",
   "metadata": {
    "ExecuteTime": {
     "end_time": "2024-10-25T09:04:29.492762Z",
     "start_time": "2024-10-25T09:04:29.489525Z"
    }
   },
   "source": [
    "print(vectorstore_one.docstore._dict)"
   ],
   "outputs": [
    {
     "name": "stdout",
     "output_type": "stream",
     "text": [
      "{'be22d79e-2015-41a7-ba52-95278830ba65': Document(metadata={'title': 'Data Engineering Book'}, page_content='I love data engineering'), 'a62c062f-b1a5-4bf4-abea-568dc95ecf9d': Document(metadata={'title': 'Pandas Analysis Book'}, page_content='I love pandas')}\n"
     ]
    }
   ],
   "execution_count": 21
  },
  {
   "attachments": {},
   "cell_type": "markdown",
   "metadata": {},
   "source": [
    "---\n",
    "\n",
    "# Filtering and Similarity Search"
   ]
  },
  {
   "attachments": {},
   "cell_type": "markdown",
   "metadata": {},
   "source": [
    "The capability to filter is also available in the FAISS vectorstore. However, since FAISS does not inherently support this feature, it requires manual implementation. This process entails initially retrieving more results than `k`, followed by their filtration. Document filtration can be executed based on metadata. Additionally, you have the option to determine the quantity of documents you wish to fetch prior to filtering by setting the `fetch_k` parameter during any search method invocation. To illustrate, consider the following minor example:\n"
   ]
  },
  {
   "cell_type": "code",
   "metadata": {
    "ExecuteTime": {
     "end_time": "2024-10-25T09:04:30.073853Z",
     "start_time": "2024-10-25T09:04:29.493829Z"
    }
   },
   "source": [
    "from langchain_core.documents import Document\n",
    "\n",
    "# Sample list of data engineering documents with content and metadata\n",
    "documents = [\n",
    "    Document(\n",
    "        page_content=\"Data engineering involves designing data pipelines.\",\n",
    "        metadata=dict(page=1),\n",
    "    ),\n",
    "    Document(\n",
    "        page_content=\"ETL is a key process in data engineering workflows.\",\n",
    "        metadata=dict(page=1),\n",
    "    ),\n",
    "    Document(\n",
    "        page_content=\"Data modeling ensures data integrity and accessibility.\",\n",
    "        metadata=dict(page=2),\n",
    "    ),\n",
    "    Document(\n",
    "        page_content=\"Data warehouses are centralized repositories for structured data.\",\n",
    "        metadata=dict(page=2),\n",
    "    ),\n",
    "    Document(\n",
    "        page_content=\"Scalability and performance are crucial in data engineering.\",\n",
    "        metadata=dict(page=3),\n",
    "    ),\n",
    "    Document(\n",
    "        page_content=\"Data lakes store raw data for future processing and analysis.\",\n",
    "        metadata=dict(page=3),\n",
    "    ),\n",
    "    Document(\n",
    "        page_content=\"Data governance ensures data security and compliance.\",\n",
    "        metadata=dict(page=4),\n",
    "    ),\n",
    "    Document(\n",
    "        page_content=\"Data science and data engineering collaborate for data insights.\",\n",
    "        metadata=dict(page=4),\n",
    "    ),\n",
    "]\n",
    "\n",
    "db = FAISS.from_documents(documents=documents, embedding=embeddings)\n",
    "results_with_scores = db.similarity_search_with_score(\n",
    "    \"data engineering\", k=2, fetch_k=20, filter={\"page\": 1}\n",
    ")  # Fetch top 20 results and return top 2 results with scores, filtered by page 1\n",
    "for doc, score in results_with_scores:\n",
    "    print(f\"Content: {doc.page_content}, Metadata: {doc.metadata}, Score: {score}\")"
   ],
   "outputs": [
    {
     "name": "stdout",
     "output_type": "stream",
     "text": [
      "Content: Data engineering involves designing data pipelines., Metadata: {'page': 1}, Score: 0.1363007128238678\n",
      "Content: ETL is a key process in data engineering workflows., Metadata: {'page': 1}, Score: 0.25524455308914185\n"
     ]
    }
   ],
   "execution_count": 22
  },
  {
   "attachments": {},
   "cell_type": "markdown",
   "metadata": {},
   "source": [
    "---\n",
    "\n",
    "# Maximal Marginal Relevance (MMR)\n",
    "\n",
    "Maximal Marginal Relevance (MMR) search is an algorithm used to diversify the results obtained from an information retrieval system. It was introduced to address the issue of redundancy in information retrieval results.\n",
    "\n",
    "In the context of generative AI models like GPT-4, an MMR search would strive to balance the trade-off between relevance (how closely the response matches the prompt) and novelty (how different each response is from the others).\n",
    "\n",
    "The MMR algorithm works by iteratively selecting the item that maximizes a certain criterion, typically a weighted combination of relevance to the query and dissimilarity to the already selected items. The main idea is to re-rank the list of items retrieved by an initial search in order to promote diversity.\n",
    "\n",
    "It's possible to use MMR whilst searching on a vector database:\n"
   ]
  },
  {
   "cell_type": "code",
   "metadata": {
    "ExecuteTime": {
     "end_time": "2024-10-25T09:04:30.478463Z",
     "start_time": "2024-10-25T09:04:30.075605Z"
    }
   },
   "source": [
    "results = db.max_marginal_relevance_search(\"data engineering\", filter=dict(page=1))\n",
    "for doc in results:\n",
    "    print(f\"Content: {doc.page_content}, Metadata: {doc.metadata}\")"
   ],
   "outputs": [
    {
     "name": "stdout",
     "output_type": "stream",
     "text": [
      "Content: Data engineering involves designing data pipelines., Metadata: {'page': 1}\n",
      "Content: ETL is a key process in data engineering workflows., Metadata: {'page': 1}\n"
     ]
    }
   ],
   "execution_count": 23
  },
  {
   "metadata": {
    "ExecuteTime": {
     "end_time": "2024-10-25T09:04:30.484207Z",
     "start_time": "2024-10-25T09:04:30.480985Z"
    }
   },
   "cell_type": "code",
   "source": "",
   "outputs": [],
   "execution_count": 23
  }
 ],
 "metadata": {
  "kernelspec": {
   "display_name": "base",
   "language": "python",
   "name": "python3"
  },
  "language_info": {
   "codemirror_mode": {
    "name": "ipython",
    "version": 3
   },
   "file_extension": ".py",
   "mimetype": "text/x-python",
   "name": "python",
   "nbconvert_exporter": "python",
   "pygments_lexer": "ipython3",
   "version": "3.9.13"
  },
  "orig_nbformat": 4
 },
 "nbformat": 4,
 "nbformat_minor": 2
}
