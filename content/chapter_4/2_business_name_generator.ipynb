{
 "cells": [
  {
   "cell_type": "code",
   "metadata": {
    "ExecuteTime": {
     "end_time": "2024-10-11T11:23:11.885870Z",
     "start_time": "2024-10-11T11:23:11.853202Z"
    }
   },
   "source": [
    "from langchain_openai.chat_models import ChatOpenAI\n",
    "from langchain_core.prompts import SystemMessagePromptTemplate, ChatPromptTemplate\n",
    "import os\n",
    "from dotenv import load_dotenv\n",
    "\n",
    "# Load environment variables from .env file\n",
    "load_dotenv()"
   ],
   "outputs": [
    {
     "data": {
      "text/plain": [
       "True"
      ]
     },
     "execution_count": 4,
     "metadata": {},
     "output_type": "execute_result"
    }
   ],
   "execution_count": 4
  },
  {
   "cell_type": "code",
   "metadata": {
    "ExecuteTime": {
     "end_time": "2024-10-11T11:23:19.550462Z",
     "start_time": "2024-10-11T11:23:19.517079Z"
    }
   },
   "source": [
    "template = \"\"\"\n",
    "You are a creative consultant brainstorming names for businesses.\n",
    "\n",
    "You must follow the following principles:\n",
    "{principles}\n",
    "\n",
    "Please generate a numerical list of 5 catchy names for a start-up in the {industry} industry that deals with {context}?\n",
    "\n",
    "Here is an example of the format:\n",
    "1. Name1\n",
    "2. Name2\n",
    "3. Name3\n",
    "4. Name4\n",
    "5. Name5\n",
    "\"\"\"\n",
    "\n",
    "model = ChatOpenAI()\n",
    "system_prompt = SystemMessagePromptTemplate.from_template(template)\n",
    "chat_prompt = ChatPromptTemplate.from_messages([system_prompt])"
   ],
   "outputs": [],
   "execution_count": 5
  },
  {
   "cell_type": "code",
   "metadata": {
    "ExecuteTime": {
     "end_time": "2024-10-11T11:23:26.634112Z",
     "start_time": "2024-10-11T11:23:25.719220Z"
    }
   },
   "source": [
    "chain = chat_prompt | model \n",
    "\n",
    "result = chain.invoke({\n",
    "    \"industry\": \"medical\",\n",
    "    \"context\":\"creating AI solutions by automatically summarizing patient records\",\n",
    "    \"principles\":'''1. Each name should be short and easy to remember. 2. Each name should be easy to pronounce.\n",
    "    3. Each name should be unique and not already taken by another company.'''\n",
    "})\n",
    "\n",
    "print(result.content)"
   ],
   "outputs": [
    {
     "name": "stdout",
     "output_type": "stream",
     "text": [
      "1. MediSumm\n",
      "2. AIHealth\n",
      "3. RecordEase\n",
      "4. SummarMed\n",
      "5. DocSynth\n"
     ]
    }
   ],
   "execution_count": 6
  },
  {
   "cell_type": "markdown",
   "metadata": {},
   "source": [
    "An alternative way to do this is to use the ChatPromptTemplate directly with `.format()`:"
   ]
  },
  {
   "cell_type": "code",
   "metadata": {
    "ExecuteTime": {
     "end_time": "2024-10-11T11:23:39.545414Z",
     "start_time": "2024-10-11T11:23:38.715665Z"
    }
   },
   "source": [
    "formatted_prompt = chat_prompt.format(\n",
    "    industry=\"medical\",\n",
    "    context=\"creating AI solutions by automatically summarizing patient records\",\n",
    "    principles=\"1. Each name should be short and easy to remember. 2. Each name should be easy to pronounce. 3. Each name should be unique and not already taken by another company.\",\n",
    ")\n",
    "\n",
    "# Generate names\n",
    "business_names = model.invoke(formatted_prompt)\n",
    "print(business_names.content)"
   ],
   "outputs": [
    {
     "name": "stdout",
     "output_type": "stream",
     "text": [
      "1. MedAI Summary\n",
      "2. AI Health Synopsis\n",
      "3. SynthMed Records\n",
      "4. Summarize Health AI\n",
      "5. AutoMed Summary\n"
     ]
    }
   ],
   "execution_count": 7
  },
  {
   "metadata": {},
   "cell_type": "code",
   "outputs": [],
   "execution_count": null,
   "source": ""
  }
 ],
 "metadata": {
  "kernelspec": {
   "display_name": "base",
   "language": "python",
   "name": "python3"
  },
  "language_info": {
   "codemirror_mode": {
    "name": "ipython",
    "version": 3
   },
   "file_extension": ".py",
   "mimetype": "text/x-python",
   "name": "python",
   "nbconvert_exporter": "python",
   "pygments_lexer": "ipython3",
   "version": "3.9.13"
  }
 },
 "nbformat": 4,
 "nbformat_minor": 2
}
