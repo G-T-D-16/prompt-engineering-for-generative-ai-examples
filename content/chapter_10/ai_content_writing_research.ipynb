{
 "cells": [
  {
   "cell_type": "code",
   "metadata": {
    "ExecuteTime": {
     "end_time": "2024-12-12T13:20:42.887496Z",
     "start_time": "2024-12-12T13:20:42.353720Z"
    }
   },
   "source": [
    "from langchain_openai.chat_models import ChatOpenAI\n",
    "from langchain.output_parsers import PydanticOutputParser\n",
    "from langchain.text_splitter import RecursiveCharacterTextSplitter"
   ],
   "outputs": [
    {
     "name": "stderr",
     "output_type": "stream",
     "text": [
      "/Users/gordontveito-duncan/Documents/GitHub/prompt-engineering-for-generative-ai-examples/venv/lib/python3.9/site-packages/urllib3/__init__.py:35: NotOpenSSLWarning: urllib3 v2 only supports OpenSSL 1.1.1+, currently the 'ssl' module is compiled with 'LibreSSL 2.8.3'. See: https://github.com/urllib3/urllib3/issues/3020\n",
      "  warnings.warn(\n"
     ]
    }
   ],
   "execution_count": 1
  },
  {
   "cell_type": "code",
   "metadata": {
    "ExecuteTime": {
     "end_time": "2024-12-12T13:20:43.922706Z",
     "start_time": "2024-12-12T13:20:42.889753Z"
    }
   },
   "source": [
    "# Custom imports:\n",
    "from content_collection import collect_serp_data_and_extract_text_from_webpages\n",
    "from custom_summarize_chain import create_all_summaries, DocumentSummary\n",
    "from expert_interview_chain import InterviewChain"
   ],
   "outputs": [],
   "execution_count": 2
  },
  {
   "metadata": {
    "ExecuteTime": {
     "end_time": "2024-12-12T13:20:43.929897Z",
     "start_time": "2024-12-12T13:20:43.923566Z"
    }
   },
   "cell_type": "code",
   "source": [
    "from dotenv import load_dotenv\n",
    "# Load environment variables from the .env file\n",
    "load_dotenv()"
   ],
   "outputs": [
    {
     "data": {
      "text/plain": [
       "True"
      ]
     },
     "execution_count": 3,
     "metadata": {},
     "output_type": "execute_result"
    }
   ],
   "execution_count": 3
  },
  {
   "attachments": {},
   "cell_type": "markdown",
   "metadata": {},
   "source": [
    "## Topic Research:"
   ]
  },
  {
   "metadata": {},
   "cell_type": "markdown",
   "source": "%pip install google-search-results pandas html2text pytest-playwright chromadb nest_asyncio --quiet"
  },
  {
   "metadata": {},
   "cell_type": "markdown",
   "source": "!playwright install"
  },
  {
   "cell_type": "code",
   "metadata": {
    "ExecuteTime": {
     "end_time": "2024-12-12T13:20:43.934137Z",
     "start_time": "2024-12-12T13:20:43.931406Z"
    }
   },
   "source": [
    "import nest_asyncio\n",
    "nest_asyncio.apply()"
   ],
   "outputs": [],
   "execution_count": 4
  },
  {
   "cell_type": "code",
   "metadata": {
    "ExecuteTime": {
     "end_time": "2024-12-12T13:20:43.936232Z",
     "start_time": "2024-12-12T13:20:43.934783Z"
    }
   },
   "source": [
    "# Constant variables:\n",
    "TOPIC = \"Neural networks\""
   ],
   "outputs": [],
   "execution_count": 5
  },
  {
   "cell_type": "code",
   "metadata": {
    "ExecuteTime": {
     "end_time": "2024-12-12T13:20:57.271004Z",
     "start_time": "2024-12-12T13:20:43.936856Z"
    }
   },
   "source": [
    "# Extract content from webpages into LangChain documents:\n",
    "text_documents = await collect_serp_data_and_extract_text_from_webpages(topic=TOPIC)"
   ],
   "outputs": [],
   "execution_count": 6
  },
  {
   "metadata": {},
   "cell_type": "markdown",
   "source": "print(text_documents)"
  },
  {
   "cell_type": "code",
   "metadata": {
    "ExecuteTime": {
     "end_time": "2024-12-12T13:20:59.537583Z",
     "start_time": "2024-12-12T13:20:57.272523Z"
    }
   },
   "source": [
    "# LLM, text splitter + parser:\n",
    "llm = ChatOpenAI(temperature=0)\n",
    "text_splitter = RecursiveCharacterTextSplitter.from_tiktoken_encoder(\n",
    "    chunk_size=1500, chunk_overlap=400\n",
    ")\n",
    "parser = PydanticOutputParser(pydantic_object=DocumentSummary)"
   ],
   "outputs": [],
   "execution_count": 7
  },
  {
   "cell_type": "code",
   "metadata": {
    "ExecuteTime": {
     "end_time": "2024-12-12T13:21:02.847238Z",
     "start_time": "2024-12-12T13:20:59.538309Z"
    }
   },
   "source": [
    "summaries = await create_all_summaries(text_documents, parser, llm, text_splitter)"
   ],
   "outputs": [
    {
     "name": "stdout",
     "output_type": "stream",
     "text": [
      "Summarizing the data!\n",
      "Summarizing the data!\n",
      "Summarizing the data!\n",
      "Time taken: 3.022839069366455\n",
      "Finished summarizing the data!\n",
      "---\n",
      "Time taken: 3.1113948822021484\n",
      "Finished summarizing the data!\n",
      "---\n",
      "Time taken: 3.238793134689331\n",
      "Finished summarizing the data!\n",
      "---\n"
     ]
    }
   ],
   "execution_count": 8
  },
  {
   "cell_type": "markdown",
   "metadata": {},
   "source": [
    "---\n",
    "\n",
    "## Expert Interview Questions:\n"
   ]
  },
  {
   "cell_type": "code",
   "metadata": {
    "ExecuteTime": {
     "end_time": "2024-12-12T13:21:04.891958Z",
     "start_time": "2024-12-12T13:21:02.848724Z"
    }
   },
   "source": [
    "interview_chain = InterviewChain(topic=TOPIC, document_summaries=summaries)\n",
    "interview_questions = interview_chain()"
   ],
   "outputs": [],
   "execution_count": 9
  },
  {
   "cell_type": "markdown",
   "metadata": {},
   "source": [
    "----------------------------------------"
   ]
  },
  {
   "cell_type": "markdown",
   "metadata": {},
   "source": [
    "## Answer The Interview Questions:"
   ]
  },
  {
   "cell_type": "code",
   "metadata": {
    "ExecuteTime": {
     "end_time": "2024-12-12T13:29:19.465276Z",
     "start_time": "2024-12-12T13:21:04.892687Z"
    }
   },
   "source": [
    "for question in interview_questions.questions:\n",
    "    print(f\"Answer the following question: {question.question}\\n\", flush=True)\n",
    "    answer = input(f\"Answer the following question: {question.question}\\n\")\n",
    "    print('------------------------------------------')\n",
    "    question.answer = answer"
   ],
   "outputs": [
    {
     "name": "stdout",
     "output_type": "stream",
     "text": [
      "Answer the following question: Can you explain the concept of neural networks and how they mimic the human brain?\n",
      "\n",
      "------------------------------------------\n",
      "Answer the following question: What are the key components or layers of a neural network and how do they interact with each other?\n",
      "\n",
      "------------------------------------------\n",
      "Answer the following question: How does the training data influence the accuracy and performance improvement of neural networks over time?\n",
      "\n",
      "------------------------------------------\n",
      "Answer the following question: In what ways are neural networks considered powerful tools in the fields of computer science and artificial intelligence?\n",
      "\n",
      "------------------------------------------\n",
      "Answer the following question: Can you provide insights into the historical evolution of neural networks, especially in terms of periods of popularity and decline?\n",
      "\n",
      "------------------------------------------\n"
     ]
    }
   ],
   "execution_count": 10
  },
  {
   "cell_type": "markdown",
   "metadata": {},
   "source": [
    "---\n",
    "\n",
    "## General Article Outline:\n"
   ]
  },
  {
   "cell_type": "code",
   "metadata": {
    "ExecuteTime": {
     "end_time": "2024-12-12T13:29:21.234302Z",
     "start_time": "2024-12-12T13:29:19.467695Z"
    }
   },
   "source": [
    "from article_outline_generation import BlogOutlineGenerator\n",
    "\n",
    "blog_outline_generator = BlogOutlineGenerator(topic=TOPIC, questions_and_answers=[item.dict()  \n",
    "                                                                                  for item in interview_questions.questions ] )\n",
    "questions_and_answers = blog_outline_generator.questions_and_answers\n",
    "outline_result = blog_outline_generator.generate_outline(summaries)"
   ],
   "outputs": [
    {
     "name": "stdout",
     "output_type": "stream",
     "text": [
      "Generating the outline...\n",
      "---\n",
      "Finished generating the outline!\n",
      "---\n"
     ]
    }
   ],
   "execution_count": 11
  },
  {
   "metadata": {
    "ExecuteTime": {
     "end_time": "2024-12-12T13:51:20.423572Z",
     "start_time": "2024-12-12T13:51:20.410258Z"
    }
   },
   "cell_type": "code",
   "source": "print(outline_result)",
   "outputs": [
    {
     "name": "stdout",
     "output_type": "stream",
     "text": [
      "title='Understanding Neural Networks: A Deep Dive into Machine Learning' sub_headings=[SubHeading(title='1. Introduction to Neural Networks'), SubHeading(title='2. Components and Layers of Neural Networks'), SubHeading(title='3. The Impact of Training Data on Neural Network Performance'), SubHeading(title='4. The Power of Neural Networks in Computer Science and AI'), SubHeading(title='5. Evolution of Neural Networks: From Past to Present')]\n"
     ]
    }
   ],
   "execution_count": 19
  },
  {
   "cell_type": "markdown",
   "metadata": {},
   "source": [
    "---\n",
    "\n",
    "## Article Text Generation:\n"
   ]
  },
  {
   "cell_type": "code",
   "metadata": {
    "ExecuteTime": {
     "end_time": "2024-12-12T13:30:08.442300Z",
     "start_time": "2024-12-12T13:29:21.235382Z"
    }
   },
   "source": [
    "from article_generation import ContentGenerator\n",
    "\n",
    "content_gen = ContentGenerator(topic=TOPIC, outline=outline_result, questions_and_answers=questions_and_answers)\n",
    "\n",
    "# Vectorize and store the original webpages:\n",
    "content_gen.split_and_vectorize_documents(text_documents)\n",
    "\n",
    "# Create the blog post (this may take several minutes to run, so please be patient):\n",
    "blog_post = content_gen.generate_blog_post()"
   ],
   "outputs": [
    {
     "name": "stdout",
     "output_type": "stream",
     "text": [
      "Generating the blog post...\n",
      "---\n",
      "Finished generating the blog post!\n",
      "---\n"
     ]
    }
   ],
   "execution_count": 12
  },
  {
   "cell_type": "code",
   "metadata": {
    "ExecuteTime": {
     "end_time": "2024-12-12T13:30:08.457047Z",
     "start_time": "2024-12-12T13:30:08.446318Z"
    }
   },
   "source": [
    "blog_post"
   ],
   "outputs": [
    {
     "data": {
      "text/plain": [
       "[\"# Introduction to Neural Networks\\n\\nNeural networks, also known as artificial neural networks (ANNs) or simulated neural networks (SNNs), are machine learning models that are inspired by the structure and function of the human brain. They mimic the way biological neurons work together to identify phenomena, weigh options, and arrive at conclusions[^1^].\\n\\n## Mimicking the Human Brain\\n\\nNeural networks consist of layers of interconnected nodes, or artificial neurons, which process information in a way similar to biological neurons[^1^]. These nodes are organized into three main layers: the input layer, one or more hidden layers, and the output layer[^1^]. Each node is connected to others and has its own associated weight and threshold[^1^]. If the output of any individual node exceeds the specified threshold value, that node is activated, sending data to the next layer of the network[^1^]. Otherwise, no data is passed along to the next layer[^1^].\\n\\n## Learning from Data\\n\\nNeural networks rely on training data to learn and improve their accuracy over time[^1^]. By fine-tuning the network based on the training data, neural networks become powerful tools in computer science and artificial intelligence[^1^]. They allow us to classify and cluster data at a high velocity, performing tasks such as speech recognition and image recognition faster than manual identification by human experts[^1^]. Google's search algorithm is one of the most well-known examples of a neural network[^1^].\\n\\n## Key Components and Layers\\n\\nThe layers and components of a neural network work together by progressively transforming the input data into meaningful representations, enabling the network to learn and make predictions[^2^]. Each node within the network is like a linear regression model, composed of input data, weights, a bias (or threshold), and an output[^2^]. The weights help determine the importance of each variable, with larger weights contributing more significantly to the output[^2^]. The output is then passed through an activation function, which determines whether the node fires (or activates) and passes data to the next layer in the network[^2^].\\n\\n## Influence of Training Data\\n\\nThe quality and diversity of training data have a significant impact on the accuracy and performance improvement of neural networks over time[^3^]. High-quality, diverse, and representative training data accelerates learning, improves accuracy, and minimizes issues like overfitting[^3^]. With better training data, neural networks can generalize better and consistently improve their performance[^3^].\\n\\nIn conclusion, neural networks are powerful tools in computer science and artificial intelligence. They mimic the human brain's decision-making process and rely on training data to learn and improve their accuracy over time. Understanding the components and layers of neural networks is crucial for comprehending their inner workings and their potential applications in various fields.\\n\\nStay tuned for the next section, where we will explore the components and layers of neural networks in more detail.\\n\\n[^1^]: My IBM Log in Subscribe Home Topics Neural network # What is a neural network? Explore IBM's neural network solution Sign up for AI updates ## What is a neural network? A neural network is a machine learning program, or model, that makes decisions in a manner similar to the human brain, by using processes that mimic the way biological neurons work together to identify phenomena, weigh options and arrive at conclusions. Every neural network consists of layers of nodes, or artificial neurons—an input layer, one or more hidden layers, and an output layer. Each node connects to others, and has its own associated weight and threshold. If the output of any individual node is above the specified threshold value, that node is activated, sending data to the next layer of the network. Otherwise, no data is passed along to the next layer of the network. Neural networks rely on training data to learn and improve their accuracy over time. Once they are fine-tuned for accuracy, they are powerful tools in computer science and artificial intelligence, allowing us to classify and cluster data at a high velocity. Tasks in speech recognition or image recognition can take minutes versus hours when compared to the manual identification by human experts. One of the best-known examples of a neural network is Google’s search algorithm. Neural networks are sometimes called artificial neural networks (ANNs) or simulated neural networks (SNNs). They are a subset of machine learning, and at the heart of deep learning models. Ebook How to choose the right foundation model Learn how to choose the right approach in preparing data sets and employing foundation models. Read the ebook Related content Register for the ebook on generative AI\\n[^2^]: Neural networks are sometimes called artificial neural networks (ANNs) or simulated neural networks (SNNs). They are a subset of machine learning, and at the heart of deep learning models. Ebook How to choose the right foundation model Learn how to choose the right approach in preparing data sets and employing foundation models. Read the ebook Related content Register for the ebook on generative AI ## How do neural networks work? Think of each individual node as its own linear regression model, composed of input data, weights, a bias (or threshold), and an output. The formula would look something like this: ∑wixi + bias = w1x1 + w2x2 + w3x3 + bias output = f(x) = 1 if ∑w1x1 + b>= 0; 0 if ∑w1x1 + b < 0 Once an input layer is determined, weights are assigned. These weights help determine the importance of any given variable, with larger ones contributing more significantly to the output compared to other inputs. All inputs are then multiplied by their respective weights and then summed. Afterward, the output is passed through an activation function, which determines the output. If that output exceeds a given threshold, it “fires” (or activates) the node, passing data to the next layer in the network. This results in the output of one node becoming in the input of the next node. This process of passing data from one layer to the next layer defines this neural network as a feedforward network.\\n[^3^]: Insights gathered from interview questions and answers.\",\n",
       " \"# 2. Components and Layers of Neural Networks\\n\\nNeural networks are composed of layers of interconnected nodes, or artificial neurons, that work together to process information and make predictions[^1^]. Understanding the components and layers of neural networks is crucial for comprehending their inner workings and their potential applications in various fields.\\n\\n## Layers of Nodes\\n\\nNeural networks are typically organized into layers of nodes. The three main types of layers are the input layer, hidden layer(s), and the output layer[^1^]. The input layer receives the initial data and passes it to the hidden layer(s). The hidden layer(s) perform complex calculations and process the data, and then pass it to the output layer, which produces the final result or prediction[^1^].\\n\\n## Nodes and Connections\\n\\nEach node in a neural network is like a small computational unit. It receives input from the nodes in the previous layer and sends output to the nodes in the next layer[^1^]. The connections between nodes are represented by weights, which determine the importance of each input[^2^]. These weights are adjustable parameters that the network learns during the training process[^2^]. The weights help the network assign different levels of significance to different inputs, allowing it to prioritize certain features or patterns in the data[^2^].\\n\\n## Activation Function\\n\\nAn activation function determines whether a node should be activated (i.e., its output should be considered) based on the weighted sum of its inputs[^2^]. Common activation functions include the sigmoid function, the rectified linear unit (ReLU) function, and the softmax function[^2^]. The activation function introduces non-linearity into the network, allowing it to learn complex relationships between inputs and outputs[^2^].\\n\\n## Forward and Backward Propagation\\n\\nNeural networks learn from data through a process called forward and backward propagation[^3^]. In forward propagation, the input data is fed into the network, and the network's output is compared to the desired output. The difference between the network's output and the desired output is measured using a loss function[^3^]. In backward propagation, the network adjusts its weights based on the calculated loss, using an optimization algorithm such as gradient descent[^3^]. This iterative process continues until the network's performance reaches a satisfactory level.\\n\\n## Insights from Interviews\\n\\nInsights from our interviews shed light on the importance of network design, learning algorithms, and the influence of training data on the accuracy and performance improvement of neural networks[^3^]. The choice of model, learning algorithm, and robustness of the network are crucial factors in achieving optimal performance[^3^]. Additionally, high-quality and diverse training data accelerate learning and improve accuracy, leading to consistent performance improvement over time[^3^].\\n\\nIn conclusion, neural networks consist of layers of interconnected nodes that process information and make predictions. The nodes, connections, activation function, and the process of forward and backward propagation all contribute to the network's ability to learn and improve its performance. As we delve deeper into the topic, we will explore the impact of training data on neural network performance and the power of neural networks in computer science and AI.\\n\\nStay tuned for the next section, where we will discuss the influence of training data on neural network performance.\\n\\n[^1^]: Insight from interview question and answer.\\n[^2^]: Relevant information from the documents provided.\\n[^3^]: Insights from interview questions and answers.\",\n",
       " \"# 3. The Impact of Training Data on Neural Network Performance\\n\\nTraining data plays a crucial role in the accuracy and performance improvement of neural networks over time. The quality and diversity of the training data directly influence the network's ability to learn and generalize from the data. Here are some key insights from our interviews and relevant documents:\\n\\n## Importance of Training Data Quality\\n\\n- High-quality training data is essential for neural networks to learn effectively and make accurate predictions[^3^].\\n- Training data should be diverse and representative of the real-world scenarios the network will encounter[^3^].\\n- Diverse training data helps the network generalize better and handle various situations[^3^].\\n\\n## Accelerating Learning with Training Data\\n\\n- Neural networks learn from labeled training data by iteratively updating their parameters to minimize a defined loss function[^3^].\\n- High-quality and diverse training data accelerates the learning process and improves accuracy[^3^].\\n- With better training data, neural networks can consistently improve their performance over time[^3^].\\n\\n## Minimizing Issues with Training Data\\n\\n- The quality of the training data directly affects the network's performance and its ability to deal with issues like overfitting[^3^].\\n- Overfitting occurs when a neural network becomes too specialized in the training data and performs poorly on unseen data[^3^].\\n- By using high-quality and diverse training data, neural networks can generalize better and minimize overfitting[^3^].\\n\\n## Dataset Bias and Societal Impact\\n\\n- Neural networks are dependent on the quality and representativeness of the training data[^3^].\\n- Low-quality data with imbalanced representation can lead to biased models that perpetuate societal biases[^3^].\\n- Imbalanced training data can result in inadequate representation and understanding of underrepresented groups, leading to discriminatory outcomes[^3^].\\n\\nIn conclusion, the impact of training data on neural network performance cannot be overstated. High-quality, diverse, and representative training data is essential for improving accuracy, reducing overfitting, and minimizing societal biases in neural networks. The choice of training data and its quality directly influence the network's ability to learn, generalize, and make accurate predictions.\\n\\nNext, we will explore the power of neural networks in computer science and artificial intelligence.\\n\\n[^3^]: Insights from interview questions and answers.\",\n",
       " '# 4. The Power of Neural Networks in Computer Science and AI\\n\\nNeural networks are considered powerful tools in the fields of computer science and artificial intelligence due to their ability to learn from data, handle complexity, and adapt across domains. They have been instrumental in advancing various applications and pushing the boundaries of what machines can do. Here are some key insights from interviews and research:\\n\\n## Versatility and Adaptability\\n\\n- Neural networks have the ability to learn and make predictions from data, enabling them to tackle a wide range of tasks in various fields[^3^].\\n- Their adaptability allows them to handle complex problems, such as image recognition, natural language processing, and speech recognition[^3^].\\n- Neural networks can learn from different types of data, such as images, text, and numerical data, making them versatile tools for analyzing and understanding diverse datasets[^3^].\\n\\n## Advancements in Data, Hardware, and Research\\n\\n- Neural networks have experienced periods of popularity and decline throughout history[^3^]. \\n- The resurgence of neural networks in recent years can be attributed to advancements in data availability, computational power, and research[^3^].\\n- The availability of large and diverse datasets has enabled neural networks to learn more effectively and improve their performance[^3^].\\n- The increase in computing power, especially with the use of graphics processing units (GPUs), has made it feasible to train deeper and more complex neural networks[^3^].\\n- Ongoing research in algorithms, network architectures, and optimization techniques has further enhanced the capabilities and performance of neural networks[^3^].\\n\\n## Impact Across Domains\\n\\n- Neural networks have made significant contributions to various fields, including computer vision, natural language processing, robotics, finance, and healthcare[^3^].\\n- In computer vision, neural networks have achieved breakthroughs in image recognition, object detection, and image generation[^3^].\\n- In natural language processing, neural networks have improved language translation, sentiment analysis, and speech recognition[^3^].\\n- In robotics, neural networks have enabled autonomous navigation, object manipulation, and decision-making[^3^].\\n- Neural networks have also been utilized in finance for stock market prediction, fraud detection, and risk assessment[^3^].\\n- In healthcare, neural networks have been used for medical image analysis, disease diagnosis, and drug discovery[^3^].\\n\\nIn conclusion, neural networks have emerged as powerful tools in computer science and artificial intelligence. Their ability to learn from data, handle complexity, and adapt across domains has revolutionized various fields. With advancements in data, hardware, and research, neural networks continue to push the boundaries of what machines can achieve, making them indispensable tools in modern computer science and AI.\\n\\nStay tuned for the next section, where we will explore the historical evolution of neural networks and their impact on the field of AI.\\n\\n[^3^]: Insights from interview questions and answers.',\n",
       " '# 5. Evolution of Neural Networks: From Past to Present\\n\\nThe history of neural networks dates back further than many people realize, with the concept of \"a machine that thinks\" tracing back to the Ancient Greeks[^1^]. In this section, we will explore the key events that have shaped the evolution of neural networks, their periods of popularity and decline, and their resurgence in recent years.\\n\\n## Early Foundations\\n\\n- In 1943, Warren S. McCulloch and Walter Pitts published \"A logical calculus of the ideas immanent in nervous activity,\" which laid the groundwork for understanding how the human brain produces complex patterns through connected neurons[^1^].\\n- Frank Rosenblatt\\'s development of the perceptron in 1958 further advanced the field of neural networks. He introduced the concept of weights, which allowed a computer to learn how to distinguish between different types of marked cards[^1^].\\n\\n## Periods of Popularity and Decline\\n\\n- Neural networks experienced periods of popularity and decline throughout history[^4^].\\n- In the 1980s, neural networks faced limitations due to the lack of efficient algorithms for modifying network weights and thresholds[^4^].\\n- Marvin Minsky and Seymour Papert\\'s critique in 1969 contributed to a decline in research on neural networks[^4^].\\n- Support vector machines emerged as an alternative approach to machine learning, based on clean and elegant mathematics, and gained popularity in the early 2000s[^4^].\\n\\n## Resurgence and Dominance\\n\\n- The resurgence of neural networks began in the early 2000s, fueled by advancements in data availability, computational power, and research[^4^].\\n- The increased processing power of graphics processing units (GPUs) played a significant role in the resurgence of neural networks[^4^].\\n- Neural networks, especially deep learning models, have demonstrated remarkable capabilities in complex tasks such as computer vision, natural language processing, and robotics[^4^].\\n- Ongoing research in algorithms, network architectures, and optimization techniques has further propelled the dominance of neural networks in the field of artificial intelligence[^4^].\\n\\nIn conclusion, the evolution of neural networks reflects the broader history of AI. From theoretical models in the 1940s to practical, transformative technologies in the 21st century, neural networks have overcome past limitations to become powerful tools in computer science and artificial intelligence. Their resurgence and dominance in recent years demonstrate the impact of advancements in algorithms, hardware, and data, unlocking their true potential.\\n\\nStay tuned for the conclusion of this blog post, where we will summarize the key points discussed and highlight the future potential of neural networks.\\n\\n[^1^]: History of neural networks document\\n[^4^]: Insights from interview questions and answers.']"
      ]
     },
     "execution_count": 13,
     "metadata": {},
     "output_type": "execute_result"
    }
   ],
   "execution_count": 13
  },
  {
   "cell_type": "markdown",
   "metadata": {},
   "source": [
    "-----\n",
    "\n",
    "## Image Creation:"
   ]
  },
  {
   "cell_type": "code",
   "metadata": {
    "ExecuteTime": {
     "end_time": "2024-12-12T13:30:46.164431Z",
     "start_time": "2024-12-12T13:30:08.459093Z"
    }
   },
   "source": [
    "from image_generation_chain import create_image\n",
    "image = create_image(outline_result.title)"
   ],
   "outputs": [],
   "execution_count": 14
  },
  {
   "cell_type": "code",
   "metadata": {
    "ExecuteTime": {
     "end_time": "2024-12-12T13:30:46.175943Z",
     "start_time": "2024-12-12T13:30:46.170901Z"
    }
   },
   "source": [
    "print(f\"The image is ready! The filepath is {image[0]}\")"
   ],
   "outputs": [
    {
     "name": "stdout",
     "output_type": "stream",
     "text": [
      "The image is ready! The filepath is 06e2d45.png\n"
     ]
    }
   ],
   "execution_count": 15
  },
  {
   "metadata": {
    "ExecuteTime": {
     "end_time": "2024-12-12T13:32:56.173716Z",
     "start_time": "2024-12-12T13:32:56.155226Z"
    }
   },
   "cell_type": "code",
   "source": "pwd",
   "outputs": [
    {
     "data": {
      "text/plain": [
       "'/Users/gordontveito-duncan/Documents/GitHub/prompt-engineering-for-generative-ai-examples/content/chapter_10'"
      ]
     },
     "execution_count": 16,
     "metadata": {},
     "output_type": "execute_result"
    }
   ],
   "execution_count": 16
  },
  {
   "metadata": {},
   "cell_type": "code",
   "outputs": [],
   "execution_count": null,
   "source": ""
  }
 ],
 "metadata": {
  "kernelspec": {
   "display_name": "base",
   "language": "python",
   "name": "python3"
  },
  "language_info": {
   "codemirror_mode": {
    "name": "ipython",
    "version": 3
   },
   "file_extension": ".py",
   "mimetype": "text/x-python",
   "name": "python",
   "nbconvert_exporter": "python",
   "pygments_lexer": "ipython3",
   "version": "3.9.13"
  },
  "orig_nbformat": 4
 },
 "nbformat": 4,
 "nbformat_minor": 2
}
