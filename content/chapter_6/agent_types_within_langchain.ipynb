{
 "cells": [
  {
   "cell_type": "code",
   "metadata": {
    "ExecuteTime": {
     "end_time": "2024-11-15T14:44:44.673159Z",
     "start_time": "2024-11-15T14:44:43.905464Z"
    }
   },
   "source": [
    "from langchain.agents.agent_types import AgentType"
   ],
   "outputs": [
    {
     "name": "stderr",
     "output_type": "stream",
     "text": [
      "/Users/gordontveito-duncan/Documents/GitHub/prompt-engineering-for-generative-ai-examples/venv/lib/python3.9/site-packages/urllib3/__init__.py:35: NotOpenSSLWarning: urllib3 v2 only supports OpenSSL 1.1.1+, currently the 'ssl' module is compiled with 'LibreSSL 2.8.3'. See: https://github.com/urllib3/urllib3/issues/3020\n",
      "  warnings.warn(\n"
     ]
    }
   ],
   "execution_count": 1
  },
  {
   "cell_type": "code",
   "metadata": {
    "ExecuteTime": {
     "end_time": "2024-11-15T14:44:45.692202Z",
     "start_time": "2024-11-15T14:44:45.688809Z"
    }
   },
   "source": [
    "AgentType._member_map_"
   ],
   "outputs": [
    {
     "data": {
      "text/plain": [
       "{'ZERO_SHOT_REACT_DESCRIPTION': <AgentType.ZERO_SHOT_REACT_DESCRIPTION: 'zero-shot-react-description'>,\n",
       " 'REACT_DOCSTORE': <AgentType.REACT_DOCSTORE: 'react-docstore'>,\n",
       " 'SELF_ASK_WITH_SEARCH': <AgentType.SELF_ASK_WITH_SEARCH: 'self-ask-with-search'>,\n",
       " 'CONVERSATIONAL_REACT_DESCRIPTION': <AgentType.CONVERSATIONAL_REACT_DESCRIPTION: 'conversational-react-description'>,\n",
       " 'CHAT_ZERO_SHOT_REACT_DESCRIPTION': <AgentType.CHAT_ZERO_SHOT_REACT_DESCRIPTION: 'chat-zero-shot-react-description'>,\n",
       " 'CHAT_CONVERSATIONAL_REACT_DESCRIPTION': <AgentType.CHAT_CONVERSATIONAL_REACT_DESCRIPTION: 'chat-conversational-react-description'>,\n",
       " 'STRUCTURED_CHAT_ZERO_SHOT_REACT_DESCRIPTION': <AgentType.STRUCTURED_CHAT_ZERO_SHOT_REACT_DESCRIPTION: 'structured-chat-zero-shot-react-description'>,\n",
       " 'OPENAI_FUNCTIONS': <AgentType.OPENAI_FUNCTIONS: 'openai-functions'>,\n",
       " 'OPENAI_MULTI_FUNCTIONS': <AgentType.OPENAI_MULTI_FUNCTIONS: 'openai-multi-functions'>}"
      ]
     },
     "execution_count": 2,
     "metadata": {},
     "output_type": "execute_result"
    }
   ],
   "execution_count": 2
  },
  {
   "metadata": {},
   "cell_type": "code",
   "outputs": [],
   "execution_count": null,
   "source": ""
  }
 ],
 "metadata": {
  "kernelspec": {
   "display_name": "base",
   "language": "python",
   "name": "python3"
  },
  "language_info": {
   "codemirror_mode": {
    "name": "ipython",
    "version": 3
   },
   "file_extension": ".py",
   "mimetype": "text/x-python",
   "name": "python",
   "nbconvert_exporter": "python",
   "pygments_lexer": "ipython3",
   "version": "3.9.13"
  },
  "orig_nbformat": 4
 },
 "nbformat": 4,
 "nbformat_minor": 2
}
