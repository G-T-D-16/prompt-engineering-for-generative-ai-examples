{
 "cells": [
  {
   "cell_type": "code",
   "metadata": {
    "ExecuteTime": {
     "end_time": "2024-11-15T10:30:21.780479Z",
     "start_time": "2024-11-15T10:30:20.199536Z"
    }
   },
   "source": [
    "from langchain.agents.agent_types import AgentType\n",
    "from langchain_experimental.agents.agent_toolkits import create_csv_agent\n",
    "from langchain_openai.chat_models import ChatOpenAI"
   ],
   "outputs": [
    {
     "name": "stderr",
     "output_type": "stream",
     "text": [
      "/Users/gordontveito-duncan/Documents/GitHub/prompt-engineering-for-generative-ai-examples/venv/lib/python3.9/site-packages/urllib3/__init__.py:35: NotOpenSSLWarning: urllib3 v2 only supports OpenSSL 1.1.1+, currently the 'ssl' module is compiled with 'LibreSSL 2.8.3'. See: https://github.com/urllib3/urllib3/issues/3020\n",
      "  warnings.warn(\n"
     ]
    }
   ],
   "execution_count": 1
  },
  {
   "metadata": {
    "ExecuteTime": {
     "end_time": "2024-11-15T10:30:21.793314Z",
     "start_time": "2024-11-15T10:30:21.781545Z"
    }
   },
   "cell_type": "code",
   "source": [
    "from dotenv import load_dotenv\n",
    "# Load environment variables from .env file\n",
    "load_dotenv()"
   ],
   "outputs": [
    {
     "data": {
      "text/plain": [
       "True"
      ]
     },
     "execution_count": 2,
     "metadata": {},
     "output_type": "execute_result"
    }
   ],
   "execution_count": 2
  },
  {
   "cell_type": "code",
   "metadata": {
    "ExecuteTime": {
     "end_time": "2024-11-15T10:31:51.103114Z",
     "start_time": "2024-11-15T10:31:50.994823Z"
    }
   },
   "source": [
    "agent = create_csv_agent(\n",
    "    ChatOpenAI(temperature=0),\n",
    "    \"data/heart_disease_uci.csv\",\n",
    "    verbose=True,\n",
    "    agent_type=AgentType.ZERO_SHOT_REACT_DESCRIPTION, allow_dangerous_code = True\n",
    ")"
   ],
   "outputs": [],
   "execution_count": 4
  },
  {
   "cell_type": "code",
   "metadata": {
    "ExecuteTime": {
     "end_time": "2024-11-15T10:31:59.766188Z",
     "start_time": "2024-11-15T10:31:57.388677Z"
    }
   },
   "source": [
    "agent.invoke(\"How many rows of data are in the file?\")"
   ],
   "outputs": [
    {
     "name": "stdout",
     "output_type": "stream",
     "text": [
      "\n",
      "\n",
      "\u001B[1m> Entering new AgentExecutor chain...\u001B[0m\n",
      "\u001B[32;1m\u001B[1;3mThought: To find out how many rows of data are in the file, we need to count the number of rows in the dataframe.\n",
      "Action: python_repl_ast\n",
      "Action Input: len(df)\u001B[0m\u001B[36;1m\u001B[1;3m920\u001B[0m\u001B[32;1m\u001B[1;3mThe dataframe has 920 rows of data.\n",
      "Final Answer: 920 rows\u001B[0m\n",
      "\n",
      "\u001B[1m> Finished chain.\u001B[0m\n"
     ]
    },
    {
     "data": {
      "text/plain": [
       "{'input': 'How many rows of data are in the file?', 'output': '920 rows'}"
      ]
     },
     "execution_count": 5,
     "metadata": {},
     "output_type": "execute_result"
    }
   ],
   "execution_count": 5
  },
  {
   "cell_type": "code",
   "metadata": {
    "ExecuteTime": {
     "end_time": "2024-11-15T10:32:07.198890Z",
     "start_time": "2024-11-15T10:32:04.626278Z"
    }
   },
   "source": [
    "agent.invoke(\"What are the columns within the dataset?\")"
   ],
   "outputs": [
    {
     "name": "stdout",
     "output_type": "stream",
     "text": [
      "\n",
      "\n",
      "\u001B[1m> Entering new AgentExecutor chain...\u001B[0m\n",
      "\u001B[32;1m\u001B[1;3mThought: I can use the `columns` attribute of the dataframe to get the column names.\n",
      "Action: python_repl_ast\n",
      "Action Input: df.columns\u001B[0m\u001B[36;1m\u001B[1;3mIndex(['id', 'age', 'sex', 'dataset', 'cp', 'trestbps', 'chol', 'fbs',\n",
      "       'restecg', 'thalch', 'exang', 'oldpeak', 'slope', 'ca', 'thal', 'num'],\n",
      "      dtype='object')\u001B[0m\u001B[32;1m\u001B[1;3mThe columns within the dataset are 'id', 'age', 'sex', 'dataset', 'cp', 'trestbps', 'chol', 'fbs', 'restecg', 'thalch', 'exang', 'oldpeak', 'slope', 'ca', 'thal', and 'num'.\n",
      "Final Answer: 'id', 'age', 'sex', 'dataset', 'cp', 'trestbps', 'chol', 'fbs', 'restecg', 'thalch', 'exang', 'oldpeak', 'slope', 'ca', 'thal', 'num'\u001B[0m\n",
      "\n",
      "\u001B[1m> Finished chain.\u001B[0m\n"
     ]
    },
    {
     "data": {
      "text/plain": [
       "{'input': 'What are the columns within the dataset?',\n",
       " 'output': \"'id', 'age', 'sex', 'dataset', 'cp', 'trestbps', 'chol', 'fbs', 'restecg', 'thalch', 'exang', 'oldpeak', 'slope', 'ca', 'thal', 'num'\"}"
      ]
     },
     "execution_count": 6,
     "metadata": {},
     "output_type": "execute_result"
    }
   ],
   "execution_count": 6
  },
  {
   "cell_type": "code",
   "metadata": {
    "ExecuteTime": {
     "end_time": "2024-11-15T10:32:15.301358Z",
     "start_time": "2024-11-15T10:32:11.355374Z"
    }
   },
   "source": [
    "agent.invoke(\"Create a correlation matrix for the data and save it to a file in the data/ directory.\")"
   ],
   "outputs": [
    {
     "name": "stdout",
     "output_type": "stream",
     "text": [
      "\n",
      "\n",
      "\u001B[1m> Entering new AgentExecutor chain...\u001B[0m\n",
      "\u001B[32;1m\u001B[1;3mThought: I need to calculate the correlation matrix of the dataframe and then save it to a file.\n",
      "Action: python_repl_ast\n",
      "Action Input: df.corr().to_csv('data/correlation_matrix.csv')\u001B[0m\u001B[36;1m\u001B[1;3mValueError: could not convert string to float: 'Male'\u001B[0m\u001B[32;1m\u001B[1;3mThe 'sex' column is causing an issue because it contains non-numeric values.\n",
      "Action: python_repl_ast\n",
      "Action Input: df_numeric = df.select_dtypes(include=['number'])\u001B[0m\u001B[36;1m\u001B[1;3m\u001B[0m\u001B[32;1m\u001B[1;3mNow that I have selected only the numeric columns, I can create the correlation matrix and save it to a file.\n",
      "Action: python_repl_ast\n",
      "Action Input: df_numeric.corr().to_csv('data/correlation_matrix.csv')\u001B[0m\u001B[36;1m\u001B[1;3m\u001B[0m\u001B[32;1m\u001B[1;3mI have successfully created the correlation matrix for the numeric columns and saved it to a file in the data/ directory.\n",
      "Final Answer: The correlation matrix for the numeric columns has been saved to a file in the data/ directory.\u001B[0m\n",
      "\n",
      "\u001B[1m> Finished chain.\u001B[0m\n"
     ]
    },
    {
     "data": {
      "text/plain": [
       "{'input': 'Create a correlation matrix for the data and save it to a file in the data/ directory.',\n",
       " 'output': 'The correlation matrix for the numeric columns has been saved to a file in the data/ directory.'}"
      ]
     },
     "execution_count": 7,
     "metadata": {},
     "output_type": "execute_result"
    }
   ],
   "execution_count": 7
  },
  {
   "metadata": {},
   "cell_type": "code",
   "outputs": [],
   "execution_count": null,
   "source": ""
  }
 ],
 "metadata": {
  "kernelspec": {
   "display_name": "base",
   "language": "python",
   "name": "python3"
  },
  "language_info": {
   "codemirror_mode": {
    "name": "ipython",
    "version": 3
   },
   "file_extension": ".py",
   "mimetype": "text/x-python",
   "name": "python",
   "nbconvert_exporter": "python",
   "pygments_lexer": "ipython3",
   "version": "3.9.13"
  },
  "orig_nbformat": 4
 },
 "nbformat": 4,
 "nbformat_minor": 2
}
