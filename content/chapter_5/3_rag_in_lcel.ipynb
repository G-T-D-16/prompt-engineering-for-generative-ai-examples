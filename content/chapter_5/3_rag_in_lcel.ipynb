{
 "cells": [
  {
   "metadata": {
    "ExecuteTime": {
     "end_time": "2024-10-24T07:50:58.556181Z",
     "start_time": "2024-10-24T07:50:58.547228Z"
    }
   },
   "cell_type": "code",
   "source": [
    "from dotenv import load_dotenv\n",
    "# Load environment variables from .env file\n",
    "load_dotenv()"
   ],
   "outputs": [
    {
     "data": {
      "text/plain": [
       "True"
      ]
     },
     "execution_count": 1,
     "metadata": {},
     "output_type": "execute_result"
    }
   ],
   "execution_count": 1
  },
  {
   "cell_type": "code",
   "metadata": {
    "ExecuteTime": {
     "end_time": "2024-10-24T07:51:00.285223Z",
     "start_time": "2024-10-24T07:50:58.556936Z"
    }
   },
   "source": [
    "from langchain_community.vectorstores.faiss import FAISS\n",
    "from langchain_core.output_parsers import StrOutputParser\n",
    "from langchain_core.prompts import ChatPromptTemplate\n",
    "from langchain_core.runnables import RunnablePassthrough\n",
    "from langchain_openai import ChatOpenAI, OpenAIEmbeddings\n",
    "\n",
    "documents = [\n",
    "    \"James Phoenix worked at JustUnderstandingData.\",\n",
    "    \"James phoenix currently is 31 years old.\",\n",
    "    \"Data engineering is the designing and building systems for collecting, storing, and analysing data at scale.\",\n",
    "]\n",
    "\n",
    "vectorstore = FAISS.from_texts(texts=documents, embedding=OpenAIEmbeddings())\n",
    "retriever = vectorstore.as_retriever()\n",
    "\n",
    "template = \"\"\"Answer the question based only on the following context:\n",
    "---\n",
    "Context: {context}\n",
    "---\n",
    "Question: {question}\n",
    "\"\"\"\n",
    "prompt = ChatPromptTemplate.from_template(template)\n",
    "\n",
    "model = ChatOpenAI()"
   ],
   "outputs": [
    {
     "name": "stderr",
     "output_type": "stream",
     "text": [
      "/Users/gordontveito-duncan/Documents/GitHub/prompt-engineering-for-generative-ai-examples/venv/lib/python3.9/site-packages/urllib3/__init__.py:35: NotOpenSSLWarning: urllib3 v2 only supports OpenSSL 1.1.1+, currently the 'ssl' module is compiled with 'LibreSSL 2.8.3'. See: https://github.com/urllib3/urllib3/issues/3020\n",
      "  warnings.warn(\n"
     ]
    }
   ],
   "execution_count": 2
  },
  {
   "cell_type": "code",
   "metadata": {
    "ExecuteTime": {
     "end_time": "2024-10-24T07:51:00.288672Z",
     "start_time": "2024-10-24T07:51:00.286241Z"
    }
   },
   "source": [
    "chain = (\n",
    "    {\"context\": retriever, \"question\": RunnablePassthrough()}\n",
    "    | prompt\n",
    "    | model\n",
    "    | StrOutputParser()\n",
    ")"
   ],
   "outputs": [],
   "execution_count": 3
  },
  {
   "cell_type": "code",
   "metadata": {
    "ExecuteTime": {
     "end_time": "2024-10-24T07:51:01.519577Z",
     "start_time": "2024-10-24T07:51:00.289304Z"
    }
   },
   "source": [
    "chain.invoke(\"What is data engineering?\")"
   ],
   "outputs": [
    {
     "data": {
      "text/plain": [
       "'Data engineering is the designing and building of systems for collecting, storing, and analyzing data at scale.'"
      ]
     },
     "execution_count": 4,
     "metadata": {},
     "output_type": "execute_result"
    }
   ],
   "execution_count": 4
  },
  {
   "cell_type": "code",
   "metadata": {
    "ExecuteTime": {
     "end_time": "2024-10-24T07:51:02.714130Z",
     "start_time": "2024-10-24T07:51:01.524025Z"
    }
   },
   "source": [
    "chain.invoke(\"Who is James Phoenix?\")"
   ],
   "outputs": [
    {
     "data": {
      "text/plain": [
       "'James Phoenix is a 31-year-old individual who worked at JustUnderstandingData.'"
      ]
     },
     "execution_count": 5,
     "metadata": {},
     "output_type": "execute_result"
    }
   ],
   "execution_count": 5
  },
  {
   "cell_type": "code",
   "metadata": {
    "ExecuteTime": {
     "end_time": "2024-10-24T07:51:03.999699Z",
     "start_time": "2024-10-24T07:51:02.718085Z"
    }
   },
   "source": [
    "chain.invoke(\"What is the president of the US?\") # Testing for fake knowledge"
   ],
   "outputs": [
    {
     "data": {
      "text/plain": [
       "\"I'm sorry, but based on the context provided, I cannot answer that question as it is not related to the information given.\""
      ]
     },
     "execution_count": 6,
     "metadata": {},
     "output_type": "execute_result"
    }
   ],
   "execution_count": 6
  },
  {
   "metadata": {
    "ExecuteTime": {
     "end_time": "2024-10-24T07:51:04.007828Z",
     "start_time": "2024-10-24T07:51:04.005580Z"
    }
   },
   "cell_type": "code",
   "source": "",
   "outputs": [],
   "execution_count": 6
  }
 ],
 "metadata": {
  "kernelspec": {
   "display_name": "base",
   "language": "python",
   "name": "python3"
  },
  "language_info": {
   "codemirror_mode": {
    "name": "ipython",
    "version": 3
   },
   "file_extension": ".py",
   "mimetype": "text/x-python",
   "name": "python",
   "nbconvert_exporter": "python",
   "pygments_lexer": "ipython3",
   "version": "3.9.13"
  },
  "orig_nbformat": 4
 },
 "nbformat": 4,
 "nbformat_minor": 2
}
