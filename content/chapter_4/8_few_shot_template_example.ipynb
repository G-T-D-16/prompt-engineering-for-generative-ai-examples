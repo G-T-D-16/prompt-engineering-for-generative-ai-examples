{
 "cells": [
  {
   "cell_type": "code",
   "metadata": {
    "ExecuteTime": {
     "end_time": "2024-10-11T19:12:27.689379Z",
     "start_time": "2024-10-11T19:12:27.677484Z"
    }
   },
   "source": [
    "from langchain_openai.chat_models import ChatOpenAI\n",
    "from langchain_core.prompts import (\n",
    "    FewShotChatMessagePromptTemplate,\n",
    "    ChatPromptTemplate,\n",
    ")\n",
    "import pickle"
   ],
   "outputs": [],
   "execution_count": 16
  },
  {
   "cell_type": "code",
   "metadata": {
    "ExecuteTime": {
     "end_time": "2024-10-11T19:12:29.708022Z",
     "start_time": "2024-10-11T19:12:29.691414Z"
    }
   },
   "source": [
    "examples = [\n",
    "    {\n",
    "        \"question\": \"What is the capital of France?\",\n",
    "        \"answer\": \"Paris\",\n",
    "    },\n",
    "    {\n",
    "        \"question\": \"What is the capital of Spain?\",\n",
    "        \"answer\": \"Madrid\",\n",
    "    },\n",
    "    {\n",
    "        \"question\": \"What is the capital of Germany?\",\n",
    "        \"answer\": \"Berlin\",\n",
    "    },\n",
    "    {\n",
    "        \"question\": \"What is the capital of England?\",\n",
    "        \"answer\": \"London\",\n",
    "    },\n",
    "]"
   ],
   "outputs": [],
   "execution_count": 17
  },
  {
   "cell_type": "code",
   "metadata": {
    "ExecuteTime": {
     "end_time": "2024-10-11T19:09:08.401854Z",
     "start_time": "2024-10-11T19:09:08.382739Z"
    }
   },
   "source": [
    "example_prompt = ChatPromptTemplate.from_messages(\n",
    "    [\n",
    "        (\"human\", \"{question}\"),\n",
    "        (\"ai\", \"{answer}\"),\n",
    "    ]\n",
    ")"
   ],
   "outputs": [],
   "execution_count": 7
  },
  {
   "cell_type": "code",
   "metadata": {
    "ExecuteTime": {
     "end_time": "2024-10-11T19:09:09.694175Z",
     "start_time": "2024-10-11T19:09:09.670008Z"
    }
   },
   "source": [
    "few_shot_prompt = FewShotChatMessagePromptTemplate(\n",
    "    example_prompt=example_prompt,\n",
    "    examples=examples,\n",
    ")\n",
    "\n",
    "print(few_shot_prompt.format())"
   ],
   "outputs": [
    {
     "name": "stdout",
     "output_type": "stream",
     "text": [
      "Human: What is the capital of France?\n",
      "AI: Paris\n",
      "Human: What is the capital of Spain?\n",
      "AI: Madrid\n",
      "Human: What is the capital of Germany?\n",
      "AI: Berlin\n",
      "Human: What is the capital of England?\n",
      "AI: London\n"
     ]
    }
   ],
   "execution_count": 8
  },
  {
   "cell_type": "code",
   "metadata": {
    "ExecuteTime": {
     "end_time": "2024-10-11T19:10:43.743249Z",
     "start_time": "2024-10-11T19:10:43.066592Z"
    }
   },
   "source": [
    "from langchain_core.output_parsers import StrOutputParser\n",
    "from os import getenv\n",
    "from dotenv import load_dotenv\n",
    "\n",
    "# Load environment variables from .env file\n",
    "load_dotenv()\n",
    "\n",
    "final_prompt = ChatPromptTemplate.from_messages(\n",
    "    [\n",
    "        (\n",
    "            \"system\",\n",
    "            \"You are a responsible for answering questions about countries. Only return the country name.\",\n",
    "        ),\n",
    "        few_shot_prompt,\n",
    "        (\"human\", \"{question}\"),\n",
    "    ]\n",
    ")\n",
    "\n",
    "model = ChatOpenAI()\n",
    "\n",
    "# Creating the LCEL chain with the prompt, model and a StrOutputParser()\n",
    "chain = final_prompt | model | StrOutputParser()\n",
    "\n",
    "result = chain.invoke(\n",
    "    {\n",
    "        \"question\": \"What is the capital of Norway?\"\n",
    "    }\n",
    ")\n",
    "\n",
    "print(result)"
   ],
   "outputs": [
    {
     "name": "stdout",
     "output_type": "stream",
     "text": [
      "Oslo\n"
     ]
    }
   ],
   "execution_count": 13
  },
  {
   "cell_type": "code",
   "metadata": {
    "ExecuteTime": {
     "end_time": "2024-10-11T19:10:49.310052Z",
     "start_time": "2024-10-11T19:10:49.302191Z"
    }
   },
   "source": [
    "few_shot_prompt.examples"
   ],
   "outputs": [
    {
     "data": {
      "text/plain": [
       "[{'question': 'What is the capital of France?', 'answer': 'Paris'},\n",
       " {'question': 'What is the capital of Spain?', 'answer': 'Madrid'},\n",
       " {'question': 'What is the capital of Germany?', 'answer': 'Berlin'},\n",
       " {'question': 'What is the capital of England?', 'answer': 'London'}]"
      ]
     },
     "execution_count": 14,
     "metadata": {},
     "output_type": "execute_result"
    }
   ],
   "execution_count": 14
  },
  {
   "cell_type": "code",
   "metadata": {
    "ExecuteTime": {
     "end_time": "2024-10-11T19:10:51.328266Z",
     "start_time": "2024-10-11T19:10:51.321025Z"
    }
   },
   "source": [
    "# Pickle it:\n",
    "with open('few_shot_prompt.pickle', 'wb') as f:\n",
    "    pickle.dump(few_shot_prompt, f)\n",
    "\n",
    "# Load it:\n",
    "with open('few_shot_prompt.pickle', 'rb') as f:\n",
    "    few_shot_prompt = pickle.load(f)"
   ],
   "outputs": [],
   "execution_count": 15
  },
  {
   "metadata": {},
   "cell_type": "code",
   "outputs": [],
   "execution_count": null,
   "source": ""
  }
 ],
 "metadata": {
  "kernelspec": {
   "display_name": "base",
   "language": "python",
   "name": "python3"
  },
  "language_info": {
   "codemirror_mode": {
    "name": "ipython",
    "version": 3
   },
   "file_extension": ".py",
   "mimetype": "text/x-python",
   "name": "python",
   "nbconvert_exporter": "python",
   "pygments_lexer": "ipython3",
   "version": "3.9.13"
  },
  "orig_nbformat": 4
 },
 "nbformat": 4,
 "nbformat_minor": 2
}
