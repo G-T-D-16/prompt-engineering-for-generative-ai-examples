{
 "cells": [
  {
   "cell_type": "code",
   "metadata": {
    "id": "QhYJy91EZrM-",
    "ExecuteTime": {
     "end_time": "2024-11-15T16:18:56.145496Z",
     "start_time": "2024-11-15T16:18:55.076181Z"
    }
   },
   "source": [
    "from langchain.agents import create_openai_tools_agent\n",
    "from langchain_openai.chat_models import ChatOpenAI\n",
    "from langchain.memory import ConversationBufferMemory\n",
    "from langchain_core.messages import SystemMessage\n",
    "from langchain.tools import StructuredTool\n",
    "from langchain_community.utilities.serpapi import SerpAPIWrapper\n",
    "import os"
   ],
   "outputs": [
    {
     "name": "stderr",
     "output_type": "stream",
     "text": [
      "/Users/gordontveito-duncan/Documents/GitHub/prompt-engineering-for-generative-ai-examples/venv/lib/python3.9/site-packages/urllib3/__init__.py:35: NotOpenSSLWarning: urllib3 v2 only supports OpenSSL 1.1.1+, currently the 'ssl' module is compiled with 'LibreSSL 2.8.3'. See: https://github.com/urllib3/urllib3/issues/3020\n",
      "  warnings.warn(\n"
     ]
    }
   ],
   "execution_count": 1
  },
  {
   "metadata": {},
   "cell_type": "markdown",
   "source": [
    "# Set the environment variable for the API key:\n",
    "os.environ['SERPAPI_API_KEY'] = 'INSERT_API_KEY_HERE'"
   ]
  },
  {
   "cell_type": "code",
   "metadata": {
    "id": "DcXgRYTXZrNB",
    "ExecuteTime": {
     "end_time": "2024-11-15T16:18:56.149463Z",
     "start_time": "2024-11-15T16:18:56.146582Z"
    }
   },
   "source": [
    "# Define Tools:\n",
    "def google_search(query: str):\n",
    "    \"\"\"Tool to search Google\"\"\"\n",
    "    return SerpAPIWrapper().run(query)\n",
    "\n",
    "def save_interview(raw_interview_text: str):\n",
    "    \"\"\"Tool to save the interview. You must pass the entire interview and conversation in here.\n",
    "    The interview will then be saved to a local file. Remember to include all of the previous chat messages.\n",
    "    Include all of the messages with the user and the AI, here is a good response:\n",
    "    AI: some text\n",
    "    Human: some text\n",
    "    ...\n",
    "    ---\n",
    "    \"\"\"\n",
    "    # Save to local file:\n",
    "    with open(\"interview.txt\", \"w\") as f:\n",
    "        f.write(raw_interview_text)\n",
    "    return f\"Interview saved! Content: {raw_interview_text}. File: interview.txt. You must tell the user that the interview is saved.\"\n",
    "\n",
    "def get_pokemon(pokemon_name: str):\n",
    "    \"\"\"Tool to get a single Pokemon\"\"\"\n",
    "    import requests\n",
    "    clean_pokemon_name = pokemon_name.lower()\n",
    "    # Get the Pokemon\n",
    "    try:\n",
    "        pokemon = requests.get(f\"https://pokeapi.co/api/v2/pokemon/{clean_pokemon_name}\").json()\n",
    "        if pokemon:\n",
    "            return f\"Pokemon found! Name: {pokemon['name']}. Height: {pokemon['height']}. Weight: {pokemon['weight']}.\"\n",
    "        else:\n",
    "            return \"Pokemon not found!\"\n",
    "    except Exception as e:\n",
    "        print(e)\n",
    "        return \"Pokemon not found! Try a different pokemon.\""
   ],
   "outputs": [],
   "execution_count": 2
  },
  {
   "cell_type": "code",
   "metadata": {
    "id": "MHZcY8UXZrNB",
    "ExecuteTime": {
     "end_time": "2024-11-15T16:18:56.156141Z",
     "start_time": "2024-11-15T16:18:56.150080Z"
    }
   },
   "source": [
    "# Convert functions to Structured Tools:\n",
    "google_search = StructuredTool.from_function(google_search)\n",
    "save_interview = StructuredTool.from_function(save_interview)\n",
    "get_single_pokemon = StructuredTool.from_function(get_pokemon)"
   ],
   "outputs": [],
   "execution_count": 3
  },
  {
   "metadata": {
    "ExecuteTime": {
     "end_time": "2024-11-15T16:18:56.167559Z",
     "start_time": "2024-11-15T16:18:56.157488Z"
    }
   },
   "cell_type": "code",
   "source": [
    "from pydantic.v1 import BaseModel\n",
    "from typing import Optional, Type, Union, Literal, List\n",
    "from langchain.tools import BaseTool\n",
    "from langchain.callbacks.manager import CallbackManagerForToolRun\n",
    "from langchain.tools.base import ToolException\n",
    "from langchain_core.documents import Document\n",
    "import tempfile\n",
    "import requests\n",
    "\n",
    "class ArgumentType(BaseModel):\n",
    "    url: str\n",
    "    file_type: Union[Literal[\"pdf\"], Literal[\"txt\"]]\n",
    "\n",
    "class SummarizeFileFromURL(BaseTool):\n",
    "    name: str = \"SummarizeFileFromURL\"\n",
    "    description: str = \"Summarize a file from a URL.\"\n",
    "    args_schema: Type[ArgumentType] = ArgumentType\n",
    "\n",
    "    def _run(\n",
    "        self,\n",
    "        url: str,\n",
    "        file_type: Union[Literal[\"pdf\"], Literal[\"txt\"]],\n",
    "        run_manager: Optional[CallbackManagerForToolRun] = None,\n",
    "    ) -> str:\n",
    "        \"\"\"Use the tool.\"\"\"\n",
    "        from langchain_community.document_loaders import PyPDFLoader, TextLoader\n",
    "        from langchain.chains.summarize import load_summarize_chain\n",
    "\n",
    "        response = requests.get(url)\n",
    "        if response.status_code != 200:\n",
    "            raise ToolException(\"The URL is not valid. Please try another URL.\")\n",
    "\n",
    "        if file_type == \"pdf\":\n",
    "            with tempfile.NamedTemporaryFile(suffix=\".pdf\", delete=True) as tmp:\n",
    "                tmp.write(response.content)\n",
    "                pdf_loader = PyPDFLoader(file_path=tmp.name)\n",
    "                documents: List[Document] = pdf_loader.load()\n",
    "\n",
    "        else:\n",
    "            with tempfile.NamedTemporaryFile(suffix=\".txt\", delete=True, mode=\"w+t\") as tmp:\n",
    "                tmp.write(response.text)\n",
    "                text_loader = TextLoader(tmp.name)\n",
    "                documents: List[Document] = text_loader.load()\n",
    "\n",
    "        chain = load_summarize_chain(llm=ChatOpenAI(), chain_type=\"map_reduce\")\n",
    "        return chain.run(documents)\n",
    "\n",
    "    async def _arun(\n",
    "        self,\n",
    "        url: str,\n",
    "        file_type: Union[Literal[\"pdf\"], Literal[\"txt\"]],\n",
    "        run_manager: Optional[CallbackManagerForToolRun] = None,\n",
    "    ) -> str:\n",
    "        \"\"\"Use the tool asynchronously.\"\"\"\n",
    "        raise NotImplementedError(\"This tool does not support async yet!\")\n",
    "\n",
    "def _handle_error(error: ToolException) -> str:\n",
    "    return (\n",
    "        \"The following errors occurred during tool execution:\"\n",
    "        + error.args[0]\n",
    "        + \"Please try another tool.\"\n",
    "    )\n",
    "\n",
    "file_summarizer = SummarizeFileFromURL()\n",
    "file_summarizer.handle_tool_error = _handle_error"
   ],
   "outputs": [],
   "execution_count": 4
  },
  {
   "cell_type": "code",
   "metadata": {
    "id": "yy9jGsTEZrNC",
    "ExecuteTime": {
     "end_time": "2024-11-15T16:18:56.169678Z",
     "start_time": "2024-11-15T16:18:56.168192Z"
    }
   },
   "source": [
    "# Tools:\n",
    "tools = [google_search, save_interview, get_single_pokemon, file_summarizer]"
   ],
   "outputs": [],
   "execution_count": 5
  },
  {
   "metadata": {
    "ExecuteTime": {
     "end_time": "2024-11-15T16:18:56.176591Z",
     "start_time": "2024-11-15T16:18:56.170302Z"
    }
   },
   "cell_type": "code",
   "source": [
    "from dotenv import load_dotenv\n",
    "# Load environment variables from .env file\n",
    "load_dotenv()"
   ],
   "outputs": [
    {
     "data": {
      "text/plain": [
       "True"
      ]
     },
     "execution_count": 6,
     "metadata": {},
     "output_type": "execute_result"
    }
   ],
   "execution_count": 6
  },
  {
   "cell_type": "code",
   "metadata": {
    "id": "p3W4xSnQZrNC",
    "ExecuteTime": {
     "end_time": "2024-11-15T16:18:56.305989Z",
     "start_time": "2024-11-15T16:18:56.177303Z"
    }
   },
   "source": [
    "# Create the llm:\n",
    "llm = ChatOpenAI(temperature=0)\n",
    "\n",
    "# Create the ChatPromptTemplate:\n",
    "from langchain_core.prompts import ChatPromptTemplate, MessagesPlaceholder\n",
    "\n",
    "# Define the system message:\n",
    "system_message = SystemMessage(\n",
    "    content=\"\"\"Act as a helpful AI interview assistant,\n",
    "               Always ask a follow-up question, especially after returning results.\n",
    "               Ask one question at a time.\n",
    "               Always be in interview mode or tool mode.\n",
    "               Ask the user about the desired topic.\n",
    "               \"\"\"\n",
    ")\n",
    "\n",
    "# Initialize memory:\n",
    "memory = ConversationBufferMemory(memory_key=\"history\", return_messages=True)\n",
    "\n",
    "# Create the Prompt:\n",
    "prompt = ChatPromptTemplate.from_messages(\n",
    "    [\n",
    "        system_message,\n",
    "        MessagesPlaceholder(variable_name=\"history\"), # This is where the user will write/read their messages from as memory\n",
    "        (\"user\", \"{input}\"),\n",
    "        MessagesPlaceholder(\n",
    "            variable_name=\"agent_scratchpad\"\n",
    "        ),  # This is where the agent will write/read its messages from\n",
    "    ]\n",
    ")\n",
    "\n",
    "agent = create_openai_tools_agent(llm=llm, tools=tools, prompt=prompt)"
   ],
   "outputs": [
    {
     "name": "stderr",
     "output_type": "stream",
     "text": [
      "/var/folders/0k/3rxx7x4x7_7f028m32kgbqzh0000gn/T/ipykernel_95908/1333559002.py:18: LangChainDeprecationWarning: Please see the migration guide at: https://python.langchain.com/docs/versions/migrating_memory/\n",
      "  memory = ConversationBufferMemory(memory_key=\"history\", return_messages=True)\n"
     ]
    }
   ],
   "execution_count": 7
  },
  {
   "cell_type": "code",
   "metadata": {
    "id": "fhMSoOkjZrNC",
    "ExecuteTime": {
     "end_time": "2024-11-15T16:18:56.313475Z",
     "start_time": "2024-11-15T16:18:56.306557Z"
    }
   },
   "source": [
    "from langchain_core.runnables import RunnableLambda\n",
    "from operator import itemgetter\n",
    "\n",
    "# Formats the python function tools into JSON schema and binds them to the model:\n",
    "llm_with_tools = llm.bind_tools(tools)\n",
    "\n",
    "from langchain.agents.format_scratchpad.openai_tools import (\n",
    "    format_to_openai_tool_messages,\n",
    ")\n",
    "from langchain.agents.output_parsers.openai_tools import OpenAIToolsAgentOutputParser\n",
    "\n",
    "\n",
    "# Setting up the agent chain:\n",
    "agent = (\n",
    "    {\n",
    "        \"input\": lambda x: x[\"input\"],\n",
    "        \"agent_scratchpad\": lambda x: format_to_openai_tool_messages(\n",
    "            x[\"intermediate_steps\"]\n",
    "        ),\n",
    "        \"history\": RunnableLambda(memory.load_memory_variables) | itemgetter(\"history\"),\n",
    "    }\n",
    "    | prompt\n",
    "    | llm_with_tools\n",
    "    | OpenAIToolsAgentOutputParser()\n",
    ")"
   ],
   "outputs": [],
   "execution_count": 8
  },
  {
   "cell_type": "code",
   "metadata": {
    "id": "5OxnPlOUZrNC",
    "ExecuteTime": {
     "end_time": "2024-11-15T16:18:56.316274Z",
     "start_time": "2024-11-15T16:18:56.314165Z"
    }
   },
   "source": [
    "# Create an agent executor by passing in the agent, tools and memory:\n",
    "from langchain.agents import AgentExecutor\n",
    "agent_executor = AgentExecutor(agent=agent, tools=tools, verbose=True, memory=memory)"
   ],
   "outputs": [],
   "execution_count": 9
  },
  {
   "cell_type": "code",
   "metadata": {
    "colab": {
     "base_uri": "https://localhost:8080/"
    },
    "id": "feqGjRJ-ZrND",
    "outputId": "fa2daf09-709a-4ac4-c81c-5f9472e21b93",
    "ExecuteTime": {
     "end_time": "2024-11-15T16:18:57.538753Z",
     "start_time": "2024-11-15T16:18:56.318191Z"
    }
   },
   "source": [
    "agent_executor.invoke({\"input\": \"My name is James, I'm a computer programmer and I like to play cosy games.\"})"
   ],
   "outputs": [
    {
     "name": "stdout",
     "output_type": "stream",
     "text": [
      "\n",
      "\n",
      "\u001B[1m> Entering new AgentExecutor chain...\u001B[0m\n",
      "\u001B[32;1m\u001B[1;3mNice to meet you, James! It's great to hear that you enjoy playing cosy games. Is there a specific cosy game that you're currently playing or interested in?\u001B[0m\n",
      "\n",
      "\u001B[1m> Finished chain.\u001B[0m\n"
     ]
    },
    {
     "data": {
      "text/plain": [
       "{'input': \"My name is James, I'm a computer programmer and I like to play cosy games.\",\n",
       " 'history': [HumanMessage(content=\"My name is James, I'm a computer programmer and I like to play cosy games.\", additional_kwargs={}, response_metadata={}),\n",
       "  AIMessage(content=\"Nice to meet you, James! It's great to hear that you enjoy playing cosy games. Is there a specific cosy game that you're currently playing or interested in?\", additional_kwargs={}, response_metadata={})],\n",
       " 'output': \"Nice to meet you, James! It's great to hear that you enjoy playing cosy games. Is there a specific cosy game that you're currently playing or interested in?\"}"
      ]
     },
     "execution_count": 10,
     "metadata": {},
     "output_type": "execute_result"
    }
   ],
   "execution_count": 10
  },
  {
   "cell_type": "code",
   "metadata": {
    "colab": {
     "base_uri": "https://localhost:8080/"
    },
    "id": "PqaPehLCZrND",
    "outputId": "0f9eec59-c974-41e1-9b78-94e6f88304c7",
    "ExecuteTime": {
     "end_time": "2024-11-15T16:18:58.536242Z",
     "start_time": "2024-11-15T16:18:57.539982Z"
    }
   },
   "source": [
    "agent_executor.invoke({\"input\": \"What is my name and my profession?\"})"
   ],
   "outputs": [
    {
     "name": "stdout",
     "output_type": "stream",
     "text": [
      "\n",
      "\n",
      "\u001B[1m> Entering new AgentExecutor chain...\u001B[0m\n",
      "\u001B[32;1m\u001B[1;3mYour name is James, and you mentioned that you are a computer programmer. It's nice to know more about you! Is there a particular aspect of computer programming that you specialize in or enjoy the most?\u001B[0m\n",
      "\n",
      "\u001B[1m> Finished chain.\u001B[0m\n"
     ]
    },
    {
     "data": {
      "text/plain": [
       "{'input': 'What is my name and my profession?',\n",
       " 'history': [HumanMessage(content=\"My name is James, I'm a computer programmer and I like to play cosy games.\", additional_kwargs={}, response_metadata={}),\n",
       "  AIMessage(content=\"Nice to meet you, James! It's great to hear that you enjoy playing cosy games. Is there a specific cosy game that you're currently playing or interested in?\", additional_kwargs={}, response_metadata={}),\n",
       "  HumanMessage(content='What is my name and my profession?', additional_kwargs={}, response_metadata={}),\n",
       "  AIMessage(content=\"Your name is James, and you mentioned that you are a computer programmer. It's nice to know more about you! Is there a particular aspect of computer programming that you specialize in or enjoy the most?\", additional_kwargs={}, response_metadata={})],\n",
       " 'output': \"Your name is James, and you mentioned that you are a computer programmer. It's nice to know more about you! Is there a particular aspect of computer programming that you specialize in or enjoy the most?\"}"
      ]
     },
     "execution_count": 11,
     "metadata": {},
     "output_type": "execute_result"
    }
   ],
   "execution_count": 11
  },
  {
   "cell_type": "code",
   "metadata": {
    "colab": {
     "base_uri": "https://localhost:8080/"
    },
    "id": "JwwKQzbdZrND",
    "outputId": "dfb09917-a3a2-4ec3-fcc5-7f05dbc6ec8f",
    "ExecuteTime": {
     "end_time": "2024-11-15T16:19:00.584891Z",
     "start_time": "2024-11-15T16:18:58.537399Z"
    }
   },
   "source": [
    "agent_executor.invoke({\"input\": \"Get information about Pikachu\"})"
   ],
   "outputs": [
    {
     "name": "stdout",
     "output_type": "stream",
     "text": [
      "\n",
      "\n",
      "\u001B[1m> Entering new AgentExecutor chain...\u001B[0m\n",
      "\u001B[32;1m\u001B[1;3m\n",
      "Invoking: `get_pokemon` with `{'pokemon_name': 'Pikachu'}`\n",
      "\n",
      "\n",
      "\u001B[0m\u001B[38;5;200m\u001B[1;3mPokemon found! Name: pikachu. Height: 4. Weight: 60.\u001B[0m\u001B[32;1m\u001B[1;3mPikachu is a popular Pokémon! It has a height of 4 and a weight of 60. Is there anything specific you would like to know about Pikachu or any other Pokémon?\u001B[0m\n",
      "\n",
      "\u001B[1m> Finished chain.\u001B[0m\n"
     ]
    },
    {
     "data": {
      "text/plain": [
       "{'input': 'Get information about Pikachu',\n",
       " 'history': [HumanMessage(content=\"My name is James, I'm a computer programmer and I like to play cosy games.\", additional_kwargs={}, response_metadata={}),\n",
       "  AIMessage(content=\"Nice to meet you, James! It's great to hear that you enjoy playing cosy games. Is there a specific cosy game that you're currently playing or interested in?\", additional_kwargs={}, response_metadata={}),\n",
       "  HumanMessage(content='What is my name and my profession?', additional_kwargs={}, response_metadata={}),\n",
       "  AIMessage(content=\"Your name is James, and you mentioned that you are a computer programmer. It's nice to know more about you! Is there a particular aspect of computer programming that you specialize in or enjoy the most?\", additional_kwargs={}, response_metadata={}),\n",
       "  HumanMessage(content='Get information about Pikachu', additional_kwargs={}, response_metadata={}),\n",
       "  AIMessage(content='Pikachu is a popular Pokémon! It has a height of 4 and a weight of 60. Is there anything specific you would like to know about Pikachu or any other Pokémon?', additional_kwargs={}, response_metadata={})],\n",
       " 'output': 'Pikachu is a popular Pokémon! It has a height of 4 and a weight of 60. Is there anything specific you would like to know about Pikachu or any other Pokémon?'}"
      ]
     },
     "execution_count": 12,
     "metadata": {},
     "output_type": "execute_result"
    }
   ],
   "execution_count": 12
  },
  {
   "cell_type": "code",
   "metadata": {
    "colab": {
     "base_uri": "https://localhost:8080/"
    },
    "id": "oUCOw0FzZrNE",
    "outputId": "98120ce2-35b8-417b-cadf-363b0d0dfcbc",
    "ExecuteTime": {
     "end_time": "2024-11-15T16:19:02.751738Z",
     "start_time": "2024-11-15T16:19:00.586974Z"
    }
   },
   "source": [
    "agent_executor.invoke({\"input\": \"Get information about Charmander\"})"
   ],
   "outputs": [
    {
     "name": "stdout",
     "output_type": "stream",
     "text": [
      "\n",
      "\n",
      "\u001B[1m> Entering new AgentExecutor chain...\u001B[0m\n",
      "\u001B[32;1m\u001B[1;3m\n",
      "Invoking: `get_pokemon` with `{'pokemon_name': 'Charmander'}`\n",
      "\n",
      "\n",
      "\u001B[0m\u001B[38;5;200m\u001B[1;3mPokemon found! Name: charmander. Height: 6. Weight: 85.\u001B[0m\u001B[32;1m\u001B[1;3mCharmander is another iconic Pokémon! It has a height of 6 and a weight of 85. If you have any more Pokémon you'd like to learn about or any other questions, feel free to ask!\u001B[0m\n",
      "\n",
      "\u001B[1m> Finished chain.\u001B[0m\n"
     ]
    },
    {
     "data": {
      "text/plain": [
       "{'input': 'Get information about Charmander',\n",
       " 'history': [HumanMessage(content=\"My name is James, I'm a computer programmer and I like to play cosy games.\", additional_kwargs={}, response_metadata={}),\n",
       "  AIMessage(content=\"Nice to meet you, James! It's great to hear that you enjoy playing cosy games. Is there a specific cosy game that you're currently playing or interested in?\", additional_kwargs={}, response_metadata={}),\n",
       "  HumanMessage(content='What is my name and my profession?', additional_kwargs={}, response_metadata={}),\n",
       "  AIMessage(content=\"Your name is James, and you mentioned that you are a computer programmer. It's nice to know more about you! Is there a particular aspect of computer programming that you specialize in or enjoy the most?\", additional_kwargs={}, response_metadata={}),\n",
       "  HumanMessage(content='Get information about Pikachu', additional_kwargs={}, response_metadata={}),\n",
       "  AIMessage(content='Pikachu is a popular Pokémon! It has a height of 4 and a weight of 60. Is there anything specific you would like to know about Pikachu or any other Pokémon?', additional_kwargs={}, response_metadata={}),\n",
       "  HumanMessage(content='Get information about Charmander', additional_kwargs={}, response_metadata={}),\n",
       "  AIMessage(content=\"Charmander is another iconic Pokémon! It has a height of 6 and a weight of 85. If you have any more Pokémon you'd like to learn about or any other questions, feel free to ask!\", additional_kwargs={}, response_metadata={})],\n",
       " 'output': \"Charmander is another iconic Pokémon! It has a height of 6 and a weight of 85. If you have any more Pokémon you'd like to learn about or any other questions, feel free to ask!\"}"
      ]
     },
     "execution_count": 13,
     "metadata": {},
     "output_type": "execute_result"
    }
   ],
   "execution_count": 13
  },
  {
   "cell_type": "code",
   "metadata": {
    "colab": {
     "base_uri": "https://localhost:8080/"
    },
    "id": "i-S0frDUZrNE",
    "outputId": "840ce901-85b0-4552-e2da-2a0ccfd8317c",
    "ExecuteTime": {
     "end_time": "2024-11-15T16:19:06.552625Z",
     "start_time": "2024-11-15T16:19:02.754662Z"
    }
   },
   "source": [
    "agent_executor.invoke(\n",
    "    {\n",
    "        \"input\": \"I want a comprehensive summary of our conversation! Please can you save it?\"\n",
    "    }\n",
    ")"
   ],
   "outputs": [
    {
     "name": "stdout",
     "output_type": "stream",
     "text": [
      "\n",
      "\n",
      "\u001B[1m> Entering new AgentExecutor chain...\u001B[0m\n",
      "\u001B[32;1m\u001B[1;3m\n",
      "Invoking: `save_interview` with `{'raw_interview_text': \"User: My name is James, I'm a computer programmer and I like to play cosy games.\\nAssistant: Nice to meet you, James! It's great to hear that you enjoy playing cosy games. Is there a specific cosy game that you're currently playing or interested in?\\nUser: What is my name and my profession?\\nAssistant: Your name is James, and you mentioned that you are a computer programmer. It's nice to know more about you! Is there a particular aspect of computer programming that you specialize in or enjoy the most?\\nUser: Get information about Pikachu\\nAssistant: Pikachu is a popular Pokémon! It has a height of 4 and a weight of 60. Is there anything specific you would like to know about Pikachu or any other Pokémon?\\nUser: Get information about Charmander\\nAssistant: Charmander is another iconic Pokémon! It has a height of 6 and a weight of 85. If you have any more Pokémon you'd like to learn about or any other questions, feel free to ask!\\nUser: I want a comprehensive summary of our conversation! Please can you save it?\"}`\n",
      "\n",
      "\n",
      "\u001B[0m\u001B[33;1m\u001B[1;3mInterview saved! Content: User: My name is James, I'm a computer programmer and I like to play cosy games.\n",
      "Assistant: Nice to meet you, James! It's great to hear that you enjoy playing cosy games. Is there a specific cosy game that you're currently playing or interested in?\n",
      "User: What is my name and my profession?\n",
      "Assistant: Your name is James, and you mentioned that you are a computer programmer. It's nice to know more about you! Is there a particular aspect of computer programming that you specialize in or enjoy the most?\n",
      "User: Get information about Pikachu\n",
      "Assistant: Pikachu is a popular Pokémon! It has a height of 4 and a weight of 60. Is there anything specific you would like to know about Pikachu or any other Pokémon?\n",
      "User: Get information about Charmander\n",
      "Assistant: Charmander is another iconic Pokémon! It has a height of 6 and a weight of 85. If you have any more Pokémon you'd like to learn about or any other questions, feel free to ask!\n",
      "User: I want a comprehensive summary of our conversation! Please can you save it?. File: interview.txt. You must tell the user that the interview is saved.\u001B[0m\u001B[32;1m\u001B[1;3mThe conversation has been saved! If you need to refer back to it or have any more questions, feel free to ask. Is there anything else you would like to know or discuss?\u001B[0m\n",
      "\n",
      "\u001B[1m> Finished chain.\u001B[0m\n"
     ]
    },
    {
     "data": {
      "text/plain": [
       "{'input': 'I want a comprehensive summary of our conversation! Please can you save it?',\n",
       " 'history': [HumanMessage(content=\"My name is James, I'm a computer programmer and I like to play cosy games.\", additional_kwargs={}, response_metadata={}),\n",
       "  AIMessage(content=\"Nice to meet you, James! It's great to hear that you enjoy playing cosy games. Is there a specific cosy game that you're currently playing or interested in?\", additional_kwargs={}, response_metadata={}),\n",
       "  HumanMessage(content='What is my name and my profession?', additional_kwargs={}, response_metadata={}),\n",
       "  AIMessage(content=\"Your name is James, and you mentioned that you are a computer programmer. It's nice to know more about you! Is there a particular aspect of computer programming that you specialize in or enjoy the most?\", additional_kwargs={}, response_metadata={}),\n",
       "  HumanMessage(content='Get information about Pikachu', additional_kwargs={}, response_metadata={}),\n",
       "  AIMessage(content='Pikachu is a popular Pokémon! It has a height of 4 and a weight of 60. Is there anything specific you would like to know about Pikachu or any other Pokémon?', additional_kwargs={}, response_metadata={}),\n",
       "  HumanMessage(content='Get information about Charmander', additional_kwargs={}, response_metadata={}),\n",
       "  AIMessage(content=\"Charmander is another iconic Pokémon! It has a height of 6 and a weight of 85. If you have any more Pokémon you'd like to learn about or any other questions, feel free to ask!\", additional_kwargs={}, response_metadata={}),\n",
       "  HumanMessage(content='I want a comprehensive summary of our conversation! Please can you save it?', additional_kwargs={}, response_metadata={}),\n",
       "  AIMessage(content='The conversation has been saved! If you need to refer back to it or have any more questions, feel free to ask. Is there anything else you would like to know or discuss?', additional_kwargs={}, response_metadata={})],\n",
       " 'output': 'The conversation has been saved! If you need to refer back to it or have any more questions, feel free to ask. Is there anything else you would like to know or discuss?'}"
      ]
     },
     "execution_count": 14,
     "metadata": {},
     "output_type": "execute_result"
    }
   ],
   "execution_count": 14
  },
  {
   "cell_type": "code",
   "metadata": {
    "colab": {
     "base_uri": "https://localhost:8080/"
    },
    "id": "_ui5ZhGAZrNE",
    "outputId": "05d93481-453f-419a-88f7-03f2f3f22dca",
    "ExecuteTime": {
     "end_time": "2024-11-15T16:19:09.165679Z",
     "start_time": "2024-11-15T16:19:06.554349Z"
    }
   },
   "source": [
    "try:\n",
    "    agent_executor.invoke({\"input\":\"I want to summarize this https://storage.googleapis.com/oreilly-content/NutriFusion%20Foods%20Marketing%20Plan%202022.docx\"})\n",
    "except Exception as e:\n",
    "    error_message = str(e)\n",
    "    chat = ChatOpenAI()\n",
    "    clean_error_message = chat.invoke([SystemMessage(content=error_message + 'Clean the error message, this will be shown to a user.')])\n",
    "    print(clean_error_message.content)"
   ],
   "outputs": [
    {
     "name": "stdout",
     "output_type": "stream",
     "text": [
      "\n",
      "\n",
      "\u001B[1m> Entering new AgentExecutor chain...\u001B[0m\n",
      "\u001B[32;1m\u001B[1;3m\n",
      "Invoking: `SummarizeFileFromURL` with `{'url': 'https://storage.googleapis.com/oreilly-content/NutriFusion%20Foods%20Marketing%20Plan%202022.docx', 'file_type': 'pdf'}`\n",
      "\n",
      "\n",
      "\u001B[0m"
     ]
    },
    {
     "name": "stderr",
     "output_type": "stream",
     "text": [
      "invalid pdf header: b'PK\\x03\\x04\\x14'\n",
      "EOF marker not found\n"
     ]
    },
    {
     "name": "stdout",
     "output_type": "stream",
     "text": [
      "The stream has ended unexpectedly. Please try refreshing the page or coming back later. Thank you.\n"
     ]
    }
   ],
   "execution_count": 15
  },
  {
   "metadata": {},
   "cell_type": "markdown",
   "source": [
    "# This line will take several minutes as we are summarizing a 41 page .pdf file:\n",
    "agent_executor.invoke(\n",
    "    {\n",
    "        \"input\": \"I want to summarize this https://storage.googleapis.com/oreilly-content/pokemon-rules.pdf \"\n",
    "    }\n",
    ")"
   ]
  },
  {
   "metadata": {
    "ExecuteTime": {
     "end_time": "2024-11-15T16:19:14.401775Z",
     "start_time": "2024-11-15T16:19:09.166575Z"
    }
   },
   "cell_type": "code",
   "source": [
    "# Trying to use the google search tool:\n",
    "agent_executor.invoke(\n",
    "    {\n",
    "        \"input\": \"I want to see the latest news about Tesla from Google, show me the latest 2 articles\"\n",
    "    }\n",
    ")"
   ],
   "outputs": [
    {
     "name": "stdout",
     "output_type": "stream",
     "text": [
      "\n",
      "\n",
      "\u001B[1m> Entering new AgentExecutor chain...\u001B[0m\n",
      "\u001B[32;1m\u001B[1;3m\n",
      "Invoking: `google_search` with `{'query': 'latest news about Tesla'}`\n",
      "\n",
      "\n",
      "\u001B[0m\u001B[36;1m\u001B[1;3m[{'title': 'Tesla brings latest juicy offer to table to boost end of year EV sales', 'link': 'https://www.teslarati.com/tesla-brings-latest-juicy-offer-to-table-to-boost-end-of-year-ev-sales/', 'source': 'Teslarati', 'date': '2 hours ago', 'thumbnail': 'https://serpapi.com/searches/6737747ea869215b14560902/images/ea24528a427ea7d964d707410ce1a6aa25fd468b2acd103d.jpeg'}, {'title': 'Tesla’s Latest Supercharger Update Brings Big Speed Improvements', 'link': 'https://insideevs.com/news/741083/tesla-v4-supercharger-cabinet-speed/', 'source': 'InsideEVs', 'date': '8 hours ago', 'thumbnail': 'https://serpapi.com/searches/6737747ea869215b14560902/images/ea24528a427ea7d9bf08356f4eee71615fb9389967ccf5a3.jpeg'}, {'title': 'Tesla stock to settle after recent surge: Nuveen CIO', 'link': 'https://finance.yahoo.com/news/tesla-stock-to-settle-after-recent-surge-nuveen-cio-204349139.html', 'source': 'Yahoo Finance', 'date': '2 days ago', 'thumbnail': 'https://serpapi.com/searches/6737747ea869215b14560902/images/ea24528a427ea7d949b88767fb175e460d677cb834852357.jpeg'}, {'title': \"Canada: 4 Indians burned to death in car after Tesla ‘electronic doors failed’; sole survivor's saviour speaks out\", 'link': 'https://www.hindustantimes.com/world-news/canada-4-indians-burned-to-death-in-car-after-tesla-electronic-doors-failed-sole-survivors-saviour-speaks-out-101731423507779.html', 'source': 'Hindustan Times', 'date': '2 days ago', 'thumbnail': 'https://serpapi.com/searches/6737747ea869215b14560902/images/ea24528a427ea7d9c67edd6e5c31817b0626f48bb219c884.jpeg'}]\u001B[0m\u001B[32;1m\u001B[1;3mHere are the latest articles about Tesla:\n",
      "\n",
      "1. Title: [Tesla brings latest juicy offer to table to boost end of year EV sales](https://www.teslarati.com/tesla-brings-latest-juicy-offer-to-table-to-boost-end-of-year-ev-sales/)\n",
      "   - Source: Teslarati\n",
      "   - Date: 2 hours ago\n",
      "\n",
      "2. Title: [Tesla’s Latest Supercharger Update Brings Big Speed Improvements](https://insideevs.com/news/741083/tesla-v4-supercharger-cabinet-speed/)\n",
      "   - Source: InsideEVs\n",
      "   - Date: 8 hours ago\n",
      "\n",
      "Feel free to click on the links to read more about the latest news on Tesla. Is there anything else you would like to know or discuss?\u001B[0m\n",
      "\n",
      "\u001B[1m> Finished chain.\u001B[0m\n"
     ]
    },
    {
     "data": {
      "text/plain": [
       "{'input': 'I want to see the latest news about Tesla from Google, show me the latest 2 articles',\n",
       " 'history': [HumanMessage(content=\"My name is James, I'm a computer programmer and I like to play cosy games.\", additional_kwargs={}, response_metadata={}),\n",
       "  AIMessage(content=\"Nice to meet you, James! It's great to hear that you enjoy playing cosy games. Is there a specific cosy game that you're currently playing or interested in?\", additional_kwargs={}, response_metadata={}),\n",
       "  HumanMessage(content='What is my name and my profession?', additional_kwargs={}, response_metadata={}),\n",
       "  AIMessage(content=\"Your name is James, and you mentioned that you are a computer programmer. It's nice to know more about you! Is there a particular aspect of computer programming that you specialize in or enjoy the most?\", additional_kwargs={}, response_metadata={}),\n",
       "  HumanMessage(content='Get information about Pikachu', additional_kwargs={}, response_metadata={}),\n",
       "  AIMessage(content='Pikachu is a popular Pokémon! It has a height of 4 and a weight of 60. Is there anything specific you would like to know about Pikachu or any other Pokémon?', additional_kwargs={}, response_metadata={}),\n",
       "  HumanMessage(content='Get information about Charmander', additional_kwargs={}, response_metadata={}),\n",
       "  AIMessage(content=\"Charmander is another iconic Pokémon! It has a height of 6 and a weight of 85. If you have any more Pokémon you'd like to learn about or any other questions, feel free to ask!\", additional_kwargs={}, response_metadata={}),\n",
       "  HumanMessage(content='I want a comprehensive summary of our conversation! Please can you save it?', additional_kwargs={}, response_metadata={}),\n",
       "  AIMessage(content='The conversation has been saved! If you need to refer back to it or have any more questions, feel free to ask. Is there anything else you would like to know or discuss?', additional_kwargs={}, response_metadata={}),\n",
       "  HumanMessage(content='I want to see the latest news about Tesla from Google, show me the latest 2 articles', additional_kwargs={}, response_metadata={}),\n",
       "  AIMessage(content='Here are the latest articles about Tesla:\\n\\n1. Title: [Tesla brings latest juicy offer to table to boost end of year EV sales](https://www.teslarati.com/tesla-brings-latest-juicy-offer-to-table-to-boost-end-of-year-ev-sales/)\\n   - Source: Teslarati\\n   - Date: 2 hours ago\\n\\n2. Title: [Tesla’s Latest Supercharger Update Brings Big Speed Improvements](https://insideevs.com/news/741083/tesla-v4-supercharger-cabinet-speed/)\\n   - Source: InsideEVs\\n   - Date: 8 hours ago\\n\\nFeel free to click on the links to read more about the latest news on Tesla. Is there anything else you would like to know or discuss?', additional_kwargs={}, response_metadata={})],\n",
       " 'output': 'Here are the latest articles about Tesla:\\n\\n1. Title: [Tesla brings latest juicy offer to table to boost end of year EV sales](https://www.teslarati.com/tesla-brings-latest-juicy-offer-to-table-to-boost-end-of-year-ev-sales/)\\n   - Source: Teslarati\\n   - Date: 2 hours ago\\n\\n2. Title: [Tesla’s Latest Supercharger Update Brings Big Speed Improvements](https://insideevs.com/news/741083/tesla-v4-supercharger-cabinet-speed/)\\n   - Source: InsideEVs\\n   - Date: 8 hours ago\\n\\nFeel free to click on the links to read more about the latest news on Tesla. Is there anything else you would like to know or discuss?'}"
      ]
     },
     "execution_count": 16,
     "metadata": {},
     "output_type": "execute_result"
    }
   ],
   "execution_count": 16
  },
  {
   "metadata": {
    "ExecuteTime": {
     "end_time": "2024-11-15T16:19:14.404746Z",
     "start_time": "2024-11-15T16:19:14.403146Z"
    }
   },
   "cell_type": "code",
   "source": "",
   "outputs": [],
   "execution_count": 16
  }
 ],
 "metadata": {
  "colab": {
   "provenance": []
  },
  "kernelspec": {
   "display_name": "base",
   "language": "python",
   "name": "python3"
  },
  "language_info": {
   "codemirror_mode": {
    "name": "ipython",
    "version": 3
   },
   "file_extension": ".py",
   "mimetype": "text/x-python",
   "name": "python",
   "nbconvert_exporter": "python",
   "pygments_lexer": "ipython3",
   "version": "3.9.13"
  },
  "orig_nbformat": 4
 },
 "nbformat": 4,
 "nbformat_minor": 0
}
