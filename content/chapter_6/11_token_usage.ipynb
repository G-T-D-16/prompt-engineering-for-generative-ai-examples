{
 "cells": [
  {
   "attachments": {},
   "cell_type": "markdown",
   "metadata": {},
   "source": [
    "## Token Usage\n"
   ]
  },
  {
   "cell_type": "code",
   "metadata": {
    "ExecuteTime": {
     "end_time": "2024-11-15T16:45:07.089765Z",
     "start_time": "2024-11-15T16:45:05.370085Z"
    }
   },
   "source": [
    "import asyncio\n",
    "from langchain.callbacks import get_openai_callback\n",
    "from langchain_core.messages import SystemMessage\n",
    "from langchain_openai.chat_models import ChatOpenAI"
   ],
   "outputs": [
    {
     "name": "stderr",
     "output_type": "stream",
     "text": [
      "/Users/gordontveito-duncan/Documents/GitHub/gl-chatpdf/venv/lib/python3.9/site-packages/urllib3/__init__.py:35: NotOpenSSLWarning: urllib3 v2 only supports OpenSSL 1.1.1+, currently the 'ssl' module is compiled with 'LibreSSL 2.8.3'. See: https://github.com/urllib3/urllib3/issues/3020\n",
      "  warnings.warn(\n"
     ]
    }
   ],
   "execution_count": 1
  },
  {
   "cell_type": "code",
   "metadata": {
    "ExecuteTime": {
     "end_time": "2024-11-15T16:45:10.961628Z",
     "start_time": "2024-11-15T16:45:10.627408Z"
    }
   },
   "source": [
    "model = ChatOpenAI()"
   ],
   "outputs": [
    {
     "ename": "ValidationError",
     "evalue": "1 validation error for ChatOpenAI\n__root__\n  Did not find openai_api_key, please add an environment variable `OPENAI_API_KEY` which contains it, or pass `openai_api_key` as a named parameter. (type=value_error)",
     "output_type": "error",
     "traceback": [
      "\u001B[0;31m---------------------------------------------------------------------------\u001B[0m",
      "\u001B[0;31mValidationError\u001B[0m                           Traceback (most recent call last)",
      "Cell \u001B[0;32mIn[2], line 1\u001B[0m\n\u001B[0;32m----> 1\u001B[0m model \u001B[38;5;241m=\u001B[39m \u001B[43mChatOpenAI\u001B[49m\u001B[43m(\u001B[49m\u001B[43m)\u001B[49m\n",
      "File \u001B[0;32m~/Documents/GitHub/gl-chatpdf/venv/lib/python3.9/site-packages/langchain_core/load/serializable.py:120\u001B[0m, in \u001B[0;36mSerializable.__init__\u001B[0;34m(self, **kwargs)\u001B[0m\n\u001B[1;32m    119\u001B[0m \u001B[38;5;28;01mdef\u001B[39;00m \u001B[38;5;21m__init__\u001B[39m(\u001B[38;5;28mself\u001B[39m, \u001B[38;5;241m*\u001B[39m\u001B[38;5;241m*\u001B[39mkwargs: Any) \u001B[38;5;241m-\u001B[39m\u001B[38;5;241m>\u001B[39m \u001B[38;5;28;01mNone\u001B[39;00m:\n\u001B[0;32m--> 120\u001B[0m     \u001B[38;5;28;43msuper\u001B[39;49m\u001B[43m(\u001B[49m\u001B[43m)\u001B[49m\u001B[38;5;241;43m.\u001B[39;49m\u001B[38;5;21;43m__init__\u001B[39;49m\u001B[43m(\u001B[49m\u001B[38;5;241;43m*\u001B[39;49m\u001B[38;5;241;43m*\u001B[39;49m\u001B[43mkwargs\u001B[49m\u001B[43m)\u001B[49m\n\u001B[1;32m    121\u001B[0m     \u001B[38;5;28mself\u001B[39m\u001B[38;5;241m.\u001B[39m_lc_kwargs \u001B[38;5;241m=\u001B[39m kwargs\n",
      "File \u001B[0;32m~/Documents/GitHub/gl-chatpdf/venv/lib/python3.9/site-packages/pydantic/v1/main.py:341\u001B[0m, in \u001B[0;36mBaseModel.__init__\u001B[0;34m(__pydantic_self__, **data)\u001B[0m\n\u001B[1;32m    339\u001B[0m values, fields_set, validation_error \u001B[38;5;241m=\u001B[39m validate_model(__pydantic_self__\u001B[38;5;241m.\u001B[39m\u001B[38;5;18m__class__\u001B[39m, data)\n\u001B[1;32m    340\u001B[0m \u001B[38;5;28;01mif\u001B[39;00m validation_error:\n\u001B[0;32m--> 341\u001B[0m     \u001B[38;5;28;01mraise\u001B[39;00m validation_error\n\u001B[1;32m    342\u001B[0m \u001B[38;5;28;01mtry\u001B[39;00m:\n\u001B[1;32m    343\u001B[0m     object_setattr(__pydantic_self__, \u001B[38;5;124m'\u001B[39m\u001B[38;5;124m__dict__\u001B[39m\u001B[38;5;124m'\u001B[39m, values)\n",
      "\u001B[0;31mValidationError\u001B[0m: 1 validation error for ChatOpenAI\n__root__\n  Did not find openai_api_key, please add an environment variable `OPENAI_API_KEY` which contains it, or pass `openai_api_key` as a named parameter. (type=value_error)"
     ]
    }
   ],
   "execution_count": 2
  },
  {
   "cell_type": "code",
   "metadata": {
    "ExecuteTime": {
     "end_time": "2024-11-15T16:45:12.098539Z",
     "start_time": "2024-11-15T16:45:12.009591Z"
    }
   },
   "source": [
    "with get_openai_callback() as cb:\n",
    "    model.invoke([SystemMessage(content=\"My name is James\")])\n",
    "total_tokens = cb.total_tokens\n",
    "print(total_tokens)\n",
    "assert total_tokens > 0"
   ],
   "outputs": [
    {
     "ename": "NameError",
     "evalue": "name 'model' is not defined",
     "output_type": "error",
     "traceback": [
      "\u001B[0;31m---------------------------------------------------------------------------\u001B[0m",
      "\u001B[0;31mNameError\u001B[0m                                 Traceback (most recent call last)",
      "Cell \u001B[0;32mIn[3], line 2\u001B[0m\n\u001B[1;32m      1\u001B[0m \u001B[38;5;28;01mwith\u001B[39;00m get_openai_callback() \u001B[38;5;28;01mas\u001B[39;00m cb:\n\u001B[0;32m----> 2\u001B[0m     \u001B[43mmodel\u001B[49m\u001B[38;5;241m.\u001B[39minvoke([SystemMessage(content\u001B[38;5;241m=\u001B[39m\u001B[38;5;124m\"\u001B[39m\u001B[38;5;124mMy name is James\u001B[39m\u001B[38;5;124m\"\u001B[39m)])\n\u001B[1;32m      3\u001B[0m total_tokens \u001B[38;5;241m=\u001B[39m cb\u001B[38;5;241m.\u001B[39mtotal_tokens\n\u001B[1;32m      4\u001B[0m \u001B[38;5;28mprint\u001B[39m(total_tokens)\n",
      "\u001B[0;31mNameError\u001B[0m: name 'model' is not defined"
     ]
    }
   ],
   "execution_count": 3
  },
  {
   "cell_type": "code",
   "metadata": {
    "ExecuteTime": {
     "end_time": "2024-11-15T16:45:15.026442Z",
     "start_time": "2024-11-15T16:45:14.978115Z"
    }
   },
   "source": [
    "with get_openai_callback() as cb:\n",
    "    model.invoke([SystemMessage(content=\"My name is James\")])\n",
    "    model.invoke([SystemMessage(content=\"My name is James\")])\n",
    "assert cb.total_tokens == total_tokens * 2"
   ],
   "outputs": [
    {
     "ename": "NameError",
     "evalue": "name 'model' is not defined",
     "output_type": "error",
     "traceback": [
      "\u001B[0;31m---------------------------------------------------------------------------\u001B[0m",
      "\u001B[0;31mNameError\u001B[0m                                 Traceback (most recent call last)",
      "Cell \u001B[0;32mIn[4], line 2\u001B[0m\n\u001B[1;32m      1\u001B[0m \u001B[38;5;28;01mwith\u001B[39;00m get_openai_callback() \u001B[38;5;28;01mas\u001B[39;00m cb:\n\u001B[0;32m----> 2\u001B[0m     \u001B[43mmodel\u001B[49m\u001B[38;5;241m.\u001B[39minvoke([SystemMessage(content\u001B[38;5;241m=\u001B[39m\u001B[38;5;124m\"\u001B[39m\u001B[38;5;124mMy name is James\u001B[39m\u001B[38;5;124m\"\u001B[39m)])\n\u001B[1;32m      3\u001B[0m     model\u001B[38;5;241m.\u001B[39minvoke([SystemMessage(content\u001B[38;5;241m=\u001B[39m\u001B[38;5;124m\"\u001B[39m\u001B[38;5;124mMy name is James\u001B[39m\u001B[38;5;124m\"\u001B[39m)])\n\u001B[1;32m      4\u001B[0m \u001B[38;5;28;01massert\u001B[39;00m cb\u001B[38;5;241m.\u001B[39mtotal_tokens \u001B[38;5;241m==\u001B[39m total_tokens \u001B[38;5;241m*\u001B[39m \u001B[38;5;241m2\u001B[39m\n",
      "\u001B[0;31mNameError\u001B[0m: name 'model' is not defined"
     ]
    }
   ],
   "execution_count": 4
  },
  {
   "cell_type": "code",
   "metadata": {
    "ExecuteTime": {
     "end_time": "2024-11-15T16:45:16.043540Z",
     "start_time": "2024-11-15T16:45:15.977072Z"
    }
   },
   "source": [
    "# Async callbacks:\n",
    "with get_openai_callback() as cb:\n",
    "    await asyncio.gather(\n",
    "        model.agenerate(\n",
    "            [\n",
    "                [SystemMessage(content=\"Is the meaning of life 42?\")],\n",
    "                [SystemMessage(content=\"Is the meaning of life 42?\")],\n",
    "            ],\n",
    "        )\n",
    "    )\n",
    "print(cb.__dict__)"
   ],
   "outputs": [
    {
     "ename": "NameError",
     "evalue": "name 'model' is not defined",
     "output_type": "error",
     "traceback": [
      "\u001B[0;31m---------------------------------------------------------------------------\u001B[0m",
      "\u001B[0;31mNameError\u001B[0m                                 Traceback (most recent call last)",
      "Cell \u001B[0;32mIn[5], line 4\u001B[0m\n\u001B[1;32m      1\u001B[0m \u001B[38;5;66;03m# Async callbacks:\u001B[39;00m\n\u001B[1;32m      2\u001B[0m \u001B[38;5;28;01mwith\u001B[39;00m get_openai_callback() \u001B[38;5;28;01mas\u001B[39;00m cb:\n\u001B[1;32m      3\u001B[0m     \u001B[38;5;28;01mawait\u001B[39;00m asyncio\u001B[38;5;241m.\u001B[39mgather(\n\u001B[0;32m----> 4\u001B[0m         model\u001B[38;5;241m.\u001B[39magenerate(\n\u001B[1;32m      5\u001B[0m             [\n\u001B[1;32m      6\u001B[0m                 [SystemMessage(content\u001B[38;5;241m=\u001B[39m\u001B[38;5;124m\"\u001B[39m\u001B[38;5;124mIs the meaning of life 42?\u001B[39m\u001B[38;5;124m\"\u001B[39m)],\n\u001B[1;32m      7\u001B[0m                 [SystemMessage(content\u001B[38;5;241m=\u001B[39m\u001B[38;5;124m\"\u001B[39m\u001B[38;5;124mIs the meaning of life 42?\u001B[39m\u001B[38;5;124m\"\u001B[39m)],\n\u001B[1;32m      8\u001B[0m             ],\n\u001B[1;32m      9\u001B[0m         )\n\u001B[1;32m     10\u001B[0m     )\n\u001B[1;32m     11\u001B[0m \u001B[38;5;28mprint\u001B[39m(cb\u001B[38;5;241m.\u001B[39m\u001B[38;5;18m__dict__\u001B[39m)\n",
      "\u001B[0;31mNameError\u001B[0m: name 'model' is not defined"
     ]
    }
   ],
   "execution_count": 5
  },
  {
   "metadata": {},
   "cell_type": "code",
   "outputs": [],
   "execution_count": null,
   "source": ""
  }
 ],
 "metadata": {
  "kernelspec": {
   "display_name": "base",
   "language": "python",
   "name": "python3"
  },
  "language_info": {
   "codemirror_mode": {
    "name": "ipython",
    "version": 3
   },
   "file_extension": ".py",
   "mimetype": "text/x-python",
   "name": "python",
   "nbconvert_exporter": "python",
   "pygments_lexer": "ipython3",
   "version": "3.9.13"
  },
  "orig_nbformat": 4
 },
 "nbformat": 4,
 "nbformat_minor": 2
}
