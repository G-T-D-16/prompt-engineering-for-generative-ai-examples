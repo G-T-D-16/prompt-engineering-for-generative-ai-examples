{
 "cells": [
  {
   "cell_type": "code",
   "metadata": {
    "ExecuteTime": {
     "end_time": "2024-10-25T07:18:35.538533Z",
     "start_time": "2024-10-25T07:18:34.804675Z"
    }
   },
   "source": [
    "from langchain_core.documents import Document\n",
    "from langchain_community.vectorstores.chroma import Chroma\n",
    "from langchain_openai import OpenAIEmbeddings\n",
    "import lark\n",
    "import getpass\n",
    "import os\n",
    "import warnings\n",
    "\n",
    "# Disabling warnings:\n",
    "warnings.filterwarnings(\"ignore\")"
   ],
   "outputs": [
    {
     "name": "stderr",
     "output_type": "stream",
     "text": [
      "/Users/gordontveito-duncan/Documents/GitHub/prompt-engineering-for-generative-ai-examples/venv/lib/python3.9/site-packages/urllib3/__init__.py:35: NotOpenSSLWarning: urllib3 v2 only supports OpenSSL 1.1.1+, currently the 'ssl' module is compiled with 'LibreSSL 2.8.3'. See: https://github.com/urllib3/urllib3/issues/3020\n",
      "  warnings.warn(\n"
     ]
    }
   ],
   "execution_count": 1
  },
  {
   "cell_type": "code",
   "metadata": {
    "ExecuteTime": {
     "end_time": "2024-10-25T07:19:35.971485Z",
     "start_time": "2024-10-25T07:19:35.962165Z"
    }
   },
   "source": [
    "docs = [\n",
    "    Document(\n",
    "        page_content=\"A tale about a young wizard and his journey in a magical school.\",\n",
    "        metadata={\n",
    "            \"title\": \"Harry Potter and the Philosopher's Stone\",\n",
    "            \"author\": \"J.K. Rowling\",\n",
    "            \"year_published\": 1997,\n",
    "            \"genre\": \"Fiction\",\n",
    "            \"isbn\": \"978-0747532699\",\n",
    "            \"publisher\": \"Bloomsbury\",\n",
    "            \"language\": \"English\",\n",
    "            \"page_count\": 223,\n",
    "            \"summary\": \"The first book in the Harry Potter series where Harry discovers his magical heritage.\",\n",
    "            \"rating\": 4.8,\n",
    "        },\n",
    "    ),\n",
    "    Document(\n",
    "        page_content=\"An epic tale of power, betrayal and love set in a fantastical world.\",\n",
    "        metadata={\n",
    "            \"title\": \"A Game of Thrones\",\n",
    "            \"author\": \"George R.R. Martin\",\n",
    "            \"year_published\": 1996,\n",
    "            \"genre\": \"Fantasy\",\n",
    "            \"isbn\": \"978-0553103540\",\n",
    "            \"publisher\": \"Bantam\",\n",
    "            \"language\": \"English\",\n",
    "            \"page_count\": 694,\n",
    "            \"summary\": \"The first book in A Song of Ice and Fire series, introducing the intricate world of Westeros.\",\n",
    "            \"rating\": 4.6,\n",
    "        },\n",
    "    ),\n",
    "    Document(\n",
    "        page_content=\"A futuristic society where firemen burn books to maintain order.\",\n",
    "        metadata={\n",
    "            \"title\": \"Fahrenheit 451\",\n",
    "            \"author\": \"Ray Bradbury\",\n",
    "            \"year_published\": 1953,\n",
    "            \"genre\": \"Science Fiction\",\n",
    "            \"isbn\": \"978-1451673319\",\n",
    "            \"publisher\": \"Simon & Schuster\",\n",
    "            \"language\": \"English\",\n",
    "            \"page_count\": 249,\n",
    "            \"summary\": \"In a future society, books are banned and firemen are tasked to burn any they find, leading one fireman to question his role.\",\n",
    "            \"rating\": 4.4,\n",
    "        },\n",
    "    ),\n",
    "    Document(\n",
    "        page_content=\"A young woman's life in the South during the Civil War and Reconstruction.\",\n",
    "        metadata={\n",
    "            \"title\": \"Gone with the Wind\",\n",
    "            \"author\": \"Margaret Mitchell\",\n",
    "            \"year_published\": 1936,\n",
    "            \"genre\": \"Historical Fiction\",\n",
    "            \"isbn\": \"978-0684830681\",\n",
    "            \"publisher\": \"Macmillan\",\n",
    "            \"language\": \"English\",\n",
    "            \"page_count\": 1037,\n",
    "            \"summary\": \"The tale of Scarlett O'Hara and her love affair with Rhett Butler, set against the backdrop of the American Civil War.\",\n",
    "            \"rating\": 4.3,\n",
    "        },\n",
    "    ),\n",
    "    Document(\n",
    "        page_content=\"A story about a hobbit's journey to destroy a powerful ring.\",\n",
    "        metadata={\n",
    "            \"title\": \"The Lord of the Rings\",\n",
    "            \"author\": \"J.R.R. Tolkien\",\n",
    "            \"year_published\": 1954,\n",
    "            \"genre\": \"Fantasy\",\n",
    "            \"isbn\": \"978-0618640157\",\n",
    "            \"publisher\": \"Houghton Mifflin\",\n",
    "            \"language\": \"English\",\n",
    "            \"page_count\": 1216,\n",
    "            \"summary\": \"The epic tale of Frodo Baggins and his quest to destroy the One Ring, accompanied by a group of diverse companions.\",\n",
    "            \"rating\": 4.7,\n",
    "        },\n",
    "    ),\n",
    "]"
   ],
   "outputs": [],
   "execution_count": 2
  },
  {
   "cell_type": "code",
   "metadata": {
    "ExecuteTime": {
     "end_time": "2024-10-25T07:19:40.455555Z",
     "start_time": "2024-10-25T07:19:39.361206Z"
    }
   },
   "source": [
    "from langchain_openai.chat_models import ChatOpenAI\n",
    "from langchain.retrievers.self_query.base import SelfQueryRetriever\n",
    "from langchain.chains.query_constructor.base import AttributeInfo"
   ],
   "outputs": [],
   "execution_count": 3
  },
  {
   "metadata": {
    "ExecuteTime": {
     "end_time": "2024-10-25T07:20:00.982795Z",
     "start_time": "2024-10-25T07:20:00.933587Z"
    }
   },
   "cell_type": "code",
   "source": [
    "from dotenv import load_dotenv\n",
    "# Load environment variables from .env file\n",
    "load_dotenv()"
   ],
   "outputs": [
    {
     "data": {
      "text/plain": [
       "True"
      ]
     },
     "execution_count": 5,
     "metadata": {},
     "output_type": "execute_result"
    }
   ],
   "execution_count": 5
  },
  {
   "cell_type": "code",
   "metadata": {
    "ExecuteTime": {
     "end_time": "2024-10-25T07:20:03.653074Z",
     "start_time": "2024-10-25T07:20:01.815479Z"
    }
   },
   "source": [
    "# Create the embeddings and vectorstore:\n",
    "embeddings = OpenAIEmbeddings()\n",
    "vectorstore = Chroma.from_documents(docs, OpenAIEmbeddings())"
   ],
   "outputs": [],
   "execution_count": 6
  },
  {
   "cell_type": "code",
   "metadata": {
    "ExecuteTime": {
     "end_time": "2024-10-25T07:20:08.770424Z",
     "start_time": "2024-10-25T07:20:08.755907Z"
    }
   },
   "source": [
    "# Basic Info\n",
    "basic_info = [\n",
    "    AttributeInfo(name=\"title\", description=\"The title of the book\", type=\"string\"),\n",
    "    AttributeInfo(name=\"author\", description=\"The author of the book\", type=\"string\"),\n",
    "    AttributeInfo(\n",
    "        name=\"year_published\",\n",
    "        description=\"The year the book was published\",\n",
    "        type=\"integer\",\n",
    "    ),\n",
    "]\n",
    "\n",
    "# Detailed Info\n",
    "detailed_info = [\n",
    "    AttributeInfo(\n",
    "        name=\"genre\", description=\"The genre of the book\", type=\"string or list[string]\"\n",
    "    ),\n",
    "    AttributeInfo(\n",
    "        name=\"isbn\",\n",
    "        description=\"The International Standard Book Number for the book\",\n",
    "        type=\"string\",\n",
    "    ),\n",
    "    AttributeInfo(\n",
    "        name=\"publisher\",\n",
    "        description=\"The publishing house that published the book\",\n",
    "        type=\"string\",\n",
    "    ),\n",
    "    AttributeInfo(\n",
    "        name=\"language\",\n",
    "        description=\"The primary language the book is written in\",\n",
    "        type=\"string\",\n",
    "    ),\n",
    "    AttributeInfo(\n",
    "        name=\"page_count\", description=\"Number of pages in the book\", type=\"integer\"\n",
    "    ),\n",
    "]\n",
    "\n",
    "# Analysis\n",
    "analysis = [\n",
    "    AttributeInfo(\n",
    "        name=\"summary\",\n",
    "        description=\"A brief summary or description of the book\",\n",
    "        type=\"string\",\n",
    "    ),\n",
    "    AttributeInfo(\n",
    "        name=\"rating\",\n",
    "        description=\"An average rating for the book (from reviews), ranging from 1-5\",\n",
    "        type=\"float\",\n",
    "    ),\n",
    "]\n",
    "\n",
    "# Combining all lists into metadata_field_info\n",
    "metadata_field_info = basic_info + detailed_info + analysis"
   ],
   "outputs": [],
   "execution_count": 7
  },
  {
   "cell_type": "code",
   "metadata": {
    "ExecuteTime": {
     "end_time": "2024-10-25T07:20:13.261158Z",
     "start_time": "2024-10-25T07:20:13.212244Z"
    }
   },
   "source": [
    "document_content_description = \"Brief summary of a movie\"\n",
    "llm = ChatOpenAI(temperature=0)\n",
    "retriever = SelfQueryRetriever.from_llm(\n",
    "    llm, vectorstore, document_content_description, metadata_field_info\n",
    ")"
   ],
   "outputs": [],
   "execution_count": 8
  },
  {
   "cell_type": "code",
   "metadata": {
    "ExecuteTime": {
     "end_time": "2024-10-25T07:22:04.730639Z",
     "start_time": "2024-10-25T07:22:03.425038Z"
    }
   },
   "source": [
    "# Looking for sci-fi books\n",
    "documents = retriever.invoke(\"What are some sci-fi books?\")\n",
    "\n",
    "# De-duplicate:\n",
    "deduped_documents = [\n",
    "    dict(t)\n",
    "    for t in {tuple(d.metadata.items()) for d in documents}\n",
    "]\n",
    "\n",
    "print(deduped_documents)"
   ],
   "outputs": [
    {
     "name": "stdout",
     "output_type": "stream",
     "text": [
      "[{'author': 'J.R.R. Tolkien', 'genre': 'Fantasy', 'isbn': '978-0618640157', 'language': 'English', 'page_count': 1216, 'publisher': 'Houghton Mifflin', 'rating': 4.7, 'summary': 'The epic tale of Frodo Baggins and his quest to destroy the One Ring, accompanied by a group of diverse companions.', 'title': 'The Lord of the Rings', 'year_published': 1954}, {'author': 'Ray Bradbury', 'genre': 'Science Fiction', 'isbn': '978-1451673319', 'language': 'English', 'page_count': 249, 'publisher': 'Simon & Schuster', 'rating': 4.4, 'summary': 'In a future society, books are banned and firemen are tasked to burn any they find, leading one fireman to question his role.', 'title': 'Fahrenheit 451', 'year_published': 1953}, {'author': 'J.K. Rowling', 'genre': 'Fiction', 'isbn': '978-0747532699', 'language': 'English', 'page_count': 223, 'publisher': 'Bloomsbury', 'rating': 4.8, 'summary': 'The first book in the Harry Potter series where Harry discovers his magical heritage.', 'title': \"Harry Potter and the Philosopher's Stone\", 'year_published': 1997}, {'author': 'George R.R. Martin', 'genre': 'Fantasy', 'isbn': '978-0553103540', 'language': 'English', 'page_count': 694, 'publisher': 'Bantam', 'rating': 4.6, 'summary': 'The first book in A Song of Ice and Fire series, introducing the intricate world of Westeros.', 'title': 'A Game of Thrones', 'year_published': 1996}]\n"
     ]
    }
   ],
   "execution_count": 10
  },
  {
   "cell_type": "code",
   "metadata": {
    "ExecuteTime": {
     "end_time": "2024-10-25T07:22:19.683443Z",
     "start_time": "2024-10-25T07:22:18.207874Z"
    }
   },
   "source": [
    "# Querying for a book by J.K. Rowling:\n",
    "retriever.invoke(\"I want some books that are published by the author J.K. Rowling for Harry Potter.\")[0]"
   ],
   "outputs": [
    {
     "data": {
      "text/plain": [
       "Document(page_content='A tale about a young wizard and his journey in a magical school.', metadata={'author': 'J.K. Rowling', 'genre': 'Fiction', 'isbn': '978-0747532699', 'language': 'English', 'page_count': 223, 'publisher': 'Bloomsbury', 'rating': 4.8, 'summary': 'The first book in the Harry Potter series where Harry discovers his magical heritage.', 'title': \"Harry Potter and the Philosopher's Stone\", 'year_published': 1997})"
      ]
     },
     "execution_count": 11,
     "metadata": {},
     "output_type": "execute_result"
    }
   ],
   "execution_count": 11
  },
  {
   "cell_type": "code",
   "metadata": {
    "ExecuteTime": {
     "end_time": "2024-10-25T07:22:25.461245Z",
     "start_time": "2024-10-25T07:22:23.940531Z"
    }
   },
   "source": [
    "retriever = SelfQueryRetriever.from_llm(\n",
    "    llm,\n",
    "    vectorstore,\n",
    "    document_content_description,\n",
    "    metadata_field_info,\n",
    "    enable_limit=True,\n",
    ")\n",
    "\n",
    "retriever.invoke(\"Return 1 Fantasy book\")"
   ],
   "outputs": [
    {
     "data": {
      "text/plain": [
       "[Document(page_content='An epic tale of power, betrayal and love set in a fantastical world.', metadata={'author': 'George R.R. Martin', 'genre': 'Fantasy', 'isbn': '978-0553103540', 'language': 'English', 'page_count': 694, 'publisher': 'Bantam', 'rating': 4.6, 'summary': 'The first book in A Song of Ice and Fire series, introducing the intricate world of Westeros.', 'title': 'A Game of Thrones', 'year_published': 1996})]"
      ]
     },
     "execution_count": 12,
     "metadata": {},
     "output_type": "execute_result"
    }
   ],
   "execution_count": 12
  },
  {
   "metadata": {},
   "cell_type": "code",
   "outputs": [],
   "execution_count": null,
   "source": ""
  }
 ],
 "metadata": {
  "kernelspec": {
   "display_name": "base",
   "language": "python",
   "name": "python3"
  },
  "language_info": {
   "codemirror_mode": {
    "name": "ipython",
    "version": 3
   },
   "file_extension": ".py",
   "mimetype": "text/x-python",
   "name": "python",
   "nbconvert_exporter": "python",
   "pygments_lexer": "ipython3",
   "version": "3.9.13"
  },
  "orig_nbformat": 4
 },
 "nbformat": 4,
 "nbformat_minor": 2
}
