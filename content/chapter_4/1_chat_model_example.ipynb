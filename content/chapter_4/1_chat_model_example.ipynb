{
 "cells": [
  {
   "cell_type": "code",
   "metadata": {
    "ExecuteTime": {
     "end_time": "2024-10-11T10:54:12.174898Z",
     "start_time": "2024-10-11T10:54:12.160476Z"
    }
   },
   "source": [
    "import os\n",
    "from langchain_openai.chat_models import ChatOpenAI\n",
    "from langchain_core.messages import HumanMessage, SystemMessage\n",
    "from dotenv import load_dotenv\n",
    "\n",
    "# Load environment variables from .env file\n",
    "load_dotenv()\n",
    "\n",
    "from nest_asyncio import apply\n",
    "apply()"
   ],
   "outputs": [],
   "execution_count": 6
  },
  {
   "cell_type": "code",
   "metadata": {
    "ExecuteTime": {
     "end_time": "2024-10-11T11:08:18.134410Z",
     "start_time": "2024-10-11T11:08:17.096241Z"
    }
   },
   "source": [
    "#chat = ChatOpenAI(api_key=os.environ.get(\"OPENAI_API_KEY\"), temperature=0.5)\n",
    "chat = ChatOpenAI(api_key=os.environ['OPENAI_API_KEY'], temperature=0.5)\n",
    "messages = [\n",
    "    SystemMessage(content=\"Act as a senior software engineer at a startup company.\"),\n",
    "    HumanMessage(\n",
    "        content=\"Please can you provide a funny joke about software engineers?\"\n",
    "    ),\n",
    "]\n",
    "\n",
    "response = chat.invoke(input=messages)\n",
    "print(response.content)\n",
    "\n",
    "text = \"Translate this sentence from English to Spanish. I love software engineering.\"\n",
    "response = chat.invoke(input=text)\n",
    "print(response.content)\n"
   ],
   "outputs": [
    {
     "name": "stdout",
     "output_type": "stream",
     "text": [
      "Why do software engineers prefer dark mode? \n",
      "\n",
      "Because the light attracts bugs!\n",
      "Amo la ingeniería de software.\n"
     ]
    }
   ],
   "execution_count": 15
  },
  {
   "cell_type": "code",
   "metadata": {
    "ExecuteTime": {
     "end_time": "2024-10-11T11:08:11.211969Z",
     "start_time": "2024-10-11T11:08:10.513491Z"
    }
   },
   "source": [
    "# Streaming example:\n",
    "for chunk in chat.stream(messages):\n",
    "    print(chunk.content, end=\"\", flush=True)"
   ],
   "outputs": [
    {
     "name": "stdout",
     "output_type": "stream",
     "text": [
      "Sure, here's a joke for you: \n",
      "\n",
      "Why do software engineers prefer dark mode? Because the light attracts bugs!"
     ]
    }
   ],
   "execution_count": 14
  },
  {
   "cell_type": "code",
   "metadata": {
    "ExecuteTime": {
     "end_time": "2024-10-11T11:08:22.082289Z",
     "start_time": "2024-10-11T11:08:21.358171Z"
    }
   },
   "source": [
    "# Calling multiple sets of messages at once with .generate() and .agenerate():\n",
    "synchronous_llm_result = chat.batch([messages, messages])\n",
    "print(synchronous_llm_result)\n",
    "\n",
    "# asynchronous_llm_result = asyncio.run(chat.abatch([messages, messages]))\n",
    "# print(asynchronous_llm_result)"
   ],
   "outputs": [
    {
     "name": "stdout",
     "output_type": "stream",
     "text": [
      "[AIMessage(content=\"Sure, here's a software engineer joke for you:\\n\\nWhy do software engineers prefer dark mode?\\n\\nBecause the light attracts bugs!\", response_metadata={'token_usage': {'completion_tokens': 25, 'prompt_tokens': 33, 'total_tokens': 58, 'prompt_tokens_details': {'cached_tokens': 0}, 'completion_tokens_details': {'reasoning_tokens': 0}}, 'model_name': 'gpt-3.5-turbo', 'system_fingerprint': None, 'finish_reason': 'stop', 'logprobs': None}, id='run-69437223-64b4-45f5-93f6-945b169ccfe3-0'), AIMessage(content=\"Sure, here's a classic one for you:\\n\\nWhy do programmers prefer dark mode?\\n\\nBecause the light attracts bugs!\", response_metadata={'token_usage': {'completion_tokens': 23, 'prompt_tokens': 33, 'total_tokens': 56, 'prompt_tokens_details': {'cached_tokens': 0}, 'completion_tokens_details': {'reasoning_tokens': 0}}, 'model_name': 'gpt-3.5-turbo', 'system_fingerprint': None, 'finish_reason': 'stop', 'logprobs': None}, id='run-53a303a2-9a43-4881-ac33-f1f4df0e62ad-0')]\n"
     ]
    }
   ],
   "execution_count": 16
  },
  {
   "cell_type": "code",
   "metadata": {
    "ExecuteTime": {
     "end_time": "2024-10-11T11:08:44.648756Z",
     "start_time": "2024-10-11T11:08:43.775893Z"
    }
   },
   "source": [
    "from langchain_core.runnables.config import RunnableConfig\n",
    "\n",
    "# Create a RunnableConfig with the desired concurrency limit\n",
    "config = RunnableConfig(max_concurrency=5)\n",
    "\n",
    "# Call the .batch() method with the inputs and config\n",
    "results = chat.batch([messages, messages], config=config)"
   ],
   "outputs": [],
   "execution_count": 17
  },
  {
   "metadata": {
    "ExecuteTime": {
     "end_time": "2024-10-11T11:08:54.341915Z",
     "start_time": "2024-10-11T11:08:54.336979Z"
    }
   },
   "cell_type": "code",
   "source": "print(results)",
   "outputs": [
    {
     "name": "stdout",
     "output_type": "stream",
     "text": [
      "[AIMessage(content=\"Sure, here's a classic one for you:\\n\\nWhy do programmers prefer dark mode?\\n\\nBecause the light attracts bugs!\", response_metadata={'token_usage': {'completion_tokens': 23, 'prompt_tokens': 33, 'total_tokens': 56, 'prompt_tokens_details': {'cached_tokens': 0}, 'completion_tokens_details': {'reasoning_tokens': 0}}, 'model_name': 'gpt-3.5-turbo', 'system_fingerprint': None, 'finish_reason': 'stop', 'logprobs': None}, id='run-2392020c-b51a-4d15-ab79-361e71886cdc-0'), AIMessage(content=\"Sure, here's a joke for you:\\n\\nWhy do software engineers prefer dark mode?\\n\\nBecause the light attracts bugs!\", response_metadata={'token_usage': {'completion_tokens': 23, 'prompt_tokens': 33, 'total_tokens': 56, 'prompt_tokens_details': {'cached_tokens': 0}, 'completion_tokens_details': {'reasoning_tokens': 0}}, 'model_name': 'gpt-3.5-turbo', 'system_fingerprint': None, 'finish_reason': 'stop', 'logprobs': None}, id='run-bda9bdb0-1c93-47df-ab96-3f2924daaaf4-0')]\n"
     ]
    }
   ],
   "execution_count": 18
  },
  {
   "metadata": {},
   "cell_type": "code",
   "outputs": [],
   "execution_count": null,
   "source": ""
  }
 ],
 "metadata": {
  "kernelspec": {
   "display_name": "base",
   "language": "python",
   "name": "python3"
  },
  "language_info": {
   "codemirror_mode": {
    "name": "ipython",
    "version": 3
   },
   "file_extension": ".py",
   "mimetype": "text/x-python",
   "name": "python",
   "nbconvert_exporter": "python",
   "pygments_lexer": "ipython3",
   "version": "3.9.13"
  }
 },
 "nbformat": 4,
 "nbformat_minor": 2
}
