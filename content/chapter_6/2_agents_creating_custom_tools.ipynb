{
 "cells": [
  {
   "cell_type": "code",
   "metadata": {
    "ExecuteTime": {
     "end_time": "2024-11-05T12:01:34.793216Z",
     "start_time": "2024-11-05T12:01:33.597354Z"
    }
   },
   "source": [
    "from langchain.agents import AgentExecutor, create_react_agent\n",
    "from langchain import hub\n",
    "from langchain_openai import ChatOpenAI\n",
    "from langchain.tools import Tool"
   ],
   "outputs": [
    {
     "name": "stderr",
     "output_type": "stream",
     "text": [
      "/Users/gordontveito-duncan/Documents/GitHub/prompt-engineering-for-generative-ai-examples/venv/lib/python3.9/site-packages/urllib3/__init__.py:35: NotOpenSSLWarning: urllib3 v2 only supports OpenSSL 1.1.1+, currently the 'ssl' module is compiled with 'LibreSSL 2.8.3'. See: https://github.com/urllib3/urllib3/issues/3020\n",
      "  warnings.warn(\n"
     ]
    }
   ],
   "execution_count": 1
  },
  {
   "metadata": {
    "ExecuteTime": {
     "end_time": "2024-11-05T12:01:57.737682Z",
     "start_time": "2024-11-05T12:01:57.707766Z"
    }
   },
   "cell_type": "code",
   "source": [
    "from dotenv import load_dotenv\n",
    "# Load environment variables from .env file\n",
    "load_dotenv()"
   ],
   "outputs": [
    {
     "data": {
      "text/plain": [
       "True"
      ]
     },
     "execution_count": 3,
     "metadata": {},
     "output_type": "execute_result"
    }
   ],
   "execution_count": 3
  },
  {
   "cell_type": "code",
   "metadata": {
    "ExecuteTime": {
     "end_time": "2024-11-05T12:01:58.589995Z",
     "start_time": "2024-11-05T12:01:58.562278Z"
    }
   },
   "source": [
    "model = ChatOpenAI()"
   ],
   "outputs": [],
   "execution_count": 4
  },
  {
   "cell_type": "code",
   "metadata": {
    "ExecuteTime": {
     "end_time": "2024-11-05T12:02:01.308170Z",
     "start_time": "2024-11-05T12:02:01.305378Z"
    }
   },
   "source": [
    "def count_characters_in_string(string: str) -> str:\n",
    "    return len(string)"
   ],
   "outputs": [],
   "execution_count": 5
  },
  {
   "cell_type": "code",
   "metadata": {
    "ExecuteTime": {
     "end_time": "2024-11-05T12:02:27.175767Z",
     "start_time": "2024-11-05T12:02:27.167892Z"
    }
   },
   "source": [
    "tools = [\n",
    "    Tool.from_function(\n",
    "        func=count_characters_in_string,\n",
    "        name=\"Count Characters in a text string\",\n",
    "        description=\"Count the number of characters in a text string\",\n",
    "    )\n",
    "]"
   ],
   "outputs": [],
   "execution_count": 6
  },
  {
   "cell_type": "code",
   "metadata": {
    "ExecuteTime": {
     "end_time": "2024-11-05T12:02:49.308033Z",
     "start_time": "2024-11-05T12:02:48.774686Z"
    }
   },
   "source": [
    "# Get the prompt to use - you can modify this!\n",
    "prompt = hub.pull(\"hwchase17/react\")"
   ],
   "outputs": [
    {
     "name": "stderr",
     "output_type": "stream",
     "text": [
      "/Users/gordontveito-duncan/Documents/GitHub/prompt-engineering-for-generative-ai-examples/venv/lib/python3.9/site-packages/langsmith/client.py:354: LangSmithMissingAPIKeyWarning: API key must be provided when using hosted LangSmith API\n",
      "  warnings.warn(\n"
     ]
    }
   ],
   "execution_count": 7
  },
  {
   "metadata": {
    "ExecuteTime": {
     "end_time": "2024-11-05T12:03:03.428295Z",
     "start_time": "2024-11-05T12:03:03.421196Z"
    }
   },
   "cell_type": "code",
   "source": "print(prompt)",
   "outputs": [
    {
     "name": "stdout",
     "output_type": "stream",
     "text": [
      "input_variables=['agent_scratchpad', 'input', 'tool_names', 'tools'] input_types={} partial_variables={} metadata={'lc_hub_owner': 'hwchase17', 'lc_hub_repo': 'react', 'lc_hub_commit_hash': 'd15fe3c426f1c4b3f37c9198853e4a86e20c425ca7f4752ec0c9b0e97ca7ea4d'} template='Answer the following questions as best you can. You have access to the following tools:\\n\\n{tools}\\n\\nUse the following format:\\n\\nQuestion: the input question you must answer\\nThought: you should always think about what to do\\nAction: the action to take, should be one of [{tool_names}]\\nAction Input: the input to the action\\nObservation: the result of the action\\n... (this Thought/Action/Action Input/Observation can repeat N times)\\nThought: I now know the final answer\\nFinal Answer: the final answer to the original input question\\n\\nBegin!\\n\\nQuestion: {input}\\nThought:{agent_scratchpad}'\n"
     ]
    }
   ],
   "execution_count": 8
  },
  {
   "cell_type": "code",
   "metadata": {
    "ExecuteTime": {
     "end_time": "2024-11-05T12:03:29.313471Z",
     "start_time": "2024-11-05T12:03:29.287045Z"
    }
   },
   "source": [
    "# Construct the ReAct agent\n",
    "agent = create_react_agent(model, tools, prompt)"
   ],
   "outputs": [],
   "execution_count": 9
  },
  {
   "cell_type": "code",
   "metadata": {
    "ExecuteTime": {
     "end_time": "2024-11-05T12:03:32.306749Z",
     "start_time": "2024-11-05T12:03:32.298918Z"
    }
   },
   "source": [
    "# Create an agent executor by passing in the agent and tools\n",
    "agent_executor = AgentExecutor(agent=agent, tools=tools, verbose=True)"
   ],
   "outputs": [],
   "execution_count": 10
  },
  {
   "cell_type": "code",
   "metadata": {
    "ExecuteTime": {
     "end_time": "2024-11-05T12:03:50.044239Z",
     "start_time": "2024-11-05T12:03:47.907867Z"
    }
   },
   "source": [
    "agent_executor.invoke({\"input\": 'How many characters are in the word \"supercalifragilisticexpialidocious\"?'})"
   ],
   "outputs": [
    {
     "name": "stdout",
     "output_type": "stream",
     "text": [
      "\n",
      "\n",
      "\u001B[1m> Entering new AgentExecutor chain...\u001B[0m\n",
      "\u001B[32;1m\u001B[1;3mI need to count the number of characters in the word \"supercalifragilisticexpialidocious\".\n",
      "Action: Count Characters in a text string\n",
      "Action Input: \"supercalifragilisticexpialidocious\"\u001B[0m\u001B[36;1m\u001B[1;3m34\u001B[0m\u001B[32;1m\u001B[1;3mI now know the final answer\n",
      "Final Answer: 34\u001B[0m\n",
      "\n",
      "\u001B[1m> Finished chain.\u001B[0m\n"
     ]
    },
    {
     "data": {
      "text/plain": [
       "{'input': 'How many characters are in the word \"supercalifragilisticexpialidocious\"?',\n",
       " 'output': '34'}"
      ]
     },
     "execution_count": 11,
     "metadata": {},
     "output_type": "execute_result"
    }
   ],
   "execution_count": 11
  },
  {
   "cell_type": "code",
   "metadata": {
    "ExecuteTime": {
     "end_time": "2024-11-05T12:04:04.470597Z",
     "start_time": "2024-11-05T12:04:02.190872Z"
    }
   },
   "source": [
    "# Import necessary classes and functions:\n",
    "from langchain.agents import AgentExecutor, create_react_agent\n",
    "from langchain import hub\n",
    "from langchain_openai import ChatOpenAI\n",
    "from langchain.tools import Tool\n",
    "\n",
    "# Defining the LLM to use:\n",
    "chat_model = ChatOpenAI()\n",
    "\n",
    "\n",
    "# Function to count the number of characters in a string:\n",
    "def count_characters_in_string(string):\n",
    "    return len(string)\n",
    "\n",
    "\n",
    "# Create a list of tools:\n",
    "# Currently, only one tool is defined that counts characters in a text string.\n",
    "tools = [\n",
    "    Tool.from_function(\n",
    "        func=count_characters_in_string,\n",
    "        name=\"Count Characters in a text string\",\n",
    "        description=\"Count the number of characters in a text string\",\n",
    "    )\n",
    "]\n",
    "\n",
    "# Download a react prompt!\n",
    "prompt = hub.pull(\"hwchase17/react\")\n",
    "\n",
    "# Construct the ReAct agent:\n",
    "agent = create_react_agent(model, tools, prompt)\n",
    "\n",
    "# Initialize an agent with the defined tools and # Create an agent executor by passing in the agent and tools\n",
    "agent_executor = AgentExecutor(agent=agent, tools=tools, verbose=True)\n",
    "\n",
    "# Invoke the agent with a query to count the characters in the given word\n",
    "agent_executor.invoke(\n",
    "    {\n",
    "        \"input\": 'How many characters are in the word \"supercalifragilisticexpialidocious\"?'\n",
    "    }\n",
    ")\n",
    "\n",
    "# The expected output: 'There are 34 characters in the word  # \"supercalifragilisticexpialidocious\".'"
   ],
   "outputs": [
    {
     "name": "stderr",
     "output_type": "stream",
     "text": [
      "/Users/gordontveito-duncan/Documents/GitHub/prompt-engineering-for-generative-ai-examples/venv/lib/python3.9/site-packages/langsmith/client.py:354: LangSmithMissingAPIKeyWarning: API key must be provided when using hosted LangSmith API\n",
      "  warnings.warn(\n"
     ]
    },
    {
     "name": "stdout",
     "output_type": "stream",
     "text": [
      "\n",
      "\n",
      "\u001B[1m> Entering new AgentExecutor chain...\u001B[0m\n",
      "\u001B[32;1m\u001B[1;3mI should count the characters in the word \"supercalifragilisticexpialidocious\"\n",
      "Action: Count Characters in a text string\n",
      "Action Input: supercalifragilisticexpialidocious\u001B[0m\u001B[36;1m\u001B[1;3m34\u001B[0m\u001B[32;1m\u001B[1;3mI now know the final answer\n",
      "Final Answer: 34\u001B[0m\n",
      "\n",
      "\u001B[1m> Finished chain.\u001B[0m\n"
     ]
    },
    {
     "data": {
      "text/plain": [
       "{'input': 'How many characters are in the word \"supercalifragilisticexpialidocious\"?',\n",
       " 'output': '34'}"
      ]
     },
     "execution_count": 12,
     "metadata": {},
     "output_type": "execute_result"
    }
   ],
   "execution_count": 12
  },
  {
   "metadata": {},
   "cell_type": "code",
   "outputs": [],
   "execution_count": null,
   "source": ""
  }
 ],
 "metadata": {
  "kernelspec": {
   "display_name": "base",
   "language": "python",
   "name": "python3"
  },
  "language_info": {
   "codemirror_mode": {
    "name": "ipython",
    "version": 3
   },
   "file_extension": ".py",
   "mimetype": "text/x-python",
   "name": "python",
   "nbconvert_exporter": "python",
   "pygments_lexer": "ipython3",
   "version": "3.9.13"
  },
  "orig_nbformat": 4
 },
 "nbformat": 4,
 "nbformat_minor": 2
}
