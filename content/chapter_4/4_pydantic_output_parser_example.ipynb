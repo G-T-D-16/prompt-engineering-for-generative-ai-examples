{
 "cells": [
  {
   "cell_type": "code",
   "metadata": {
    "ExecuteTime": {
     "end_time": "2024-10-11T11:35:27.669593Z",
     "start_time": "2024-10-11T11:35:27.653622Z"
    }
   },
   "source": [
    "from langchain_core.prompts.chat import (\n",
    "    ChatPromptTemplate,\n",
    "    SystemMessagePromptTemplate,\n",
    ")\n",
    "from langchain_openai.chat_models import ChatOpenAI\n",
    "from langchain.output_parsers import PydanticOutputParser\n",
    "from pydantic.v1 import BaseModel, Field\n",
    "from typing import List\n",
    "import os\n",
    "from dotenv import load_dotenv\n",
    "\n",
    "# Load environment variables from .env file\n",
    "load_dotenv()"
   ],
   "outputs": [
    {
     "data": {
      "text/plain": [
       "True"
      ]
     },
     "execution_count": 5,
     "metadata": {},
     "output_type": "execute_result"
    }
   ],
   "execution_count": 5
  },
  {
   "cell_type": "code",
   "metadata": {
    "ExecuteTime": {
     "end_time": "2024-10-11T11:35:28.500409Z",
     "start_time": "2024-10-11T11:35:28.495239Z"
    }
   },
   "source": [
    "temperature = 0.0\n",
    "\n",
    "class BusinessName(BaseModel):\n",
    "    name: str = Field(description=\"The name of the business\")\n",
    "    rating_score: float = Field(description=\"The rating score of the business. 0 is the worst, 10 is the best.\")\n",
    "\n",
    "class BusinessNames(BaseModel):\n",
    "    names: List[BusinessName] = Field(description=\"A list of business names\")\n",
    "\n",
    "# Set up a parser + inject instructions into the prompt template.\n",
    "parser = PydanticOutputParser(pydantic_object=BusinessNames)\n",
    "\n",
    "principles = \"\"\"\n",
    "- The name must be easy to remember.\n",
    "- Use the {industry} industry and Company context to create an effective name.\n",
    "- The name must be easy to pronounce.\n",
    "- You must only return the name without any other text or characters.\n",
    "- Avoid returning full stops, \\n or any other characters.\n",
    "- The maximum length of the name must be 10 characters.\n",
    "\"\"\""
   ],
   "outputs": [],
   "execution_count": 6
  },
  {
   "cell_type": "code",
   "metadata": {
    "ExecuteTime": {
     "end_time": "2024-10-11T11:35:31.324115Z",
     "start_time": "2024-10-11T11:35:31.296393Z"
    }
   },
   "source": [
    "# Chat Model Output Parser:\n",
    "model = ChatOpenAI() \n",
    "template = \"\"\"Generate 5 business names for a new start up company in the {industry} industry. \n",
    "You must follow the following principles: {principles}\n",
    "{format_instructions}\n",
    "\"\"\"\n",
    "system_message_prompt = SystemMessagePromptTemplate.from_template(template)\n",
    "chat_prompt = ChatPromptTemplate.from_messages([system_message_prompt])"
   ],
   "outputs": [],
   "execution_count": 7
  },
  {
   "cell_type": "code",
   "metadata": {
    "ExecuteTime": {
     "end_time": "2024-10-11T11:37:33.555762Z",
     "start_time": "2024-10-11T11:37:32.095668Z"
    }
   },
   "source": [
    "prompt_and_model = chat_prompt | model\n",
    "\n",
    "result = prompt_and_model.invoke(\n",
    "    {\n",
    "        \"principles\": principles,\n",
    "        \"industry\": \"Data Science\",\n",
    "        \"format_instructions\": parser.get_format_instructions(),\n",
    "    }\n",
    ")\n",
    "# The output parser, parses the LLM response into a Pydantic object\n",
    "print(parser.parse(result.content))"
   ],
   "outputs": [
    {
     "name": "stdout",
     "output_type": "stream",
     "text": [
      "names=[BusinessName(name='DataWave', rating_score=9.0), BusinessName(name='InfoMind', rating_score=8.0), BusinessName(name='AnalytiX', rating_score=8.0), BusinessName(name='DataSync', rating_score=7.0), BusinessName(name='Insighta', rating_score=7.0)]\n"
     ]
    }
   ],
   "execution_count": 9
  },
  {
   "cell_type": "code",
   "metadata": {
    "ExecuteTime": {
     "end_time": "2024-10-11T11:37:49.733409Z",
     "start_time": "2024-10-11T11:37:47.020847Z"
    }
   },
   "source": [
    "chain = chat_prompt | model | parser\n",
    "\n",
    "result = chain.invoke(\n",
    "    {\n",
    "        \"principles\": principles,   \n",
    "        \"industry\": \"Data Science\",\n",
    "        \"format_instructions\": parser.get_format_instructions(),\n",
    "    }\n",
    ")\n",
    "print(result)"
   ],
   "outputs": [
    {
     "name": "stdout",
     "output_type": "stream",
     "text": [
      "names=[BusinessName(name='DataWiz', rating_score=8.0), BusinessName(name='ByteIQ', rating_score=7.5), BusinessName(name='LogicLab', rating_score=8.2), BusinessName(name='InfoSync', rating_score=7.8), BusinessName(name='DataAce', rating_score=8.5)]\n"
     ]
    }
   ],
   "execution_count": 10
  },
  {
   "cell_type": "code",
   "metadata": {
    "ExecuteTime": {
     "end_time": "2024-10-11T11:38:45.854962Z",
     "start_time": "2024-10-11T11:38:43.902740Z"
    }
   },
   "source": [
    "# Technically you can also write it like model() which uses the __call__ method. However the _call__ method is an older syntax.\n",
    "\n",
    "# Or simply use model.invoke(input) whilst using .format_prompt():\n",
    "chat_response_output = model.invoke(\n",
    "    chat_prompt.format_prompt(\n",
    "        principles=principles,\n",
    "        industry=\"Data Science\",\n",
    "        format_instructions=parser.get_format_instructions(),\n",
    "    ).to_messages()\n",
    ")\n",
    "\n",
    "pydantic_schema: BusinessNames = parser.parse(chat_response_output.content)\n",
    "print(pydantic_schema, \"\\n\")\n",
    "print(pydantic_schema.json())"
   ],
   "outputs": [
    {
     "name": "stdout",
     "output_type": "stream",
     "text": [
      "names=[BusinessName(name='DataWiz', rating_score=8.5), BusinessName(name='ByteIQ', rating_score=8.0), BusinessName(name='AlgoLab', rating_score=7.5), BusinessName(name='Insighta', rating_score=7.2), BusinessName(name='Statify', rating_score=7.8)] \n",
      "\n",
      "{\"names\": [{\"name\": \"DataWiz\", \"rating_score\": 8.5}, {\"name\": \"ByteIQ\", \"rating_score\": 8.0}, {\"name\": \"AlgoLab\", \"rating_score\": 7.5}, {\"name\": \"Insighta\", \"rating_score\": 7.2}, {\"name\": \"Statify\", \"rating_score\": 7.8}]}\n"
     ]
    }
   ],
   "execution_count": 11
  },
  {
   "metadata": {},
   "cell_type": "code",
   "outputs": [],
   "execution_count": null,
   "source": ""
  }
 ],
 "metadata": {
  "kernelspec": {
   "display_name": "base",
   "language": "python",
   "name": "python3"
  },
  "language_info": {
   "codemirror_mode": {
    "name": "ipython",
    "version": 3
   },
   "file_extension": ".py",
   "mimetype": "text/x-python",
   "name": "python",
   "nbconvert_exporter": "python",
   "pygments_lexer": "ipython3",
   "version": "3.9.13"
  }
 },
 "nbformat": 4,
 "nbformat_minor": 2
}
