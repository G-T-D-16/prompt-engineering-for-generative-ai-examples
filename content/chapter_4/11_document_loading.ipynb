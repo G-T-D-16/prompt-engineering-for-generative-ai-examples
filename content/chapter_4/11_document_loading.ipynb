{
 "cells": [
  {
   "cell_type": "code",
   "metadata": {
    "ExecuteTime": {
     "end_time": "2024-10-12T08:33:36.453125Z",
     "start_time": "2024-10-12T08:33:35.504314Z"
    }
   },
   "source": [
    "%pip install pdf2image pypdf docx2txt --quiet"
   ],
   "outputs": [
    {
     "name": "stdout",
     "output_type": "stream",
     "text": [
      "Note: you may need to restart the kernel to use updated packages.\n"
     ]
    }
   ],
   "execution_count": 8
  },
  {
   "cell_type": "code",
   "metadata": {
    "ExecuteTime": {
     "end_time": "2024-10-12T08:33:36.458044Z",
     "start_time": "2024-10-12T08:33:36.455188Z"
    }
   },
   "source": [
    "from langchain_community.document_loaders import Docx2txtLoader\n",
    "from langchain_community.document_loaders import PyPDFLoader\n",
    "from langchain_community.document_loaders.csv_loader import CSVLoader\n",
    "import glob\n",
    "\n",
    "# To store the documents across all data sources:\n",
    "all_documents = []"
   ],
   "outputs": [],
   "execution_count": 9
  },
  {
   "attachments": {},
   "cell_type": "markdown",
   "metadata": {},
   "source": [
    "# 1. Load the .pdf document:\n"
   ]
  },
  {
   "cell_type": "code",
   "metadata": {
    "ExecuteTime": {
     "end_time": "2024-10-12T08:33:38.675883Z",
     "start_time": "2024-10-12T08:33:36.458893Z"
    }
   },
   "source": [
    "loader = PyPDFLoader(\"data/principles_of_marketing_book.pdf\")\n",
    "pages = loader.load_and_split()\n",
    "\n",
    "print(pages[0])"
   ],
   "outputs": [
    {
     "name": "stdout",
     "output_type": "stream",
     "text": [
      "page_content='Principles of Mark eting' metadata={'source': 'data/principles_of_marketing_book.pdf', 'page': 0}\n"
     ]
    }
   ],
   "execution_count": 10
  },
  {
   "cell_type": "code",
   "metadata": {
    "ExecuteTime": {
     "end_time": "2024-10-12T08:33:38.678226Z",
     "start_time": "2024-10-12T08:33:38.676614Z"
    }
   },
   "source": [
    "# Add extra metadata to each page:\n",
    "for page in pages:\n",
    "    page.metadata[\"description\"] = \"Principles of Marketing Book\""
   ],
   "outputs": [],
   "execution_count": 11
  },
  {
   "cell_type": "code",
   "metadata": {
    "ExecuteTime": {
     "end_time": "2024-10-12T08:33:38.681797Z",
     "start_time": "2024-10-12T08:33:38.679447Z"
    }
   },
   "source": [
    "# Checking that the metadata has been added:\n",
    "for page in pages[0:2]:\n",
    "    print(page.metadata)\n",
    "\n",
    "# Saving the marketing book pages:\n",
    "all_documents.extend(pages)"
   ],
   "execution_count": 12,
   "outputs": [
    {
     "name": "stdout",
     "output_type": "stream",
     "text": [
      "{'source': 'data/principles_of_marketing_book.pdf', 'page': 0, 'description': 'Principles of Marketing Book'}\n",
      "{'source': 'data/principles_of_marketing_book.pdf', 'page': 1, 'description': 'Principles of Marketing Book'}\n"
     ]
    }
   ]
  },
  {
   "attachments": {},
   "cell_type": "markdown",
   "metadata": {},
   "source": [
    "# 2. Search the data folder for all of the .csv files:\n"
   ]
  },
  {
   "cell_type": "code",
   "metadata": {
    "ExecuteTime": {
     "end_time": "2024-10-12T08:33:38.686278Z",
     "start_time": "2024-10-12T08:33:38.682562Z"
    }
   },
   "source": [
    "csv_files = glob.glob(\"data/*.csv\")\n",
    "\n",
    "# Filter to only include the word Marketing in the file name:\n",
    "csv_files = [f for f in csv_files if \"Marketing\" in f]\n",
    "\n",
    "# For each .csv file:\n",
    "for csv_file in csv_files:\n",
    "    loader = CSVLoader(file_path=csv_file)\n",
    "    data = loader.load()\n",
    "    # Saving the data to the all_documents list:\n",
    "    all_documents.extend(data)"
   ],
   "outputs": [],
   "execution_count": 13
  },
  {
   "attachments": {},
   "cell_type": "markdown",
   "metadata": {},
   "source": [
    "# 3. Extracting 2 marketing reports from Public Google Cloud Storage.\n"
   ]
  },
  {
   "metadata": {
    "ExecuteTime": {
     "end_time": "2024-10-12T08:33:39.143183Z",
     "start_time": "2024-10-12T08:33:38.686898Z"
    }
   },
   "cell_type": "code",
   "source": [
    "import tiktoken\n",
    "from langchain.text_splitter import CharacterTextSplitter\n",
    "from langchain_community.document_loaders import Docx2txtLoader\n",
    "\n",
    "# Initialize the encoding once\n",
    "cl100k_base_encoding = tiktoken.get_encoding(\"cl100k_base\")\n",
    "\n",
    "# Use the encoding in the text splitter\n",
    "text_splitter = CharacterTextSplitter.from_tiktoken_encoder(\n",
    "    encoding_name=\"cl100k_base\",\n",
    "    chunk_size=200,\n",
    "    chunk_overlap=0\n",
    ")\n",
    "\n",
    "urls = [\n",
    "    \"https://storage.googleapis.com/oreilly-content/NutriFusion%20Foods%20Marketing%20Plan%202022.docx\",\n",
    "    \"https://storage.googleapis.com/oreilly-content/NutriFusion%20Foods%20Marketing%20Plan%202023.docx\",\n",
    "]\n",
    "\n",
    "docs = []\n",
    "for url in urls:\n",
    "    loader = Docx2txtLoader(url)\n",
    "    pages = loader.load()\n",
    "    chunks = text_splitter.split_documents(pages)\n",
    "\n",
    "    # Adding the metadata to each chunk:\n",
    "    for chunk in chunks:\n",
    "        chunk.metadata[\"source\"] = \"NutriFusion Foods Marketing Plan - 2022/2023\"\n",
    "    docs.extend(chunks)\n",
    "\n",
    "# Saving the marketing book pages:\n",
    "all_documents.extend(docs)"
   ],
   "outputs": [],
   "execution_count": 14
  },
  {
   "metadata": {},
   "cell_type": "markdown",
   "source": [
    "from langchain.text_splitter import CharacterTextSplitter\n",
    "\n",
    "text_splitter = CharacterTextSplitter.from_tiktoken_encoder(\n",
    "    chunk_size=200, chunk_overlap=0\n",
    ")\n",
    "\n",
    "urls = [\n",
    "    \"https://storage.googleapis.com/oreilly-content/NutriFusion%20Foods%20Marketing%20Plan%202022.docx\",\n",
    "    \"https://storage.googleapis.com/oreilly-content/NutriFusion%20Foods%20Marketing%20Plan%202023.docx\",\n",
    "]\n",
    "\n",
    "docs = []\n",
    "for url in urls:\n",
    "    loader = Docx2txtLoader(url)\n",
    "    pages = loader.load()\n",
    "    chunks = text_splitter.split_documents(pages)\n",
    "    \n",
    "    # Adding the metadata to each chunk:\n",
    "    for chunk in chunks:\n",
    "        chunk.metadata[\"source\"] = \"NutriFusion Foods Marketing Plan - 2022/2023\"\n",
    "    docs.extend(chunks)\n",
    "\n",
    "# Saving the marketing book pages:\n",
    "all_documents.extend(docs)"
   ]
  },
  {
   "metadata": {
    "ExecuteTime": {
     "end_time": "2024-10-12T08:33:39.149507Z",
     "start_time": "2024-10-12T08:33:39.144791Z"
    }
   },
   "cell_type": "code",
   "source": "",
   "outputs": [],
   "execution_count": 14
  }
 ],
 "metadata": {
  "kernelspec": {
   "display_name": "base",
   "language": "python",
   "name": "python3"
  },
  "language_info": {
   "codemirror_mode": {
    "name": "ipython",
    "version": 3
   },
   "file_extension": ".py",
   "mimetype": "text/x-python",
   "name": "python",
   "nbconvert_exporter": "python",
   "pygments_lexer": "ipython3",
   "version": "3.11.6"
  },
  "orig_nbformat": 4
 },
 "nbformat": 4,
 "nbformat_minor": 2
}
