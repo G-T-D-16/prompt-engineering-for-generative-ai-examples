{
 "cells": [
  {
   "metadata": {
    "ExecuteTime": {
     "end_time": "2024-10-12T08:15:06.724308Z",
     "start_time": "2024-10-12T08:15:02.883954Z"
    }
   },
   "cell_type": "code",
   "source": [
    "import tiktoken\n",
    "from langchain.prompts.example_selector import LengthBasedExampleSelector\n",
    "from langchain_core.prompts import PromptTemplate, FewShotPromptTemplate\n",
    "from langchain_core.messages import SystemMessage\n",
    "from langchain_openai import ChatOpenAI\n",
    "from dotenv import load_dotenv\n",
    "\n",
    "# Load environment variables from .env file\n",
    "load_dotenv()\n",
    "\n",
    "# Initialize the encoding once\n",
    "cl100k_base_encoding = tiktoken.get_encoding(\"cl100k_base\")\n",
    "\n",
    "def num_tokens_from_string(string: str) -> int:\n",
    "    \"\"\"Returns the number of tokens in a text string using cl100k_base encoding.\"\"\"\n",
    "    num_tokens = len(cl100k_base_encoding.encode(string))\n",
    "    return num_tokens\n",
    "\n",
    "# Define examples and prompt template\n",
    "examples = [\n",
    "    {\"input\": \"Gollum\", \"output\": \"<Story involving Gollum>\"},\n",
    "    {\"input\": \"Gandalf\", \"output\": \"<Story involving Gandalf>\"},\n",
    "    {\"input\": \"Bilbo\", \"output\": \"<Story involving Bilbo>\"},\n",
    "]\n",
    "\n",
    "story_prompt = PromptTemplate(\n",
    "    input_variables=[\"input\", \"output\"],\n",
    "    template=\"Character: {input}\\nStory: {output}\",\n",
    ")\n",
    "\n",
    "# Create the LengthBasedExampleSelector using cl100k_base encoding\n",
    "example_selector = LengthBasedExampleSelector(\n",
    "    examples=examples,\n",
    "    example_prompt=story_prompt,\n",
    "    max_length=1000,  # 1000 tokens are to be included from examples in the prompt\n",
    "    get_text_length=num_tokens_from_string,\n",
    ")\n",
    "\n",
    "dynamic_prompt = FewShotPromptTemplate(\n",
    "    example_selector=example_selector,\n",
    "    example_prompt=story_prompt,\n",
    "    prefix=\"Generate a story for {character} using the current Character/Story pairs from all of the characters as context.\",\n",
    "    suffix=\"Character: {character}\\nStory:\",\n",
    "    input_variables=[\"character\"],\n",
    ")\n",
    "\n",
    "# Provide a new character from lord of the rings\n",
    "formatted_prompt = dynamic_prompt.format(character=\"Frodo\")\n",
    "\n",
    "print(formatted_prompt)\n",
    "\n",
    "model = ChatOpenAI()\n",
    "\n",
    "result = model.invoke([SystemMessage(content=formatted_prompt)])\n",
    "\n",
    "print(result.content)"
   ],
   "outputs": [
    {
     "name": "stdout",
     "output_type": "stream",
     "text": [
      "Generate a story for Frodo using the current Character/Story pairs from all of the characters as context.\n",
      "\n",
      "Character: Gollum\n",
      "Story: <Story involving Gollum>\n",
      "\n",
      "Character: Gandalf\n",
      "Story: <Story involving Gandalf>\n",
      "\n",
      "Character: Bilbo\n",
      "Story: <Story involving Bilbo>\n",
      "\n",
      "Character: Frodo\n",
      "Story:\n",
      "Frodo was on a daunting journey to destroy the One Ring, a treacherous task that had fallen upon him unexpectedly. As he traveled through Middle-earth, he encountered many challenges and dangers, but none were as worrisome as the presence of Gollum, the twisted creature who once possessed the Ring.\n",
      "\n",
      "Gollum's obsession with the Ring made him a constant threat to Frodo's mission. His deceitful nature and erratic behavior put Frodo and his companions in grave danger multiple times. However, Frodo couldn't help but feel a sense of pity for Gollum, knowing the toll the Ring had taken on him.\n",
      "\n",
      "In his darkest moments, Frodo sought guidance from Gandalf, the wise wizard who had set him on this path. Gandalf's words of wisdom and encouragement gave Frodo the strength to carry on, even when the burden of the Ring seemed too heavy to bear.\n",
      "\n",
      "Throughout his journey, Frodo also found solace in the memories of his beloved uncle, Bilbo. Remembering the adventures they had shared and the lessons Bilbo had imparted on him, Frodo found the courage to face whatever challenges lay ahead.\n",
      "\n",
      "Despite the dangers that lurked around every corner, Frodo pressed on, knowing that the fate of Middle-earth rested on his shoulders. With the support of his friends and the lessons he had learned from those who came before him, Frodo was determined to see his quest through to the end, no matter the cost.\n"
     ]
    }
   ],
   "execution_count": 3
  },
  {
   "cell_type": "code",
   "metadata": {},
   "source": [
    "from langchain_core.prompts import FewShotPromptTemplate, PromptTemplate\n",
    "from langchain.prompts.example_selector import LengthBasedExampleSelector\n",
    "from langchain_openai.chat_models import ChatOpenAI\n",
    "from langchain_core.messages import SystemMessage\n",
    "import tiktoken"
   ],
   "outputs": [],
   "execution_count": null
  },
  {
   "cell_type": "code",
   "metadata": {},
   "source": [
    "examples = [\n",
    "    {\"input\": \"Gollum\", \"output\": \"<Story involving Gollum>\"},\n",
    "    {\"input\": \"Gandalf\", \"output\": \"<Story involving Gandalf>\"},\n",
    "    {\"input\": \"Bilbo\", \"output\": \"<Story involving Bilbo>\"},\n",
    "]"
   ],
   "outputs": [],
   "execution_count": null
  },
  {
   "cell_type": "code",
   "metadata": {},
   "source": [
    "story_prompt = PromptTemplate(\n",
    "    input_variables=[\"input\", \"output\"],\n",
    "    template=\"Character: {input}\\nStory: {output}\",\n",
    ")"
   ],
   "outputs": [],
   "execution_count": null
  },
  {
   "cell_type": "code",
   "metadata": {},
   "source": [
    "def num_tokens_from_string(string: str) -> int:\n",
    "    \"\"\"Returns the number of tokens in a text string.\"\"\"\n",
    "    encoding = tiktoken.get_encoding(\"cl100k_base\")\n",
    "    num_tokens = len(encoding.encode(string))\n",
    "    return num_tokens"
   ],
   "outputs": [],
   "execution_count": null
  },
  {
   "cell_type": "code",
   "metadata": {},
   "source": [
    "example_selector = LengthBasedExampleSelector(\n",
    "    examples=examples,\n",
    "    example_prompt=story_prompt,\n",
    "    max_length=1000, # 1000 tokens are to be included from examples in the prompt\n",
    "    # get_text_length: Callable[[str], int] = lambda x: len(re.split(\"\\n| \", x))\n",
    "    # You have modified the get_text_length function to work with the TikToken library based on token usage:\n",
    "    get_text_length=num_tokens_from_string,\n",
    ")"
   ],
   "outputs": [],
   "execution_count": null
  },
  {
   "cell_type": "code",
   "metadata": {},
   "source": [
    "dynamic_prompt = FewShotPromptTemplate(\n",
    "    example_selector=example_selector,\n",
    "    example_prompt=story_prompt,\n",
    "    prefix=\"Generate a story for {character} using the current Character/Story pairs from all of the characters as context.\",\n",
    "    suffix=\"Character: {character}\\nStory:\",\n",
    "    input_variables=[\"character\"],\n",
    ")"
   ],
   "outputs": [],
   "execution_count": null
  },
  {
   "cell_type": "code",
   "metadata": {},
   "source": [
    "# Provide a new character from lord of the rings\n",
    "formatted_prompt = dynamic_prompt.format(character=\"Frodo\")"
   ],
   "outputs": [],
   "execution_count": null
  },
  {
   "cell_type": "code",
   "metadata": {},
   "source": [
    "print(formatted_prompt)"
   ],
   "outputs": [],
   "execution_count": null
  },
  {
   "cell_type": "code",
   "metadata": {},
   "source": [
    "model = ChatOpenAI()\n",
    "\n",
    "result = model.invoke([SystemMessage(content=formatted_prompt)])\n",
    "\n",
    "print(result.content)"
   ],
   "outputs": [],
   "execution_count": null
  }
 ],
 "metadata": {
  "kernelspec": {
   "display_name": "base",
   "language": "python",
   "name": "python3"
  },
  "language_info": {
   "codemirror_mode": {
    "name": "ipython",
    "version": 3
   },
   "file_extension": ".py",
   "mimetype": "text/x-python",
   "name": "python",
   "nbconvert_exporter": "python",
   "pygments_lexer": "ipython3",
   "version": "3.9.13"
  },
  "orig_nbformat": 4
 },
 "nbformat": 4,
 "nbformat_minor": 2
}
