{
 "cells": [
  {
   "cell_type": "code",
   "metadata": {
    "ExecuteTime": {
     "end_time": "2024-09-22T11:21:34.839522Z",
     "start_time": "2024-09-22T11:21:24.392280Z"
    }
   },
   "source": [
    "from dotenv import load_dotenv\n",
    "import os\n",
    "\n",
    "# Load environment variables from .env file\n",
    "load_dotenv()\n",
    "\n",
    "# Define two variants of the prompt to test zero-shot\n",
    "# vs few-shot:\n",
    "prompt_A = \"\"\"Product description: A pair of shoes that can\n",
    "fit any foot size.\n",
    "Seed words: adaptable, fit, omni-fit.\n",
    "Product names:\"\"\"\n",
    "\n",
    "prompt_B = \"\"\"Product description: A home milkshake maker.\n",
    "Seed words: fast, healthy, compact.\n",
    "Product names: HomeShaker, Fit Shaker, QuickShake, Shake\n",
    "Maker\n",
    "\n",
    "Product description: A watch that can tell accurate time in\n",
    "space.\n",
    "Seed words: astronaut, space-hardened, eliptical orbit\n",
    "Product names: AstroTime, SpaceGuard, Orbit-Accurate,\n",
    "EliptoTime.\n",
    "\n",
    "Product description: A pair of shoes that can fit any foot\n",
    "size.\n",
    "Seed words: adaptable, fit, omni-fit.\n",
    "Product names:\"\"\"\n",
    "\n",
    "test_prompts = [prompt_A, prompt_B]\n",
    "\n",
    "import pandas as pd\n",
    "from openai import OpenAI\n",
    "\n",
    "# Set your OpenAI key as an environment variable\n",
    "# https://platform.openai.com/api-keys\n",
    "client = OpenAI(\n",
    "  api_key=os.environ['OPEN_API_KEY'],\n",
    ")\n",
    "\n",
    "def get_response(prompt):\n",
    "    response = client.chat.completions.create(\n",
    "        model=\"gpt-3.5-turbo\",\n",
    "        messages=[\n",
    "            {\n",
    "                \"role\": \"system\",\n",
    "                \"content\": \"You are a helpful assistant.\"\n",
    "            },\n",
    "            {\n",
    "                \"role\": \"user\",\n",
    "                \"content\": prompt\n",
    "            }\n",
    "        ]\n",
    "    )\n",
    "    return response.choices[0].message.content\n",
    "\n",
    "# Iterate through the prompts and get responses\n",
    "responses = []\n",
    "num_tests = 5\n",
    "\n",
    "for idx, prompt in enumerate(test_prompts):\n",
    "    # prompt number as a letter\n",
    "    var_name = chr(ord('A') + idx)\n",
    "\n",
    "    for i in range(num_tests):\n",
    "        # Get a response from the model\n",
    "        response = get_response(prompt)\n",
    "\n",
    "        data = {\n",
    "            \"variant\": var_name,\n",
    "            \"prompt\": prompt, \n",
    "            \"response\": response\n",
    "            }\n",
    "        responses.append(data)\n",
    "\n",
    "# Convert responses into a dataframe\n",
    "df = pd.DataFrame(responses)\n",
    "\n",
    "# Save the dataframe as a CSV file\n",
    "df.to_csv(\"responses.csv\", index=False)\n",
    "\n",
    "print(df)"
   ],
   "outputs": [
    {
     "name": "stdout",
     "output_type": "stream",
     "text": [
      "  variant                                             prompt  \\\n",
      "0       A  Product description: A pair of shoes that can\\...   \n",
      "1       A  Product description: A pair of shoes that can\\...   \n",
      "2       A  Product description: A pair of shoes that can\\...   \n",
      "3       A  Product description: A pair of shoes that can\\...   \n",
      "4       A  Product description: A pair of shoes that can\\...   \n",
      "5       B  Product description: A home milkshake maker.\\n...   \n",
      "6       B  Product description: A home milkshake maker.\\n...   \n",
      "7       B  Product description: A home milkshake maker.\\n...   \n",
      "8       B  Product description: A home milkshake maker.\\n...   \n",
      "9       B  Product description: A home milkshake maker.\\n...   \n",
      "\n",
      "                                            response  \n",
      "0  1. OmniFit Shoes\\n2. Adaptawear\\n3. FlexiFootw...  \n",
      "1  1. OmniFit Solemates\\n2. AdaptiStep Shoes\\n3. ...  \n",
      "2  1. OmniStep\\n2. FitFlex\\n3. AdaptiSoles\\n4. Ve...  \n",
      "3  1. OmniFit Shoes\\n2. FlexiFit Footwear\\n3. Ada...  \n",
      "4  1. OmniFit Shoes\\n2. AdaptiSole\\n3. OneSizeFit...  \n",
      "5  AdaptaFit Shoes, OmniSize Shoes, FitAll Footwe...  \n",
      "6  AdaptiStep, FitFlex Shoes, OmniFitz, Universal...  \n",
      "7  AdaptaFit, OmniSize, All-Fit Shoes, FlexiFit S...  \n",
      "8  FlexFit Shoes, OmniStep, AdaptiSole, SizeShift...  \n",
      "9   FitStep, AllFit Shoes, OmniStep, SizeFlex Shoes.  \n"
     ]
    }
   ],
   "execution_count": 34
  },
  {
   "cell_type": "code",
   "metadata": {
    "ExecuteTime": {
     "end_time": "2024-09-24T10:44:37.416947Z",
     "start_time": "2024-09-24T10:44:37.095237Z"
    }
   },
   "source": [
    "import ipywidgets as widgets\n",
    "from IPython.display import display\n",
    "import pandas as pd\n",
    "\n",
    "# load the responses.csv file\n",
    "df = pd.read_csv(\"responses.csv\")\n",
    "\n",
    "# Shuffle the dataframe\n",
    "df = df.sample(frac=1).reset_index(drop=True)\n",
    "\n",
    "# df is your dataframe and 'response' is the column with the \n",
    "# text you want to test\n",
    "response_index = 0\n",
    "# add a new column to store feedback\n",
    "df['feedback'] = pd.Series(dtype='str') \n",
    "\n",
    "def on_button_clicked(b):\n",
    "    global response_index\n",
    "    #  convert thumbs up / down to 1 / 0\n",
    "    user_feedback = 1 if b.description == \"\\U0001F44D\" else 0\n",
    "\n",
    "    # update the feedback column\n",
    "    df.at[response_index, 'feedback'] = user_feedback\n",
    "\n",
    "    response_index += 1\n",
    "    if response_index < len(df):\n",
    "        update_response()\n",
    "    else:\n",
    "        # save the feedback to a CSV file\n",
    "        df.to_csv(\"results.csv\", index=False)\n",
    "\n",
    "        print(\"A/B testing completed. Here's the results:\")\n",
    "        # Calculate score and num rows for each variant\n",
    "        summary_df = df.groupby('variant').agg(\n",
    "            count=('feedback', 'count'), \n",
    "            score=('feedback', 'mean')).reset_index()\n",
    "        print(summary_df)\n",
    "        \n",
    "def update_response():\n",
    "    new_response = df.iloc[response_index]['response']\n",
    "    if pd.notna(new_response):\n",
    "        new_response = \"<p>\" + new_response + \"</p>\"\n",
    "    else:\n",
    "        new_response = \"<p>No response</p>\"\n",
    "    response.value = new_response\n",
    "    count_label.value = f\"Response: {response_index + 1}\"\n",
    "    count_label.value += f\"/{len(df)}\"\n",
    "\n",
    "response = widgets.HTML()\n",
    "count_label = widgets.Label()\n",
    "\n",
    "update_response()\n",
    "\n",
    "thumbs_up_button = widgets.Button(description='\\U0001F44D')\n",
    "thumbs_up_button.on_click(on_button_clicked)\n",
    "\n",
    "thumbs_down_button = widgets.Button(\n",
    "    description='\\U0001F44E')\n",
    "thumbs_down_button.on_click(on_button_clicked)\n",
    "\n",
    "button_box = widgets.HBox([thumbs_down_button, \n",
    "thumbs_up_button])\n",
    "\n",
    "display(response, button_box, count_label)"
   ],
   "outputs": [
    {
     "data": {
      "text/plain": [
       "HTML(value='<p>1. OmniFit Shoes\\n2. FlexiFit Footwear\\n3. AdaptWear Shoes\\n4. SizeFlex Shoes\\n5. OneFit Footge…"
      ],
      "application/vnd.jupyter.widget-view+json": {
       "version_major": 2,
       "version_minor": 0,
       "model_id": "bcb2452c9e9345f0a3be539e2f937cee"
      }
     },
     "metadata": {},
     "output_type": "display_data"
    },
    {
     "data": {
      "text/plain": [
       "HBox(children=(Button(description='👎', style=ButtonStyle()), Button(description='👍', style=ButtonStyle())))"
      ],
      "application/vnd.jupyter.widget-view+json": {
       "version_major": 2,
       "version_minor": 0,
       "model_id": "c9e2e0dbe8bd475fab9a43cf0a2cc69b"
      }
     },
     "metadata": {},
     "output_type": "display_data"
    },
    {
     "data": {
      "text/plain": [
       "Label(value='Response: 1/10')"
      ],
      "application/vnd.jupyter.widget-view+json": {
       "version_major": 2,
       "version_minor": 0,
       "model_id": "06db41476be1420e810d2602532c487d"
      }
     },
     "metadata": {},
     "output_type": "display_data"
    }
   ],
   "execution_count": 3
  },
  {
   "metadata": {
    "ExecuteTime": {
     "end_time": "2024-09-22T11:47:05.124768Z",
     "start_time": "2024-09-22T11:46:58.583397Z"
    }
   },
   "cell_type": "code",
   "source": [
    "from dotenv import load_dotenv\n",
    "import os\n",
    "from openai import OpenAI\n",
    "\n",
    "# Load environment variables from .env file\n",
    "load_dotenv()\n",
    "\n",
    "# Set your OpenAI key as an environment variable\n",
    "client = OpenAI(\n",
    "    api_key=os.getenv('OPEN_API_KEY')\n",
    ")\n",
    "\n",
    "# Define the prompt\n",
    "prompt = \"\"\"Describe the new product \"OneFit UltraStride Shoes,\" a shoe that can fit any foot size, in great detail:\"\"\"\n",
    "\n",
    "def get_response(prompt):\n",
    "    response = client.chat.completions.create(\n",
    "        model=\"gpt-3.5-turbo\",\n",
    "        messages=[\n",
    "            {\n",
    "                \"role\": \"system\",\n",
    "                \"content\": \"You are a helpful assistant.\"\n",
    "            },\n",
    "            {\n",
    "                \"role\": \"user\",\n",
    "                \"content\": prompt\n",
    "            }\n",
    "        ]\n",
    "    )\n",
    "    return response.choices[0].message.content\n",
    "\n",
    "# Get and print the response\n",
    "response = get_response(prompt)\n",
    "print(response)"
   ],
   "outputs": [
    {
     "name": "stdout",
     "output_type": "stream",
     "text": [
      "The OneFit UltraStride Shoes is a revolutionary footwear designed to cater to individuals with any foot size. These shoes are engineered with cutting-edge technology and innovative features to provide the ultimate comfort and fit for all wearers.\n",
      "\n",
      "Key features of the OneFit UltraStride Shoes include:\n",
      "\n",
      "1. Adjustable Sizing Technology: The shoes feature a unique sizing mechanism that allows the wearer to adjust the length and width of the shoe to perfectly fit their foot size. This technology ensures a customized fit for every individual, regardless of their foot size or shape.\n",
      "\n",
      "2. Breathable and Flexible Material: The shoes are made from high-quality, breathable materials that provide optimal ventilation and comfort. The flexible construction of the shoes adapts to the natural movement of the foot, offering a seamless wearing experience.\n",
      "\n",
      "3. Enhanced Cushioning and Support: The OneFit UltraStride Shoes are equipped with advanced cushioning and support features to provide maximum comfort and stability. The insole and midsole are designed to absorb impact and reduce strain on the feet, making them ideal for all-day wear.\n",
      "\n",
      "4. Stylish and Versatile Design: These shoes boast a sleek and modern design that is suitable for various occasions and activities. Whether you're running errands, going for a walk, or hitting the gym, the OneFit UltraStride Shoes offer both style and functionality.\n",
      "\n",
      "5. Durable and Long-Lasting: The shoes are built to withstand daily wear and tear, ensuring longevity and durability. The high-quality materials and craftsmanship make the OneFit UltraStride Shoes a reliable choice for those seeking a versatile and long-lasting footwear option.\n",
      "\n",
      "Overall, the OneFit UltraStride Shoes combine innovative technology, comfort, and style to provide a truly unique and exceptional footwear solution for individuals of all foot sizes. Say goodbye to the hassle of finding the perfect shoe size – with the OneFit UltraStride Shoes, the perfect fit is just a few adjustments away.\n"
     ]
    }
   ],
   "execution_count": 2
  },
  {
   "metadata": {},
   "cell_type": "code",
   "outputs": [],
   "execution_count": null,
   "source": ""
  }
 ],
 "metadata": {
  "kernelspec": {
   "display_name": "Python 3",
   "language": "python",
   "name": "python3"
  },
  "language_info": {
   "codemirror_mode": {
    "name": "ipython",
    "version": 3
   },
   "file_extension": ".py",
   "mimetype": "text/x-python",
   "name": "python",
   "nbconvert_exporter": "python",
   "pygments_lexer": "ipython3",
   "version": "3.9.6"
  }
 },
 "nbformat": 4,
 "nbformat_minor": 2
}
